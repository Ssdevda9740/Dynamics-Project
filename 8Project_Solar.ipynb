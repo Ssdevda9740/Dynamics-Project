{
 "cells": [
  {
   "cell_type": "raw",
   "metadata": {},
   "source": [
    "The data consists of 10,000 observations of space taken by the SDSS. Every observation is described by 17 feature columns and 1 class column which identifies it to be either a star, galaxy or quasar.\n",
    "So it seems to be more of a classfication data, as we can see the class column, after reading all the data identifies whether the partilcular data specifies to be of Star, Galaxy or Quasar\n"
   ]
  },
  {
   "cell_type": "code",
   "execution_count": 1,
   "metadata": {},
   "outputs": [],
   "source": [
    "import pandas as pd\n",
    "import numpy as np \n",
    "import matplotlib.pyplot as plt \n",
    "import seaborn as sns\n",
    "import sklearn"
   ]
  },
  {
   "cell_type": "code",
   "execution_count": 2,
   "metadata": {},
   "outputs": [
    {
     "data": {
      "text/html": [
       "<div>\n",
       "<style scoped>\n",
       "    .dataframe tbody tr th:only-of-type {\n",
       "        vertical-align: middle;\n",
       "    }\n",
       "\n",
       "    .dataframe tbody tr th {\n",
       "        vertical-align: top;\n",
       "    }\n",
       "\n",
       "    .dataframe thead th {\n",
       "        text-align: right;\n",
       "    }\n",
       "</style>\n",
       "<table border=\"1\" class=\"dataframe\">\n",
       "  <thead>\n",
       "    <tr style=\"text-align: right;\">\n",
       "      <th></th>\n",
       "      <th>objid</th>\n",
       "      <th>ra</th>\n",
       "      <th>dec</th>\n",
       "      <th>u</th>\n",
       "      <th>g</th>\n",
       "      <th>r</th>\n",
       "      <th>i</th>\n",
       "      <th>z</th>\n",
       "      <th>run</th>\n",
       "      <th>rerun</th>\n",
       "      <th>camcol</th>\n",
       "      <th>field</th>\n",
       "      <th>specobjid</th>\n",
       "      <th>class</th>\n",
       "      <th>redshift</th>\n",
       "      <th>plate</th>\n",
       "      <th>mjd</th>\n",
       "      <th>fiberid</th>\n",
       "    </tr>\n",
       "  </thead>\n",
       "  <tbody>\n",
       "    <tr>\n",
       "      <th>0</th>\n",
       "      <td>1.237650e+18</td>\n",
       "      <td>183.531326</td>\n",
       "      <td>0.089693</td>\n",
       "      <td>19.47406</td>\n",
       "      <td>17.04240</td>\n",
       "      <td>15.94699</td>\n",
       "      <td>15.50342</td>\n",
       "      <td>15.22531</td>\n",
       "      <td>752</td>\n",
       "      <td>301</td>\n",
       "      <td>4</td>\n",
       "      <td>267</td>\n",
       "      <td>3.722360e+18</td>\n",
       "      <td>STAR</td>\n",
       "      <td>-0.000009</td>\n",
       "      <td>3306</td>\n",
       "      <td>54922</td>\n",
       "      <td>491</td>\n",
       "    </tr>\n",
       "    <tr>\n",
       "      <th>1</th>\n",
       "      <td>1.237650e+18</td>\n",
       "      <td>183.598371</td>\n",
       "      <td>0.135285</td>\n",
       "      <td>18.66280</td>\n",
       "      <td>17.21449</td>\n",
       "      <td>16.67637</td>\n",
       "      <td>16.48922</td>\n",
       "      <td>16.39150</td>\n",
       "      <td>752</td>\n",
       "      <td>301</td>\n",
       "      <td>4</td>\n",
       "      <td>267</td>\n",
       "      <td>3.638140e+17</td>\n",
       "      <td>STAR</td>\n",
       "      <td>-0.000055</td>\n",
       "      <td>323</td>\n",
       "      <td>51615</td>\n",
       "      <td>541</td>\n",
       "    </tr>\n",
       "    <tr>\n",
       "      <th>2</th>\n",
       "      <td>1.237650e+18</td>\n",
       "      <td>183.680207</td>\n",
       "      <td>0.126185</td>\n",
       "      <td>19.38298</td>\n",
       "      <td>18.19169</td>\n",
       "      <td>17.47428</td>\n",
       "      <td>17.08732</td>\n",
       "      <td>16.80125</td>\n",
       "      <td>752</td>\n",
       "      <td>301</td>\n",
       "      <td>4</td>\n",
       "      <td>268</td>\n",
       "      <td>3.232740e+17</td>\n",
       "      <td>GALAXY</td>\n",
       "      <td>0.123111</td>\n",
       "      <td>287</td>\n",
       "      <td>52023</td>\n",
       "      <td>513</td>\n",
       "    </tr>\n",
       "    <tr>\n",
       "      <th>3</th>\n",
       "      <td>1.237650e+18</td>\n",
       "      <td>183.870529</td>\n",
       "      <td>0.049911</td>\n",
       "      <td>17.76536</td>\n",
       "      <td>16.60272</td>\n",
       "      <td>16.16116</td>\n",
       "      <td>15.98233</td>\n",
       "      <td>15.90438</td>\n",
       "      <td>752</td>\n",
       "      <td>301</td>\n",
       "      <td>4</td>\n",
       "      <td>269</td>\n",
       "      <td>3.722370e+18</td>\n",
       "      <td>STAR</td>\n",
       "      <td>-0.000111</td>\n",
       "      <td>3306</td>\n",
       "      <td>54922</td>\n",
       "      <td>510</td>\n",
       "    </tr>\n",
       "    <tr>\n",
       "      <th>4</th>\n",
       "      <td>1.237650e+18</td>\n",
       "      <td>183.883288</td>\n",
       "      <td>0.102557</td>\n",
       "      <td>17.55025</td>\n",
       "      <td>16.26342</td>\n",
       "      <td>16.43869</td>\n",
       "      <td>16.55492</td>\n",
       "      <td>16.61326</td>\n",
       "      <td>752</td>\n",
       "      <td>301</td>\n",
       "      <td>4</td>\n",
       "      <td>269</td>\n",
       "      <td>3.722370e+18</td>\n",
       "      <td>STAR</td>\n",
       "      <td>0.000590</td>\n",
       "      <td>3306</td>\n",
       "      <td>54922</td>\n",
       "      <td>512</td>\n",
       "    </tr>\n",
       "    <tr>\n",
       "      <th>5</th>\n",
       "      <td>1.237650e+18</td>\n",
       "      <td>183.847174</td>\n",
       "      <td>0.173694</td>\n",
       "      <td>19.43133</td>\n",
       "      <td>18.46779</td>\n",
       "      <td>18.16451</td>\n",
       "      <td>18.01475</td>\n",
       "      <td>18.04155</td>\n",
       "      <td>752</td>\n",
       "      <td>301</td>\n",
       "      <td>4</td>\n",
       "      <td>269</td>\n",
       "      <td>3.649550e+17</td>\n",
       "      <td>STAR</td>\n",
       "      <td>0.000315</td>\n",
       "      <td>324</td>\n",
       "      <td>51666</td>\n",
       "      <td>594</td>\n",
       "    </tr>\n",
       "    <tr>\n",
       "      <th>6</th>\n",
       "      <td>1.237650e+18</td>\n",
       "      <td>183.864379</td>\n",
       "      <td>0.019201</td>\n",
       "      <td>19.38322</td>\n",
       "      <td>17.88995</td>\n",
       "      <td>17.10537</td>\n",
       "      <td>16.66393</td>\n",
       "      <td>16.36955</td>\n",
       "      <td>752</td>\n",
       "      <td>301</td>\n",
       "      <td>4</td>\n",
       "      <td>269</td>\n",
       "      <td>3.232870e+17</td>\n",
       "      <td>GALAXY</td>\n",
       "      <td>0.100242</td>\n",
       "      <td>287</td>\n",
       "      <td>52023</td>\n",
       "      <td>559</td>\n",
       "    </tr>\n",
       "    <tr>\n",
       "      <th>7</th>\n",
       "      <td>1.237650e+18</td>\n",
       "      <td>183.900081</td>\n",
       "      <td>0.187473</td>\n",
       "      <td>18.97993</td>\n",
       "      <td>17.84496</td>\n",
       "      <td>17.38022</td>\n",
       "      <td>17.20673</td>\n",
       "      <td>17.07071</td>\n",
       "      <td>752</td>\n",
       "      <td>301</td>\n",
       "      <td>4</td>\n",
       "      <td>269</td>\n",
       "      <td>3.722370e+18</td>\n",
       "      <td>STAR</td>\n",
       "      <td>0.000315</td>\n",
       "      <td>3306</td>\n",
       "      <td>54922</td>\n",
       "      <td>515</td>\n",
       "    </tr>\n",
       "    <tr>\n",
       "      <th>8</th>\n",
       "      <td>1.237650e+18</td>\n",
       "      <td>183.924588</td>\n",
       "      <td>0.097246</td>\n",
       "      <td>17.90616</td>\n",
       "      <td>16.97172</td>\n",
       "      <td>16.67541</td>\n",
       "      <td>16.53776</td>\n",
       "      <td>16.47596</td>\n",
       "      <td>752</td>\n",
       "      <td>301</td>\n",
       "      <td>4</td>\n",
       "      <td>270</td>\n",
       "      <td>3.638290e+17</td>\n",
       "      <td>STAR</td>\n",
       "      <td>0.000089</td>\n",
       "      <td>323</td>\n",
       "      <td>51615</td>\n",
       "      <td>595</td>\n",
       "    </tr>\n",
       "    <tr>\n",
       "      <th>9</th>\n",
       "      <td>1.237650e+18</td>\n",
       "      <td>183.973498</td>\n",
       "      <td>0.081626</td>\n",
       "      <td>18.67249</td>\n",
       "      <td>17.71375</td>\n",
       "      <td>17.49362</td>\n",
       "      <td>17.28284</td>\n",
       "      <td>17.22644</td>\n",
       "      <td>752</td>\n",
       "      <td>301</td>\n",
       "      <td>4</td>\n",
       "      <td>270</td>\n",
       "      <td>3.243690e+17</td>\n",
       "      <td>GALAXY</td>\n",
       "      <td>0.040508</td>\n",
       "      <td>288</td>\n",
       "      <td>52000</td>\n",
       "      <td>400</td>\n",
       "    </tr>\n",
       "  </tbody>\n",
       "</table>\n",
       "</div>"
      ],
      "text/plain": [
       "          objid          ra       dec         u         g         r         i  \\\n",
       "0  1.237650e+18  183.531326  0.089693  19.47406  17.04240  15.94699  15.50342   \n",
       "1  1.237650e+18  183.598371  0.135285  18.66280  17.21449  16.67637  16.48922   \n",
       "2  1.237650e+18  183.680207  0.126185  19.38298  18.19169  17.47428  17.08732   \n",
       "3  1.237650e+18  183.870529  0.049911  17.76536  16.60272  16.16116  15.98233   \n",
       "4  1.237650e+18  183.883288  0.102557  17.55025  16.26342  16.43869  16.55492   \n",
       "5  1.237650e+18  183.847174  0.173694  19.43133  18.46779  18.16451  18.01475   \n",
       "6  1.237650e+18  183.864379  0.019201  19.38322  17.88995  17.10537  16.66393   \n",
       "7  1.237650e+18  183.900081  0.187473  18.97993  17.84496  17.38022  17.20673   \n",
       "8  1.237650e+18  183.924588  0.097246  17.90616  16.97172  16.67541  16.53776   \n",
       "9  1.237650e+18  183.973498  0.081626  18.67249  17.71375  17.49362  17.28284   \n",
       "\n",
       "          z  run  rerun  camcol  field     specobjid   class  redshift  plate  \\\n",
       "0  15.22531  752    301       4    267  3.722360e+18    STAR -0.000009   3306   \n",
       "1  16.39150  752    301       4    267  3.638140e+17    STAR -0.000055    323   \n",
       "2  16.80125  752    301       4    268  3.232740e+17  GALAXY  0.123111    287   \n",
       "3  15.90438  752    301       4    269  3.722370e+18    STAR -0.000111   3306   \n",
       "4  16.61326  752    301       4    269  3.722370e+18    STAR  0.000590   3306   \n",
       "5  18.04155  752    301       4    269  3.649550e+17    STAR  0.000315    324   \n",
       "6  16.36955  752    301       4    269  3.232870e+17  GALAXY  0.100242    287   \n",
       "7  17.07071  752    301       4    269  3.722370e+18    STAR  0.000315   3306   \n",
       "8  16.47596  752    301       4    270  3.638290e+17    STAR  0.000089    323   \n",
       "9  17.22644  752    301       4    270  3.243690e+17  GALAXY  0.040508    288   \n",
       "\n",
       "     mjd  fiberid  \n",
       "0  54922      491  \n",
       "1  51615      541  \n",
       "2  52023      513  \n",
       "3  54922      510  \n",
       "4  54922      512  \n",
       "5  51666      594  \n",
       "6  52023      559  \n",
       "7  54922      515  \n",
       "8  51615      595  \n",
       "9  52000      400  "
      ]
     },
     "execution_count": 2,
     "metadata": {},
     "output_type": "execute_result"
    }
   ],
   "source": [
    "ss=pd.read_csv('Solar.csv')\n",
    "ss.head(10)"
   ]
  },
  {
   "cell_type": "code",
   "execution_count": 3,
   "metadata": {},
   "outputs": [
    {
     "data": {
      "text/plain": [
       "objid        float64\n",
       "ra           float64\n",
       "dec          float64\n",
       "u            float64\n",
       "g            float64\n",
       "r            float64\n",
       "i            float64\n",
       "z            float64\n",
       "run            int64\n",
       "rerun          int64\n",
       "camcol         int64\n",
       "field          int64\n",
       "specobjid    float64\n",
       "class         object\n",
       "redshift     float64\n",
       "plate          int64\n",
       "mjd            int64\n",
       "fiberid        int64\n",
       "dtype: object"
      ]
     },
     "execution_count": 3,
     "metadata": {},
     "output_type": "execute_result"
    }
   ],
   "source": [
    "ss.dtypes"
   ]
  },
  {
   "cell_type": "markdown",
   "metadata": {},
   "source": [
    "As we could see that the class has a object variable we need to convert the value into numerical."
   ]
  },
  {
   "cell_type": "code",
   "execution_count": 4,
   "metadata": {},
   "outputs": [],
   "source": [
    "from sklearn.preprocessing import LabelEncoder\n",
    "le=LabelEncoder()\n",
    "ss['class']=le.fit_transform(ss['class'])"
   ]
  },
  {
   "cell_type": "markdown",
   "metadata": {},
   "source": [
    "We need to watch out for the null values in the data, if there then need to convert the null values\n",
    "into some values by mean or the mode function."
   ]
  },
  {
   "cell_type": "code",
   "execution_count": 5,
   "metadata": {},
   "outputs": [
    {
     "data": {
      "text/plain": [
       "objid        0\n",
       "ra           0\n",
       "dec          0\n",
       "u            0\n",
       "g            0\n",
       "r            0\n",
       "i            0\n",
       "z            0\n",
       "run          0\n",
       "rerun        0\n",
       "camcol       0\n",
       "field        0\n",
       "specobjid    0\n",
       "class        0\n",
       "redshift     0\n",
       "plate        0\n",
       "mjd          0\n",
       "fiberid      0\n",
       "dtype: int64"
      ]
     },
     "execution_count": 5,
     "metadata": {},
     "output_type": "execute_result"
    }
   ],
   "source": [
    "ss.isnull().sum()"
   ]
  },
  {
   "cell_type": "code",
   "execution_count": 6,
   "metadata": {},
   "outputs": [
    {
     "data": {
      "text/plain": [
       "<matplotlib.axes._subplots.AxesSubplot at 0xb74e430>"
      ]
     },
     "execution_count": 6,
     "metadata": {},
     "output_type": "execute_result"
    },
    {
     "data": {
      "image/png": "[encoded data removed]",
      "text/plain": [
       "<Figure size 432x288 with 2 Axes>"
      ]
     },
     "metadata": {
      "needs_background": "light"
     },
     "output_type": "display_data"
    }
   ],
   "source": [
    "sns.heatmap(ss.isnull())"
   ]
  },
  {
   "cell_type": "code",
   "execution_count": 7,
   "metadata": {},
   "outputs": [
    {
     "data": {
      "text/html": [
       "<div>\n",
       "<style scoped>\n",
       "    .dataframe tbody tr th:only-of-type {\n",
       "        vertical-align: middle;\n",
       "    }\n",
       "\n",
       "    .dataframe tbody tr th {\n",
       "        vertical-align: top;\n",
       "    }\n",
       "\n",
       "    .dataframe thead th {\n",
       "        text-align: right;\n",
       "    }\n",
       "</style>\n",
       "<table border=\"1\" class=\"dataframe\">\n",
       "  <thead>\n",
       "    <tr style=\"text-align: right;\">\n",
       "      <th></th>\n",
       "      <th>objid</th>\n",
       "      <th>ra</th>\n",
       "      <th>dec</th>\n",
       "      <th>u</th>\n",
       "      <th>g</th>\n",
       "      <th>r</th>\n",
       "      <th>i</th>\n",
       "      <th>z</th>\n",
       "      <th>run</th>\n",
       "      <th>rerun</th>\n",
       "      <th>camcol</th>\n",
       "      <th>field</th>\n",
       "      <th>specobjid</th>\n",
       "      <th>class</th>\n",
       "      <th>redshift</th>\n",
       "      <th>plate</th>\n",
       "      <th>mjd</th>\n",
       "      <th>fiberid</th>\n",
       "    </tr>\n",
       "  </thead>\n",
       "  <tbody>\n",
       "    <tr>\n",
       "      <th>count</th>\n",
       "      <td>1.000000e+04</td>\n",
       "      <td>10000.000000</td>\n",
       "      <td>10000.000000</td>\n",
       "      <td>10000.000000</td>\n",
       "      <td>10000.000000</td>\n",
       "      <td>10000.000000</td>\n",
       "      <td>10000.000000</td>\n",
       "      <td>10000.000000</td>\n",
       "      <td>10000.000000</td>\n",
       "      <td>10000.0</td>\n",
       "      <td>10000.000000</td>\n",
       "      <td>10000.000000</td>\n",
       "      <td>1.000000e+04</td>\n",
       "      <td>10000.000000</td>\n",
       "      <td>10000.000000</td>\n",
       "      <td>10000.000000</td>\n",
       "      <td>10000.000000</td>\n",
       "      <td>10000.000000</td>\n",
       "    </tr>\n",
       "    <tr>\n",
       "      <th>mean</th>\n",
       "      <td>1.237650e+18</td>\n",
       "      <td>175.529987</td>\n",
       "      <td>14.836148</td>\n",
       "      <td>18.619355</td>\n",
       "      <td>17.371931</td>\n",
       "      <td>16.840963</td>\n",
       "      <td>16.583579</td>\n",
       "      <td>16.422833</td>\n",
       "      <td>981.034800</td>\n",
       "      <td>301.0</td>\n",
       "      <td>3.648700</td>\n",
       "      <td>302.380100</td>\n",
       "      <td>1.645022e+18</td>\n",
       "      <td>0.915400</td>\n",
       "      <td>0.143726</td>\n",
       "      <td>1460.986400</td>\n",
       "      <td>52943.533300</td>\n",
       "      <td>353.069400</td>\n",
       "    </tr>\n",
       "    <tr>\n",
       "      <th>std</th>\n",
       "      <td>1.577039e+05</td>\n",
       "      <td>47.783439</td>\n",
       "      <td>25.212207</td>\n",
       "      <td>0.828656</td>\n",
       "      <td>0.945457</td>\n",
       "      <td>1.067764</td>\n",
       "      <td>1.141805</td>\n",
       "      <td>1.203188</td>\n",
       "      <td>273.305024</td>\n",
       "      <td>0.0</td>\n",
       "      <td>1.666183</td>\n",
       "      <td>162.577763</td>\n",
       "      <td>2.013998e+18</td>\n",
       "      <td>0.952856</td>\n",
       "      <td>0.388774</td>\n",
       "      <td>1788.778371</td>\n",
       "      <td>1511.150651</td>\n",
       "      <td>206.298149</td>\n",
       "    </tr>\n",
       "    <tr>\n",
       "      <th>min</th>\n",
       "      <td>1.237650e+18</td>\n",
       "      <td>8.235100</td>\n",
       "      <td>-5.382632</td>\n",
       "      <td>12.988970</td>\n",
       "      <td>12.799550</td>\n",
       "      <td>12.431600</td>\n",
       "      <td>11.947210</td>\n",
       "      <td>11.610410</td>\n",
       "      <td>308.000000</td>\n",
       "      <td>301.0</td>\n",
       "      <td>1.000000</td>\n",
       "      <td>11.000000</td>\n",
       "      <td>2.995780e+17</td>\n",
       "      <td>0.000000</td>\n",
       "      <td>-0.004136</td>\n",
       "      <td>266.000000</td>\n",
       "      <td>51578.000000</td>\n",
       "      <td>1.000000</td>\n",
       "    </tr>\n",
       "    <tr>\n",
       "      <th>25%</th>\n",
       "      <td>1.237650e+18</td>\n",
       "      <td>157.370946</td>\n",
       "      <td>-0.539035</td>\n",
       "      <td>18.178035</td>\n",
       "      <td>16.815100</td>\n",
       "      <td>16.173333</td>\n",
       "      <td>15.853705</td>\n",
       "      <td>15.618285</td>\n",
       "      <td>752.000000</td>\n",
       "      <td>301.0</td>\n",
       "      <td>2.000000</td>\n",
       "      <td>184.000000</td>\n",
       "      <td>3.389248e+17</td>\n",
       "      <td>0.000000</td>\n",
       "      <td>0.000081</td>\n",
       "      <td>301.000000</td>\n",
       "      <td>51900.000000</td>\n",
       "      <td>186.750000</td>\n",
       "    </tr>\n",
       "    <tr>\n",
       "      <th>50%</th>\n",
       "      <td>1.237650e+18</td>\n",
       "      <td>180.394514</td>\n",
       "      <td>0.404166</td>\n",
       "      <td>18.853095</td>\n",
       "      <td>17.495135</td>\n",
       "      <td>16.858770</td>\n",
       "      <td>16.554985</td>\n",
       "      <td>16.389945</td>\n",
       "      <td>756.000000</td>\n",
       "      <td>301.0</td>\n",
       "      <td>4.000000</td>\n",
       "      <td>299.000000</td>\n",
       "      <td>4.966580e+17</td>\n",
       "      <td>1.000000</td>\n",
       "      <td>0.042591</td>\n",
       "      <td>441.000000</td>\n",
       "      <td>51997.000000</td>\n",
       "      <td>351.000000</td>\n",
       "    </tr>\n",
       "    <tr>\n",
       "      <th>75%</th>\n",
       "      <td>1.237650e+18</td>\n",
       "      <td>201.547279</td>\n",
       "      <td>35.649397</td>\n",
       "      <td>19.259232</td>\n",
       "      <td>18.010145</td>\n",
       "      <td>17.512675</td>\n",
       "      <td>17.258550</td>\n",
       "      <td>17.141447</td>\n",
       "      <td>1331.000000</td>\n",
       "      <td>301.0</td>\n",
       "      <td>5.000000</td>\n",
       "      <td>414.000000</td>\n",
       "      <td>2.881300e+18</td>\n",
       "      <td>2.000000</td>\n",
       "      <td>0.092579</td>\n",
       "      <td>2559.000000</td>\n",
       "      <td>54468.000000</td>\n",
       "      <td>510.000000</td>\n",
       "    </tr>\n",
       "    <tr>\n",
       "      <th>max</th>\n",
       "      <td>1.237650e+18</td>\n",
       "      <td>260.884382</td>\n",
       "      <td>68.542265</td>\n",
       "      <td>19.599900</td>\n",
       "      <td>19.918970</td>\n",
       "      <td>24.802040</td>\n",
       "      <td>28.179630</td>\n",
       "      <td>22.833060</td>\n",
       "      <td>1412.000000</td>\n",
       "      <td>301.0</td>\n",
       "      <td>6.000000</td>\n",
       "      <td>768.000000</td>\n",
       "      <td>9.468830e+18</td>\n",
       "      <td>2.000000</td>\n",
       "      <td>5.353854</td>\n",
       "      <td>8410.000000</td>\n",
       "      <td>57481.000000</td>\n",
       "      <td>1000.000000</td>\n",
       "    </tr>\n",
       "  </tbody>\n",
       "</table>\n",
       "</div>"
      ],
      "text/plain": [
       "              objid            ra           dec             u             g  \\\n",
       "count  1.000000e+04  10000.000000  10000.000000  10000.000000  10000.000000   \n",
       "mean   1.237650e+18    175.529987     14.836148     18.619355     17.371931   \n",
       "std    1.577039e+05     47.783439     25.212207      0.828656      0.945457   \n",
       "min    1.237650e+18      8.235100     -5.382632     12.988970     12.799550   \n",
       "25%    1.237650e+18    157.370946     -0.539035     18.178035     16.815100   \n",
       "50%    1.237650e+18    180.394514      0.404166     18.853095     17.495135   \n",
       "75%    1.237650e+18    201.547279     35.649397     19.259232     18.010145   \n",
       "max    1.237650e+18    260.884382     68.542265     19.599900     19.918970   \n",
       "\n",
       "                  r             i             z           run    rerun  \\\n",
       "count  10000.000000  10000.000000  10000.000000  10000.000000  10000.0   \n",
       "mean      16.840963     16.583579     16.422833    981.034800    301.0   \n",
       "std        1.067764      1.141805      1.203188    273.305024      0.0   \n",
       "min       12.431600     11.947210     11.610410    308.000000    301.0   \n",
       "25%       16.173333     15.853705     15.618285    752.000000    301.0   \n",
       "50%       16.858770     16.554985     16.389945    756.000000    301.0   \n",
       "75%       17.512675     17.258550     17.141447   1331.000000    301.0   \n",
       "max       24.802040     28.179630     22.833060   1412.000000    301.0   \n",
       "\n",
       "             camcol         field     specobjid         class      redshift  \\\n",
       "count  10000.000000  10000.000000  1.000000e+04  10000.000000  10000.000000   \n",
       "mean       3.648700    302.380100  1.645022e+18      0.915400      0.143726   \n",
       "std        1.666183    162.577763  2.013998e+18      0.952856      0.388774   \n",
       "min        1.000000     11.000000  2.995780e+17      0.000000     -0.004136   \n",
       "25%        2.000000    184.000000  3.389248e+17      0.000000      0.000081   \n",
       "50%        4.000000    299.000000  4.966580e+17      1.000000      0.042591   \n",
       "75%        5.000000    414.000000  2.881300e+18      2.000000      0.092579   \n",
       "max        6.000000    768.000000  9.468830e+18      2.000000      5.353854   \n",
       "\n",
       "              plate           mjd       fiberid  \n",
       "count  10000.000000  10000.000000  10000.000000  \n",
       "mean    1460.986400  52943.533300    353.069400  \n",
       "std     1788.778371   1511.150651    206.298149  \n",
       "min      266.000000  51578.000000      1.000000  \n",
       "25%      301.000000  51900.000000    186.750000  \n",
       "50%      441.000000  51997.000000    351.000000  \n",
       "75%     2559.000000  54468.000000    510.000000  \n",
       "max     8410.000000  57481.000000   1000.000000  "
      ]
     },
     "execution_count": 7,
     "metadata": {},
     "output_type": "execute_result"
    }
   ],
   "source": [
    "ss.describe()"
   ]
  },
  {
   "cell_type": "code",
   "execution_count": 8,
   "metadata": {},
   "outputs": [
    {
     "data": {
      "text/html": [
       "<div>\n",
       "<style scoped>\n",
       "    .dataframe tbody tr th:only-of-type {\n",
       "        vertical-align: middle;\n",
       "    }\n",
       "\n",
       "    .dataframe tbody tr th {\n",
       "        vertical-align: top;\n",
       "    }\n",
       "\n",
       "    .dataframe thead th {\n",
       "        text-align: right;\n",
       "    }\n",
       "</style>\n",
       "<table border=\"1\" class=\"dataframe\">\n",
       "  <thead>\n",
       "    <tr style=\"text-align: right;\">\n",
       "      <th></th>\n",
       "      <th>objid</th>\n",
       "      <th>ra</th>\n",
       "      <th>dec</th>\n",
       "      <th>u</th>\n",
       "      <th>g</th>\n",
       "      <th>r</th>\n",
       "      <th>i</th>\n",
       "      <th>z</th>\n",
       "      <th>run</th>\n",
       "      <th>rerun</th>\n",
       "      <th>camcol</th>\n",
       "      <th>field</th>\n",
       "      <th>specobjid</th>\n",
       "      <th>class</th>\n",
       "      <th>redshift</th>\n",
       "      <th>plate</th>\n",
       "      <th>mjd</th>\n",
       "      <th>fiberid</th>\n",
       "    </tr>\n",
       "  </thead>\n",
       "  <tbody>\n",
       "    <tr>\n",
       "      <th>objid</th>\n",
       "      <td>1.000000e+00</td>\n",
       "      <td>2.524419e-14</td>\n",
       "      <td>-1.937483e-15</td>\n",
       "      <td>5.581214e-14</td>\n",
       "      <td>1.001149e-13</td>\n",
       "      <td>2.995673e-14</td>\n",
       "      <td>2.212198e-14</td>\n",
       "      <td>-4.107700e-14</td>\n",
       "      <td>-1.553011e-14</td>\n",
       "      <td>NaN</td>\n",
       "      <td>1.921887e-15</td>\n",
       "      <td>5.938881e-16</td>\n",
       "      <td>-1.829075e-15</td>\n",
       "      <td>-3.355500e-15</td>\n",
       "      <td>5.085882e-16</td>\n",
       "      <td>4.156934e-16</td>\n",
       "      <td>-3.317582e-15</td>\n",
       "      <td>4.665195e-15</td>\n",
       "    </tr>\n",
       "    <tr>\n",
       "      <th>ra</th>\n",
       "      <td>2.524419e-14</td>\n",
       "      <td>1.000000e+00</td>\n",
       "      <td>3.596046e-03</td>\n",
       "      <td>3.123756e-02</td>\n",
       "      <td>4.390863e-02</td>\n",
       "      <td>4.710290e-02</td>\n",
       "      <td>4.573107e-02</td>\n",
       "      <td>4.294957e-02</td>\n",
       "      <td>-9.274056e-02</td>\n",
       "      <td>NaN</td>\n",
       "      <td>-6.293831e-03</td>\n",
       "      <td>5.946996e-01</td>\n",
       "      <td>-9.532711e-02</td>\n",
       "      <td>-4.321896e-02</td>\n",
       "      <td>3.030740e-02</td>\n",
       "      <td>-9.532933e-02</td>\n",
       "      <td>-8.688726e-02</td>\n",
       "      <td>5.748482e-02</td>\n",
       "    </tr>\n",
       "    <tr>\n",
       "      <th>dec</th>\n",
       "      <td>-1.937483e-15</td>\n",
       "      <td>3.596046e-03</td>\n",
       "      <td>1.000000e+00</td>\n",
       "      <td>3.527932e-02</td>\n",
       "      <td>6.187471e-02</td>\n",
       "      <td>6.340395e-02</td>\n",
       "      <td>5.829189e-02</td>\n",
       "      <td>5.687030e-02</td>\n",
       "      <td>7.783849e-01</td>\n",
       "      <td>NaN</td>\n",
       "      <td>1.146139e-01</td>\n",
       "      <td>-1.314714e-01</td>\n",
       "      <td>8.834533e-02</td>\n",
       "      <td>-5.891815e-02</td>\n",
       "      <td>6.702076e-02</td>\n",
       "      <td>8.834153e-02</td>\n",
       "      <td>6.614663e-02</td>\n",
       "      <td>1.550124e-01</td>\n",
       "    </tr>\n",
       "    <tr>\n",
       "      <th>u</th>\n",
       "      <td>5.581214e-14</td>\n",
       "      <td>3.123756e-02</td>\n",
       "      <td>3.527932e-02</td>\n",
       "      <td>1.000000e+00</td>\n",
       "      <td>8.492320e-01</td>\n",
       "      <td>6.923790e-01</td>\n",
       "      <td>6.026302e-01</td>\n",
       "      <td>5.514828e-01</td>\n",
       "      <td>3.822910e-02</td>\n",
       "      <td>NaN</td>\n",
       "      <td>9.944672e-03</td>\n",
       "      <td>8.547880e-03</td>\n",
       "      <td>-1.294293e-01</td>\n",
       "      <td>-2.690437e-01</td>\n",
       "      <td>1.637409e-01</td>\n",
       "      <td>-1.294304e-01</td>\n",
       "      <td>-1.687927e-01</td>\n",
       "      <td>1.130112e-02</td>\n",
       "    </tr>\n",
       "    <tr>\n",
       "      <th>g</th>\n",
       "      <td>1.001149e-13</td>\n",
       "      <td>4.390863e-02</td>\n",
       "      <td>6.187471e-02</td>\n",
       "      <td>8.492320e-01</td>\n",
       "      <td>1.000000e+00</td>\n",
       "      <td>9.581062e-01</td>\n",
       "      <td>9.074187e-01</td>\n",
       "      <td>8.796222e-01</td>\n",
       "      <td>5.844630e-02</td>\n",
       "      <td>NaN</td>\n",
       "      <td>1.022304e-02</td>\n",
       "      <td>1.465110e-02</td>\n",
       "      <td>-5.497908e-02</td>\n",
       "      <td>-9.921163e-02</td>\n",
       "      <td>4.075763e-01</td>\n",
       "      <td>-5.498078e-02</td>\n",
       "      <td>-9.277155e-02</td>\n",
       "      <td>4.718739e-02</td>\n",
       "    </tr>\n",
       "    <tr>\n",
       "      <th>r</th>\n",
       "      <td>2.995673e-14</td>\n",
       "      <td>4.710290e-02</td>\n",
       "      <td>6.340395e-02</td>\n",
       "      <td>6.923790e-01</td>\n",
       "      <td>9.581062e-01</td>\n",
       "      <td>1.000000e+00</td>\n",
       "      <td>9.776718e-01</td>\n",
       "      <td>9.691967e-01</td>\n",
       "      <td>5.726060e-02</td>\n",
       "      <td>NaN</td>\n",
       "      <td>1.074725e-02</td>\n",
       "      <td>1.713294e-02</td>\n",
       "      <td>1.978831e-02</td>\n",
       "      <td>4.962769e-02</td>\n",
       "      <td>4.410797e-01</td>\n",
       "      <td>1.978671e-02</td>\n",
       "      <td>-9.344506e-03</td>\n",
       "      <td>6.108141e-02</td>\n",
       "    </tr>\n",
       "    <tr>\n",
       "      <th>i</th>\n",
       "      <td>2.212198e-14</td>\n",
       "      <td>4.573107e-02</td>\n",
       "      <td>5.829189e-02</td>\n",
       "      <td>6.026302e-01</td>\n",
       "      <td>9.074187e-01</td>\n",
       "      <td>9.776718e-01</td>\n",
       "      <td>1.000000e+00</td>\n",
       "      <td>9.815066e-01</td>\n",
       "      <td>4.976478e-02</td>\n",
       "      <td>NaN</td>\n",
       "      <td>1.346079e-02</td>\n",
       "      <td>1.978147e-02</td>\n",
       "      <td>7.295994e-02</td>\n",
       "      <td>1.467908e-01</td>\n",
       "      <td>4.314500e-01</td>\n",
       "      <td>7.295843e-02</td>\n",
       "      <td>5.089616e-02</td>\n",
       "      <td>6.997739e-02</td>\n",
       "    </tr>\n",
       "    <tr>\n",
       "      <th>z</th>\n",
       "      <td>-4.107700e-14</td>\n",
       "      <td>4.294957e-02</td>\n",
       "      <td>5.687030e-02</td>\n",
       "      <td>5.514828e-01</td>\n",
       "      <td>8.796222e-01</td>\n",
       "      <td>9.691967e-01</td>\n",
       "      <td>9.815066e-01</td>\n",
       "      <td>1.000000e+00</td>\n",
       "      <td>4.825225e-02</td>\n",
       "      <td>NaN</td>\n",
       "      <td>1.092981e-02</td>\n",
       "      <td>1.824845e-02</td>\n",
       "      <td>1.123981e-01</td>\n",
       "      <td>2.157584e-01</td>\n",
       "      <td>4.240342e-01</td>\n",
       "      <td>1.123969e-01</td>\n",
       "      <td>9.565845e-02</td>\n",
       "      <td>6.797999e-02</td>\n",
       "    </tr>\n",
       "    <tr>\n",
       "      <th>run</th>\n",
       "      <td>-1.553011e-14</td>\n",
       "      <td>-9.274056e-02</td>\n",
       "      <td>7.783849e-01</td>\n",
       "      <td>3.822910e-02</td>\n",
       "      <td>5.844630e-02</td>\n",
       "      <td>5.726060e-02</td>\n",
       "      <td>4.976478e-02</td>\n",
       "      <td>4.825225e-02</td>\n",
       "      <td>1.000000e+00</td>\n",
       "      <td>NaN</td>\n",
       "      <td>1.518143e-01</td>\n",
       "      <td>-4.638975e-01</td>\n",
       "      <td>9.360436e-02</td>\n",
       "      <td>-7.816172e-02</td>\n",
       "      <td>5.905595e-02</td>\n",
       "      <td>9.360107e-02</td>\n",
       "      <td>7.035433e-02</td>\n",
       "      <td>1.385659e-01</td>\n",
       "    </tr>\n",
       "    <tr>\n",
       "      <th>rerun</th>\n",
       "      <td>NaN</td>\n",
       "      <td>NaN</td>\n",
       "      <td>NaN</td>\n",
       "      <td>NaN</td>\n",
       "      <td>NaN</td>\n",
       "      <td>NaN</td>\n",
       "      <td>NaN</td>\n",
       "      <td>NaN</td>\n",
       "      <td>NaN</td>\n",
       "      <td>NaN</td>\n",
       "      <td>NaN</td>\n",
       "      <td>NaN</td>\n",
       "      <td>NaN</td>\n",
       "      <td>NaN</td>\n",
       "      <td>NaN</td>\n",
       "      <td>NaN</td>\n",
       "      <td>NaN</td>\n",
       "      <td>NaN</td>\n",
       "    </tr>\n",
       "  </tbody>\n",
       "</table>\n",
       "</div>"
      ],
      "text/plain": [
       "              objid            ra           dec             u             g  \\\n",
       "objid  1.000000e+00  2.524419e-14 -1.937483e-15  5.581214e-14  1.001149e-13   \n",
       "ra     2.524419e-14  1.000000e+00  3.596046e-03  3.123756e-02  4.390863e-02   \n",
       "dec   -1.937483e-15  3.596046e-03  1.000000e+00  3.527932e-02  6.187471e-02   \n",
       "u      5.581214e-14  3.123756e-02  3.527932e-02  1.000000e+00  8.492320e-01   \n",
       "g      1.001149e-13  4.390863e-02  6.187471e-02  8.492320e-01  1.000000e+00   \n",
       "r      2.995673e-14  4.710290e-02  6.340395e-02  6.923790e-01  9.581062e-01   \n",
       "i      2.212198e-14  4.573107e-02  5.829189e-02  6.026302e-01  9.074187e-01   \n",
       "z     -4.107700e-14  4.294957e-02  5.687030e-02  5.514828e-01  8.796222e-01   \n",
       "run   -1.553011e-14 -9.274056e-02  7.783849e-01  3.822910e-02  5.844630e-02   \n",
       "rerun           NaN           NaN           NaN           NaN           NaN   \n",
       "\n",
       "                  r             i             z           run  rerun  \\\n",
       "objid  2.995673e-14  2.212198e-14 -4.107700e-14 -1.553011e-14    NaN   \n",
       "ra     4.710290e-02  4.573107e-02  4.294957e-02 -9.274056e-02    NaN   \n",
       "dec    6.340395e-02  5.829189e-02  5.687030e-02  7.783849e-01    NaN   \n",
       "u      6.923790e-01  6.026302e-01  5.514828e-01  3.822910e-02    NaN   \n",
       "g      9.581062e-01  9.074187e-01  8.796222e-01  5.844630e-02    NaN   \n",
       "r      1.000000e+00  9.776718e-01  9.691967e-01  5.726060e-02    NaN   \n",
       "i      9.776718e-01  1.000000e+00  9.815066e-01  4.976478e-02    NaN   \n",
       "z      9.691967e-01  9.815066e-01  1.000000e+00  4.825225e-02    NaN   \n",
       "run    5.726060e-02  4.976478e-02  4.825225e-02  1.000000e+00    NaN   \n",
       "rerun           NaN           NaN           NaN           NaN    NaN   \n",
       "\n",
       "             camcol         field     specobjid         class      redshift  \\\n",
       "objid  1.921887e-15  5.938881e-16 -1.829075e-15 -3.355500e-15  5.085882e-16   \n",
       "ra    -6.293831e-03  5.946996e-01 -9.532711e-02 -4.321896e-02  3.030740e-02   \n",
       "dec    1.146139e-01 -1.314714e-01  8.834533e-02 -5.891815e-02  6.702076e-02   \n",
       "u      9.944672e-03  8.547880e-03 -1.294293e-01 -2.690437e-01  1.637409e-01   \n",
       "g      1.022304e-02  1.465110e-02 -5.497908e-02 -9.921163e-02  4.075763e-01   \n",
       "r      1.074725e-02  1.713294e-02  1.978831e-02  4.962769e-02  4.410797e-01   \n",
       "i      1.346079e-02  1.978147e-02  7.295994e-02  1.467908e-01  4.314500e-01   \n",
       "z      1.092981e-02  1.824845e-02  1.123981e-01  2.157584e-01  4.240342e-01   \n",
       "run    1.518143e-01 -4.638975e-01  9.360436e-02 -7.816172e-02  5.905595e-02   \n",
       "rerun           NaN           NaN           NaN           NaN           NaN   \n",
       "\n",
       "              plate           mjd       fiberid  \n",
       "objid  4.156934e-16 -3.317582e-15  4.665195e-15  \n",
       "ra    -9.532933e-02 -8.688726e-02  5.748482e-02  \n",
       "dec    8.834153e-02  6.614663e-02  1.550124e-01  \n",
       "u     -1.294304e-01 -1.687927e-01  1.130112e-02  \n",
       "g     -5.498078e-02 -9.277155e-02  4.718739e-02  \n",
       "r      1.978671e-02 -9.344506e-03  6.108141e-02  \n",
       "i      7.295843e-02  5.089616e-02  6.997739e-02  \n",
       "z      1.123969e-01  9.565845e-02  6.797999e-02  \n",
       "run    9.360107e-02  7.035433e-02  1.385659e-01  \n",
       "rerun           NaN           NaN           NaN  "
      ]
     },
     "execution_count": 8,
     "metadata": {},
     "output_type": "execute_result"
    }
   ],
   "source": [
    "ss.corr().head(10)"
   ]
  },
  {
   "cell_type": "code",
   "execution_count": 9,
   "metadata": {},
   "outputs": [
    {
     "data": {
      "text/plain": [
       "<matplotlib.axes._subplots.AxesSubplot at 0xb8452e0>"
      ]
     },
     "execution_count": 9,
     "metadata": {},
     "output_type": "execute_result"
    },
    {
     "data": {
      "image/png": "[encoded data removed]",
      "text/plain": [
       "<Figure size 720x360 with 2 Axes>"
      ]
     },
     "metadata": {
      "needs_background": "light"
     },
     "output_type": "display_data"
    }
   ],
   "source": [
    "plt.figure(figsize=(10,5))\n",
    "sns.heatmap(ss.corr(), cmap='Blues')"
   ]
  },
  {
   "cell_type": "code",
   "execution_count": 10,
   "metadata": {},
   "outputs": [
    {
     "data": {
      "text/plain": [
       "<matplotlib.axes._subplots.AxesSubplot at 0xbdab3a0>"
      ]
     },
     "execution_count": 10,
     "metadata": {},
     "output_type": "execute_result"
    },
    {
     "data": {
      "image/png": "[encoded data removed]",
      "text/plain": [
       "<Figure size 432x288 with 1 Axes>"
      ]
     },
     "metadata": {
      "needs_background": "light"
     },
     "output_type": "display_data"
    }
   ],
   "source": [
    "sns.countplot(x='class', data=ss)"
   ]
  },
  {
   "cell_type": "code",
   "execution_count": 11,
   "metadata": {},
   "outputs": [
    {
     "data": {
      "text/plain": [
       "<matplotlib.axes._subplots.AxesSubplot at 0xbe09820>"
      ]
     },
     "execution_count": 11,
     "metadata": {},
     "output_type": "execute_result"
    },
    {
     "data": {
      "image/png": "[encoded data removed]",
      "text/plain": [
       "<Figure size 432x288 with 1 Axes>"
      ]
     },
     "metadata": {
      "needs_background": "light"
     },
     "output_type": "display_data"
    }
   ],
   "source": [
    "sns.distplot(ss['run'])"
   ]
  },
  {
   "cell_type": "code",
   "execution_count": 12,
   "metadata": {},
   "outputs": [
    {
     "data": {
      "text/plain": [
       "<matplotlib.axes._subplots.AxesSubplot at 0xc299f10>"
      ]
     },
     "execution_count": 12,
     "metadata": {},
     "output_type": "execute_result"
    },
    {
     "data": {
      "image/png": "[encoded data removed]",
      "text/plain": [
       "<Figure size 432x288 with 1 Axes>"
      ]
     },
     "metadata": {
      "needs_background": "light"
     },
     "output_type": "display_data"
    }
   ],
   "source": [
    "sns.distplot(ss['plate'])"
   ]
  },
  {
   "cell_type": "code",
   "execution_count": 13,
   "metadata": {},
   "outputs": [],
   "source": [
    "sn=ss.drop('rerun', axis=1)"
   ]
  },
  {
   "cell_type": "code",
   "execution_count": 14,
   "metadata": {},
   "outputs": [
    {
     "data": {
      "text/html": [
       "<div>\n",
       "<style scoped>\n",
       "    .dataframe tbody tr th:only-of-type {\n",
       "        vertical-align: middle;\n",
       "    }\n",
       "\n",
       "    .dataframe tbody tr th {\n",
       "        vertical-align: top;\n",
       "    }\n",
       "\n",
       "    .dataframe thead th {\n",
       "        text-align: right;\n",
       "    }\n",
       "</style>\n",
       "<table border=\"1\" class=\"dataframe\">\n",
       "  <thead>\n",
       "    <tr style=\"text-align: right;\">\n",
       "      <th></th>\n",
       "      <th>objid</th>\n",
       "      <th>ra</th>\n",
       "      <th>dec</th>\n",
       "      <th>u</th>\n",
       "      <th>g</th>\n",
       "      <th>r</th>\n",
       "      <th>i</th>\n",
       "      <th>z</th>\n",
       "      <th>run</th>\n",
       "      <th>camcol</th>\n",
       "      <th>field</th>\n",
       "      <th>specobjid</th>\n",
       "      <th>class</th>\n",
       "      <th>redshift</th>\n",
       "      <th>plate</th>\n",
       "      <th>mjd</th>\n",
       "      <th>fiberid</th>\n",
       "    </tr>\n",
       "  </thead>\n",
       "  <tbody>\n",
       "    <tr>\n",
       "      <th>0</th>\n",
       "      <td>1.237650e+18</td>\n",
       "      <td>183.531326</td>\n",
       "      <td>0.089693</td>\n",
       "      <td>19.47406</td>\n",
       "      <td>17.04240</td>\n",
       "      <td>15.94699</td>\n",
       "      <td>15.50342</td>\n",
       "      <td>15.22531</td>\n",
       "      <td>752</td>\n",
       "      <td>4</td>\n",
       "      <td>267</td>\n",
       "      <td>3.722360e+18</td>\n",
       "      <td>2</td>\n",
       "      <td>-0.000009</td>\n",
       "      <td>3306</td>\n",
       "      <td>54922</td>\n",
       "      <td>491</td>\n",
       "    </tr>\n",
       "    <tr>\n",
       "      <th>1</th>\n",
       "      <td>1.237650e+18</td>\n",
       "      <td>183.598371</td>\n",
       "      <td>0.135285</td>\n",
       "      <td>18.66280</td>\n",
       "      <td>17.21449</td>\n",
       "      <td>16.67637</td>\n",
       "      <td>16.48922</td>\n",
       "      <td>16.39150</td>\n",
       "      <td>752</td>\n",
       "      <td>4</td>\n",
       "      <td>267</td>\n",
       "      <td>3.638140e+17</td>\n",
       "      <td>2</td>\n",
       "      <td>-0.000055</td>\n",
       "      <td>323</td>\n",
       "      <td>51615</td>\n",
       "      <td>541</td>\n",
       "    </tr>\n",
       "    <tr>\n",
       "      <th>2</th>\n",
       "      <td>1.237650e+18</td>\n",
       "      <td>183.680207</td>\n",
       "      <td>0.126185</td>\n",
       "      <td>19.38298</td>\n",
       "      <td>18.19169</td>\n",
       "      <td>17.47428</td>\n",
       "      <td>17.08732</td>\n",
       "      <td>16.80125</td>\n",
       "      <td>752</td>\n",
       "      <td>4</td>\n",
       "      <td>268</td>\n",
       "      <td>3.232740e+17</td>\n",
       "      <td>0</td>\n",
       "      <td>0.123111</td>\n",
       "      <td>287</td>\n",
       "      <td>52023</td>\n",
       "      <td>513</td>\n",
       "    </tr>\n",
       "    <tr>\n",
       "      <th>3</th>\n",
       "      <td>1.237650e+18</td>\n",
       "      <td>183.870529</td>\n",
       "      <td>0.049911</td>\n",
       "      <td>17.76536</td>\n",
       "      <td>16.60272</td>\n",
       "      <td>16.16116</td>\n",
       "      <td>15.98233</td>\n",
       "      <td>15.90438</td>\n",
       "      <td>752</td>\n",
       "      <td>4</td>\n",
       "      <td>269</td>\n",
       "      <td>3.722370e+18</td>\n",
       "      <td>2</td>\n",
       "      <td>-0.000111</td>\n",
       "      <td>3306</td>\n",
       "      <td>54922</td>\n",
       "      <td>510</td>\n",
       "    </tr>\n",
       "    <tr>\n",
       "      <th>4</th>\n",
       "      <td>1.237650e+18</td>\n",
       "      <td>183.883288</td>\n",
       "      <td>0.102557</td>\n",
       "      <td>17.55025</td>\n",
       "      <td>16.26342</td>\n",
       "      <td>16.43869</td>\n",
       "      <td>16.55492</td>\n",
       "      <td>16.61326</td>\n",
       "      <td>752</td>\n",
       "      <td>4</td>\n",
       "      <td>269</td>\n",
       "      <td>3.722370e+18</td>\n",
       "      <td>2</td>\n",
       "      <td>0.000590</td>\n",
       "      <td>3306</td>\n",
       "      <td>54922</td>\n",
       "      <td>512</td>\n",
       "    </tr>\n",
       "  </tbody>\n",
       "</table>\n",
       "</div>"
      ],
      "text/plain": [
       "          objid          ra       dec         u         g         r         i  \\\n",
       "0  1.237650e+18  183.531326  0.089693  19.47406  17.04240  15.94699  15.50342   \n",
       "1  1.237650e+18  183.598371  0.135285  18.66280  17.21449  16.67637  16.48922   \n",
       "2  1.237650e+18  183.680207  0.126185  19.38298  18.19169  17.47428  17.08732   \n",
       "3  1.237650e+18  183.870529  0.049911  17.76536  16.60272  16.16116  15.98233   \n",
       "4  1.237650e+18  183.883288  0.102557  17.55025  16.26342  16.43869  16.55492   \n",
       "\n",
       "          z  run  camcol  field     specobjid  class  redshift  plate    mjd  \\\n",
       "0  15.22531  752       4    267  3.722360e+18      2 -0.000009   3306  54922   \n",
       "1  16.39150  752       4    267  3.638140e+17      2 -0.000055    323  51615   \n",
       "2  16.80125  752       4    268  3.232740e+17      0  0.123111    287  52023   \n",
       "3  15.90438  752       4    269  3.722370e+18      2 -0.000111   3306  54922   \n",
       "4  16.61326  752       4    269  3.722370e+18      2  0.000590   3306  54922   \n",
       "\n",
       "   fiberid  \n",
       "0      491  \n",
       "1      541  \n",
       "2      513  \n",
       "3      510  \n",
       "4      512  "
      ]
     },
     "execution_count": 14,
     "metadata": {},
     "output_type": "execute_result"
    }
   ],
   "source": [
    "sn.head()"
   ]
  },
  {
   "cell_type": "markdown",
   "metadata": {},
   "source": [
    "We need to check the data if the values are skewed or not, if they are skewed then in what aspect whether right skewed or left skewed, \n",
    "and then accordindly we need to convert the values as in normal distribution.So they are not baised towards left or right."
   ]
  },
  {
   "cell_type": "code",
   "execution_count": 15,
   "metadata": {},
   "outputs": [
    {
     "data": {
      "text/plain": [
       "objid        1.000150\n",
       "ra          -1.227350\n",
       "dec          1.191544\n",
       "u           -1.219795\n",
       "g           -0.536293\n",
       "r           -0.021673\n",
       "i            0.286442\n",
       "z            0.214313\n",
       "run          0.412555\n",
       "camcol      -0.100220\n",
       "field        0.249795\n",
       "specobjid    1.794627\n",
       "class        0.169292\n",
       "redshift     4.265729\n",
       "plate        1.794609\n",
       "mjd          1.039610\n",
       "fiberid      0.308053\n",
       "dtype: float64"
      ]
     },
     "execution_count": 15,
     "metadata": {},
     "output_type": "execute_result"
    }
   ],
   "source": [
    "sn.skew()"
   ]
  },
  {
   "cell_type": "code",
   "execution_count": 16,
   "metadata": {},
   "outputs": [
    {
     "data": {
      "text/plain": [
       "(array([ 394.,   60.,   54.,    0.,  899., 1240., 3067., 2364.,  932.,\n",
       "         990.]),\n",
       " array([  8.2351005 ,  33.50002863,  58.76495676,  84.02988489,\n",
       "        109.29481302, 134.55974115, 159.82466928, 185.08959741,\n",
       "        210.35452554, 235.61945367, 260.8843818 ]),\n",
       " <a list of 10 Patch objects>)"
      ]
     },
     "execution_count": 16,
     "metadata": {},
     "output_type": "execute_result"
    },
    {
     "data": {
      "image/png": "[encoded data removed]",
      "text/plain": [
       "<Figure size 432x288 with 1 Axes>"
      ]
     },
     "metadata": {
      "needs_background": "light"
     },
     "output_type": "display_data"
    }
   ],
   "source": [
    "plt.hist(sn['ra'], bins=10)"
   ]
  },
  {
   "cell_type": "code",
   "execution_count": 17,
   "metadata": {},
   "outputs": [
    {
     "data": {
      "text/plain": [
       "(array([9.321e+03, 1.850e+02, 2.210e+02, 2.090e+02, 5.200e+01, 8.000e+00,\n",
       "        0.000e+00, 3.000e+00, 0.000e+00, 1.000e+00]),\n",
       " array([-4.13607800e-03,  5.31662930e-01,  1.06746194e+00,  1.60326095e+00,\n",
       "         2.13905995e+00,  2.67485896e+00,  3.21065797e+00,  3.74645698e+00,\n",
       "         4.28225598e+00,  4.81805499e+00,  5.35385400e+00]),\n",
       " <a list of 10 Patch objects>)"
      ]
     },
     "execution_count": 17,
     "metadata": {},
     "output_type": "execute_result"
    },
    {
     "data": {
      "image/png": "[encoded data removed]",
      "text/plain": [
       "<Figure size 432x288 with 1 Axes>"
      ]
     },
     "metadata": {
      "needs_background": "light"
     },
     "output_type": "display_data"
    }
   ],
   "source": [
    "plt.hist(sn['redshift'], bins=10)"
   ]
  },
  {
   "cell_type": "code",
   "execution_count": 18,
   "metadata": {},
   "outputs": [
    {
     "data": {
      "text/plain": [
       "(array([6599.,    7.,  999., 1481.,  364.,   37.,   20.,   41.,  430.,\n",
       "          22.]),\n",
       " array([ 266. , 1080.4, 1894.8, 2709.2, 3523.6, 4338. , 5152.4, 5966.8,\n",
       "        6781.2, 7595.6, 8410. ]),\n",
       " <a list of 10 Patch objects>)"
      ]
     },
     "execution_count": 18,
     "metadata": {},
     "output_type": "execute_result"
    },
    {
     "data": {
      "image/png": "[encoded data removed]",
      "text/plain": [
       "<Figure size 432x288 with 1 Axes>"
      ]
     },
     "metadata": {
      "needs_background": "light"
     },
     "output_type": "display_data"
    }
   ],
   "source": [
    "plt.hist(sn['plate'], bins=10)"
   ]
  },
  {
   "cell_type": "code",
   "execution_count": 19,
   "metadata": {},
   "outputs": [],
   "source": [
    "so=sn.copy()"
   ]
  },
  {
   "cell_type": "code",
   "execution_count": 20,
   "metadata": {},
   "outputs": [
    {
     "data": {
      "text/plain": [
       "objid        1.000150\n",
       "ra          -1.227350\n",
       "dec          1.191544\n",
       "u           -1.219795\n",
       "g           -0.536293\n",
       "r           -0.021673\n",
       "i            0.286442\n",
       "z            0.214313\n",
       "run          0.412555\n",
       "camcol      -0.100220\n",
       "field        0.249795\n",
       "specobjid    1.794627\n",
       "class        0.169292\n",
       "redshift     4.265729\n",
       "plate        1.794609\n",
       "mjd          1.039610\n",
       "fiberid      0.308053\n",
       "dtype: float64"
      ]
     },
     "execution_count": 20,
     "metadata": {},
     "output_type": "execute_result"
    }
   ],
   "source": [
    "so.skew()"
   ]
  },
  {
   "cell_type": "code",
   "execution_count": 21,
   "metadata": {},
   "outputs": [
    {
     "data": {
      "text/plain": [
       "(array([ 394.,   60.,   54.,    0.,  899., 1240., 3067., 2364.,  932.,\n",
       "         990.]),\n",
       " array([  8.2351005 ,  33.50002863,  58.76495676,  84.02988489,\n",
       "        109.29481302, 134.55974115, 159.82466928, 185.08959741,\n",
       "        210.35452554, 235.61945367, 260.8843818 ]),\n",
       " <a list of 10 Patch objects>)"
      ]
     },
     "execution_count": 21,
     "metadata": {},
     "output_type": "execute_result"
    },
    {
     "data": {
      "image/png": "[encoded data removed]",
      "text/plain": [
       "<Figure size 432x288 with 1 Axes>"
      ]
     },
     "metadata": {
      "needs_background": "light"
     },
     "output_type": "display_data"
    }
   ],
   "source": [
    "plt.hist(sn.ra, bins=10)"
   ]
  },
  {
   "cell_type": "code",
   "execution_count": null,
   "metadata": {},
   "outputs": [],
   "source": []
  },
  {
   "cell_type": "code",
   "execution_count": 22,
   "metadata": {},
   "outputs": [],
   "source": [
    "import warnings\n",
    "warnings.filterwarnings('ignore')\n",
    "so['plate']=np.log1p(so['plate'])\n",
    "so['redshift']=np.log1p(so['redshift'])\n",
    "so['objid']=np.log1p(so['objid'])\n",
    "so['specobjid']=np.log1p(so['specobjid'])\n",
    "so['mjd']=np.log1p(so['mjd'])"
   ]
  },
  {
   "cell_type": "code",
   "execution_count": 23,
   "metadata": {},
   "outputs": [],
   "source": [
    "so['ra']=((so['ra'])/20)**10\n",
    "so['u']=((so['u'])/20)**10"
   ]
  },
  {
   "cell_type": "code",
   "execution_count": 24,
   "metadata": {},
   "outputs": [],
   "source": [
    "so['mjd']=np.sqrt(so['mjd'])\n",
    "so['redshift']=np.log1p(so['redshift'])\n",
    "so['ra']=np.sqrt(so['ra'])"
   ]
  },
  {
   "cell_type": "code",
   "execution_count": 25,
   "metadata": {},
   "outputs": [],
   "source": [
    "so['ra']=((so['ra'])/20)**10"
   ]
  },
  {
   "cell_type": "code",
   "execution_count": 26,
   "metadata": {},
   "outputs": [
    {
     "data": {
      "text/plain": [
       "(array([9.766e+03, 2.500e+01, 3.500e+01, 6.700e+01, 3.800e+01, 2.500e+01,\n",
       "        9.000e+00, 8.000e+00, 3.000e+00, 2.400e+01]),\n",
       " array([5.26799595e-33, 5.76241155e+41, 1.15248231e+42, 1.72872347e+42,\n",
       "        2.30496462e+42, 2.88120578e+42, 3.45744693e+42, 4.03368809e+42,\n",
       "        4.60992924e+42, 5.18617040e+42, 5.76241155e+42]),\n",
       " <a list of 10 Patch objects>)"
      ]
     },
     "execution_count": 26,
     "metadata": {},
     "output_type": "execute_result"
    },
    {
     "data": {
      "image/png": "[encoded data removed]",
      "text/plain": [
       "<Figure size 432x288 with 1 Axes>"
      ]
     },
     "metadata": {
      "needs_background": "light"
     },
     "output_type": "display_data"
    }
   ],
   "source": [
    "plt.hist(so.ra, bins=10)"
   ]
  },
  {
   "cell_type": "code",
   "execution_count": 27,
   "metadata": {},
   "outputs": [
    {
     "data": {
      "text/plain": [
       "objid        0.000000\n",
       "ra           8.469933\n",
       "dec          1.191544\n",
       "u           -0.400611\n",
       "g           -0.536293\n",
       "r           -0.021673\n",
       "i            0.286442\n",
       "z            0.214313\n",
       "run          0.412555\n",
       "camcol      -0.100220\n",
       "field        0.249795\n",
       "specobjid    0.696181\n",
       "class        0.169292\n",
       "redshift     3.142088\n",
       "plate        0.696680\n",
       "mjd          1.009821\n",
       "fiberid      0.308053\n",
       "dtype: float64"
      ]
     },
     "execution_count": 27,
     "metadata": {},
     "output_type": "execute_result"
    }
   ],
   "source": [
    "so.skew()"
   ]
  },
  {
   "cell_type": "markdown",
   "metadata": {},
   "source": [
    "Now we need to remove the outliers as they deviate the results actual value, in many aspects."
   ]
  },
  {
   "cell_type": "code",
   "execution_count": 28,
   "metadata": {},
   "outputs": [
    {
     "data": {
      "text/plain": [
       "{'whiskers': [<matplotlib.lines.Line2D at 0xddd6640>,\n",
       "  <matplotlib.lines.Line2D at 0xddd69a0>],\n",
       " 'caps': [<matplotlib.lines.Line2D at 0xddd6d00>,\n",
       "  <matplotlib.lines.Line2D at 0xdde10a0>],\n",
       " 'boxes': [<matplotlib.lines.Line2D at 0xddd62e0>],\n",
       " 'medians': [<matplotlib.lines.Line2D at 0xdde1400>],\n",
       " 'fliers': [<matplotlib.lines.Line2D at 0xdde1700>],\n",
       " 'means': []}"
      ]
     },
     "execution_count": 28,
     "metadata": {},
     "output_type": "execute_result"
    },
    {
     "data": {
      "image/png": "[encoded data removed]",
      "text/plain": [
       "<Figure size 432x288 with 1 Axes>"
      ]
     },
     "metadata": {
      "needs_background": "light"
     },
     "output_type": "display_data"
    }
   ],
   "source": [
    "plt.boxplot(so.fiberid)"
   ]
  },
  {
   "cell_type": "code",
   "execution_count": 29,
   "metadata": {},
   "outputs": [
    {
     "data": {
      "text/plain": [
       "<matplotlib.axes._subplots.AxesSubplot at 0xde008e0>"
      ]
     },
     "execution_count": 29,
     "metadata": {},
     "output_type": "execute_result"
    },
    {
     "data": {
      "image/png": "[encoded data removed]",
      "text/plain": [
       "<Figure size 432x288 with 1 Axes>"
      ]
     },
     "metadata": {
      "needs_background": "light"
     },
     "output_type": "display_data"
    }
   ],
   "source": [
    "sns.boxplot(so.ra)"
   ]
  },
  {
   "cell_type": "code",
   "execution_count": 30,
   "metadata": {},
   "outputs": [
    {
     "data": {
      "text/plain": [
       "{'whiskers': [<matplotlib.lines.Line2D at 0xde8b3d0>,\n",
       "  <matplotlib.lines.Line2D at 0xde8b730>],\n",
       " 'caps': [<matplotlib.lines.Line2D at 0xde8ba90>,\n",
       "  <matplotlib.lines.Line2D at 0xde8bdf0>],\n",
       " 'boxes': [<matplotlib.lines.Line2D at 0xde8b070>],\n",
       " 'medians': [<matplotlib.lines.Line2D at 0xde95190>],\n",
       " 'fliers': [<matplotlib.lines.Line2D at 0xde95490>],\n",
       " 'means': []}"
      ]
     },
     "execution_count": 30,
     "metadata": {},
     "output_type": "execute_result"
    },
    {
     "data": {
      "image/png": "[encoded data removed]",
      "text/plain": [
       "<Figure size 432x288 with 1 Axes>"
      ]
     },
     "metadata": {
      "needs_background": "light"
     },
     "output_type": "display_data"
    }
   ],
   "source": [
    "plt.boxplot(so.dec)"
   ]
  },
  {
   "cell_type": "code",
   "execution_count": 31,
   "metadata": {},
   "outputs": [
    {
     "data": {
      "text/plain": [
       "{'whiskers': [<matplotlib.lines.Line2D at 0xdee4370>,\n",
       "  <matplotlib.lines.Line2D at 0xdee46d0>],\n",
       " 'caps': [<matplotlib.lines.Line2D at 0xdee4a30>,\n",
       "  <matplotlib.lines.Line2D at 0xdee4d90>],\n",
       " 'boxes': [<matplotlib.lines.Line2D at 0xded8fd0>],\n",
       " 'medians': [<matplotlib.lines.Line2D at 0xdef2130>],\n",
       " 'fliers': [<matplotlib.lines.Line2D at 0xdef2430>],\n",
       " 'means': []}"
      ]
     },
     "execution_count": 31,
     "metadata": {},
     "output_type": "execute_result"
    },
    {
     "data": {
      "image/png": "[encoded data removed]",
      "text/plain": [
       "<Figure size 432x288 with 1 Axes>"
      ]
     },
     "metadata": {
      "needs_background": "light"
     },
     "output_type": "display_data"
    }
   ],
   "source": [
    "plt.boxplot(so.r)"
   ]
  },
  {
   "cell_type": "code",
   "execution_count": 32,
   "metadata": {},
   "outputs": [
    {
     "data": {
      "text/html": [
       "<div>\n",
       "<style scoped>\n",
       "    .dataframe tbody tr th:only-of-type {\n",
       "        vertical-align: middle;\n",
       "    }\n",
       "\n",
       "    .dataframe tbody tr th {\n",
       "        vertical-align: top;\n",
       "    }\n",
       "\n",
       "    .dataframe thead th {\n",
       "        text-align: right;\n",
       "    }\n",
       "</style>\n",
       "<table border=\"1\" class=\"dataframe\">\n",
       "  <thead>\n",
       "    <tr style=\"text-align: right;\">\n",
       "      <th></th>\n",
       "      <th>objid</th>\n",
       "      <th>ra</th>\n",
       "      <th>dec</th>\n",
       "      <th>u</th>\n",
       "      <th>g</th>\n",
       "      <th>r</th>\n",
       "      <th>i</th>\n",
       "      <th>z</th>\n",
       "      <th>run</th>\n",
       "      <th>camcol</th>\n",
       "      <th>field</th>\n",
       "      <th>specobjid</th>\n",
       "      <th>class</th>\n",
       "      <th>redshift</th>\n",
       "      <th>plate</th>\n",
       "      <th>mjd</th>\n",
       "      <th>fiberid</th>\n",
       "    </tr>\n",
       "  </thead>\n",
       "  <tbody>\n",
       "    <tr>\n",
       "      <th>0</th>\n",
       "      <td>41.659746</td>\n",
       "      <td>1.329567e+35</td>\n",
       "      <td>0.089693</td>\n",
       "      <td>0.766064</td>\n",
       "      <td>17.0424</td>\n",
       "      <td>15.94699</td>\n",
       "      <td>15.50342</td>\n",
       "      <td>15.22531</td>\n",
       "      <td>752</td>\n",
       "      <td>4</td>\n",
       "      <td>267</td>\n",
       "      <td>42.76089</td>\n",
       "      <td>2</td>\n",
       "      <td>-0.000009</td>\n",
       "      <td>8.103797</td>\n",
       "      <td>3.303587</td>\n",
       "      <td>491</td>\n",
       "    </tr>\n",
       "    <tr>\n",
       "      <th>0</th>\n",
       "      <td>41.659746</td>\n",
       "      <td>1.329567e+35</td>\n",
       "      <td>0.089693</td>\n",
       "      <td>0.766064</td>\n",
       "      <td>17.0424</td>\n",
       "      <td>15.94699</td>\n",
       "      <td>15.50342</td>\n",
       "      <td>15.22531</td>\n",
       "      <td>752</td>\n",
       "      <td>4</td>\n",
       "      <td>267</td>\n",
       "      <td>42.76089</td>\n",
       "      <td>2</td>\n",
       "      <td>-0.000009</td>\n",
       "      <td>8.103797</td>\n",
       "      <td>3.303587</td>\n",
       "      <td>491</td>\n",
       "    </tr>\n",
       "    <tr>\n",
       "      <th>0</th>\n",
       "      <td>41.659746</td>\n",
       "      <td>1.329567e+35</td>\n",
       "      <td>0.089693</td>\n",
       "      <td>0.766064</td>\n",
       "      <td>17.0424</td>\n",
       "      <td>15.94699</td>\n",
       "      <td>15.50342</td>\n",
       "      <td>15.22531</td>\n",
       "      <td>752</td>\n",
       "      <td>4</td>\n",
       "      <td>267</td>\n",
       "      <td>42.76089</td>\n",
       "      <td>2</td>\n",
       "      <td>-0.000009</td>\n",
       "      <td>8.103797</td>\n",
       "      <td>3.303587</td>\n",
       "      <td>491</td>\n",
       "    </tr>\n",
       "    <tr>\n",
       "      <th>0</th>\n",
       "      <td>41.659746</td>\n",
       "      <td>1.329567e+35</td>\n",
       "      <td>0.089693</td>\n",
       "      <td>0.766064</td>\n",
       "      <td>17.0424</td>\n",
       "      <td>15.94699</td>\n",
       "      <td>15.50342</td>\n",
       "      <td>15.22531</td>\n",
       "      <td>752</td>\n",
       "      <td>4</td>\n",
       "      <td>267</td>\n",
       "      <td>42.76089</td>\n",
       "      <td>2</td>\n",
       "      <td>-0.000009</td>\n",
       "      <td>8.103797</td>\n",
       "      <td>3.303587</td>\n",
       "      <td>491</td>\n",
       "    </tr>\n",
       "    <tr>\n",
       "      <th>0</th>\n",
       "      <td>41.659746</td>\n",
       "      <td>1.329567e+35</td>\n",
       "      <td>0.089693</td>\n",
       "      <td>0.766064</td>\n",
       "      <td>17.0424</td>\n",
       "      <td>15.94699</td>\n",
       "      <td>15.50342</td>\n",
       "      <td>15.22531</td>\n",
       "      <td>752</td>\n",
       "      <td>4</td>\n",
       "      <td>267</td>\n",
       "      <td>42.76089</td>\n",
       "      <td>2</td>\n",
       "      <td>-0.000009</td>\n",
       "      <td>8.103797</td>\n",
       "      <td>3.303587</td>\n",
       "      <td>491</td>\n",
       "    </tr>\n",
       "    <tr>\n",
       "      <th>0</th>\n",
       "      <td>41.659746</td>\n",
       "      <td>1.329567e+35</td>\n",
       "      <td>0.089693</td>\n",
       "      <td>0.766064</td>\n",
       "      <td>17.0424</td>\n",
       "      <td>15.94699</td>\n",
       "      <td>15.50342</td>\n",
       "      <td>15.22531</td>\n",
       "      <td>752</td>\n",
       "      <td>4</td>\n",
       "      <td>267</td>\n",
       "      <td>42.76089</td>\n",
       "      <td>2</td>\n",
       "      <td>-0.000009</td>\n",
       "      <td>8.103797</td>\n",
       "      <td>3.303587</td>\n",
       "      <td>491</td>\n",
       "    </tr>\n",
       "    <tr>\n",
       "      <th>0</th>\n",
       "      <td>41.659746</td>\n",
       "      <td>1.329567e+35</td>\n",
       "      <td>0.089693</td>\n",
       "      <td>0.766064</td>\n",
       "      <td>17.0424</td>\n",
       "      <td>15.94699</td>\n",
       "      <td>15.50342</td>\n",
       "      <td>15.22531</td>\n",
       "      <td>752</td>\n",
       "      <td>4</td>\n",
       "      <td>267</td>\n",
       "      <td>42.76089</td>\n",
       "      <td>2</td>\n",
       "      <td>-0.000009</td>\n",
       "      <td>8.103797</td>\n",
       "      <td>3.303587</td>\n",
       "      <td>491</td>\n",
       "    </tr>\n",
       "    <tr>\n",
       "      <th>0</th>\n",
       "      <td>41.659746</td>\n",
       "      <td>1.329567e+35</td>\n",
       "      <td>0.089693</td>\n",
       "      <td>0.766064</td>\n",
       "      <td>17.0424</td>\n",
       "      <td>15.94699</td>\n",
       "      <td>15.50342</td>\n",
       "      <td>15.22531</td>\n",
       "      <td>752</td>\n",
       "      <td>4</td>\n",
       "      <td>267</td>\n",
       "      <td>42.76089</td>\n",
       "      <td>2</td>\n",
       "      <td>-0.000009</td>\n",
       "      <td>8.103797</td>\n",
       "      <td>3.303587</td>\n",
       "      <td>491</td>\n",
       "    </tr>\n",
       "    <tr>\n",
       "      <th>0</th>\n",
       "      <td>41.659746</td>\n",
       "      <td>1.329567e+35</td>\n",
       "      <td>0.089693</td>\n",
       "      <td>0.766064</td>\n",
       "      <td>17.0424</td>\n",
       "      <td>15.94699</td>\n",
       "      <td>15.50342</td>\n",
       "      <td>15.22531</td>\n",
       "      <td>752</td>\n",
       "      <td>4</td>\n",
       "      <td>267</td>\n",
       "      <td>42.76089</td>\n",
       "      <td>2</td>\n",
       "      <td>-0.000009</td>\n",
       "      <td>8.103797</td>\n",
       "      <td>3.303587</td>\n",
       "      <td>491</td>\n",
       "    </tr>\n",
       "    <tr>\n",
       "      <th>0</th>\n",
       "      <td>41.659746</td>\n",
       "      <td>1.329567e+35</td>\n",
       "      <td>0.089693</td>\n",
       "      <td>0.766064</td>\n",
       "      <td>17.0424</td>\n",
       "      <td>15.94699</td>\n",
       "      <td>15.50342</td>\n",
       "      <td>15.22531</td>\n",
       "      <td>752</td>\n",
       "      <td>4</td>\n",
       "      <td>267</td>\n",
       "      <td>42.76089</td>\n",
       "      <td>2</td>\n",
       "      <td>-0.000009</td>\n",
       "      <td>8.103797</td>\n",
       "      <td>3.303587</td>\n",
       "      <td>491</td>\n",
       "    </tr>\n",
       "  </tbody>\n",
       "</table>\n",
       "</div>"
      ],
      "text/plain": [
       "       objid            ra       dec         u        g         r         i  \\\n",
       "0  41.659746  1.329567e+35  0.089693  0.766064  17.0424  15.94699  15.50342   \n",
       "0  41.659746  1.329567e+35  0.089693  0.766064  17.0424  15.94699  15.50342   \n",
       "0  41.659746  1.329567e+35  0.089693  0.766064  17.0424  15.94699  15.50342   \n",
       "0  41.659746  1.329567e+35  0.089693  0.766064  17.0424  15.94699  15.50342   \n",
       "0  41.659746  1.329567e+35  0.089693  0.766064  17.0424  15.94699  15.50342   \n",
       "0  41.659746  1.329567e+35  0.089693  0.766064  17.0424  15.94699  15.50342   \n",
       "0  41.659746  1.329567e+35  0.089693  0.766064  17.0424  15.94699  15.50342   \n",
       "0  41.659746  1.329567e+35  0.089693  0.766064  17.0424  15.94699  15.50342   \n",
       "0  41.659746  1.329567e+35  0.089693  0.766064  17.0424  15.94699  15.50342   \n",
       "0  41.659746  1.329567e+35  0.089693  0.766064  17.0424  15.94699  15.50342   \n",
       "\n",
       "          z  run  camcol  field  specobjid  class  redshift     plate  \\\n",
       "0  15.22531  752       4    267   42.76089      2 -0.000009  8.103797   \n",
       "0  15.22531  752       4    267   42.76089      2 -0.000009  8.103797   \n",
       "0  15.22531  752       4    267   42.76089      2 -0.000009  8.103797   \n",
       "0  15.22531  752       4    267   42.76089      2 -0.000009  8.103797   \n",
       "0  15.22531  752       4    267   42.76089      2 -0.000009  8.103797   \n",
       "0  15.22531  752       4    267   42.76089      2 -0.000009  8.103797   \n",
       "0  15.22531  752       4    267   42.76089      2 -0.000009  8.103797   \n",
       "0  15.22531  752       4    267   42.76089      2 -0.000009  8.103797   \n",
       "0  15.22531  752       4    267   42.76089      2 -0.000009  8.103797   \n",
       "0  15.22531  752       4    267   42.76089      2 -0.000009  8.103797   \n",
       "\n",
       "        mjd  fiberid  \n",
       "0  3.303587      491  \n",
       "0  3.303587      491  \n",
       "0  3.303587      491  \n",
       "0  3.303587      491  \n",
       "0  3.303587      491  \n",
       "0  3.303587      491  \n",
       "0  3.303587      491  \n",
       "0  3.303587      491  \n",
       "0  3.303587      491  \n",
       "0  3.303587      491  "
      ]
     },
     "execution_count": 32,
     "metadata": {},
     "output_type": "execute_result"
    }
   ],
   "source": [
    "from scipy.stats import zscore\n",
    "z=np.abs(zscore(so))\n",
    "sa=so[(z<3)]\n",
    "sa.head(10)"
   ]
  },
  {
   "cell_type": "code",
   "execution_count": 33,
   "metadata": {},
   "outputs": [],
   "source": [
    "x=sa.drop('class', axis=1)\n",
    "y=sa.iloc[:,12]"
   ]
  },
  {
   "cell_type": "markdown",
   "metadata": {},
   "source": [
    "As most of coulmns are different and will consist of different units, \n",
    "so to bring every coulmn to some common unit we need to use Standard scaler function"
   ]
  },
  {
   "cell_type": "code",
   "execution_count": 34,
   "metadata": {},
   "outputs": [],
   "source": [
    "from sklearn.preprocessing import StandardScaler\n",
    "sd=StandardScaler()\n",
    "x=sd.fit_transform(x)"
   ]
  },
  {
   "cell_type": "markdown",
   "metadata": {},
   "source": [
    "Here we can clearly see in the data that is has many columns and much of a unnecessary data can give wrong predictions, \n",
    "which is also a curse of dimensionality.So to reduce that we need to use Principal Component Analysis \n",
    "and define the number of columns we desire by defining the n_compnents into it"
   ]
  },
  {
   "cell_type": "code",
   "execution_count": 35,
   "metadata": {},
   "outputs": [],
   "source": [
    "from sklearn.decomposition import PCA\n",
    "pca=PCA(n_components=5)\n",
    "x=pca.fit_transform(x)"
   ]
  },
  {
   "cell_type": "code",
   "execution_count": 36,
   "metadata": {},
   "outputs": [
    {
     "name": "stdout",
     "output_type": "stream",
     "text": [
      "The corresponding value for maximum rstate 94 to the r2 Score is 0.8528843434819493\n"
     ]
    }
   ],
   "source": [
    "from sklearn.linear_model import LogisticRegression\n",
    "from sklearn.metrics import accuracy_score, classification_report, confusion_matrix\n",
    "from sklearn.model_selection import train_test_split\n",
    "max_scr=0\n",
    "for r_state in range(42,101):\n",
    "    x_test,x_train,y_test,y_train=train_test_split(x,y,random_state=r_state, test_size=0.20)\n",
    "    lg=LogisticRegression()\n",
    "    lg.fit(x_train,y_train)\n",
    "    y_pred=lg.predict(x_test)\n",
    "    acc_scr=accuracy_score(y_test,y_pred)\n",
    "    if acc_scr>max_scr:\n",
    "        max_scr=acc_scr\n",
    "        final_rstate=r_state\n",
    "        \n",
    "print('The corresponding value for maximum rstate',final_rstate, 'to the r2 Score is', max_scr)"
   ]
  },
  {
   "cell_type": "code",
   "execution_count": 37,
   "metadata": {},
   "outputs": [
    {
     "name": "stdout",
     "output_type": "stream",
     "text": [
      "accuracy score 0.8528843434819493\n",
      "Confusion matrix [[61681   406  1865]\n",
      " [ 2340  7092   988]\n",
      " [11982  1148 39806]]\n",
      "              precision    recall  f1-score   support\n",
      "\n",
      "           0       0.81      0.96      0.88     63952\n",
      "           1       0.82      0.68      0.74     10420\n",
      "           2       0.93      0.75      0.83     52936\n",
      "\n",
      "    accuracy                           0.85    127308\n",
      "   macro avg       0.85      0.80      0.82    127308\n",
      "weighted avg       0.86      0.85      0.85    127308\n",
      "\n"
     ]
    }
   ],
   "source": [
    "x_test,x_train,y_test,y_train=train_test_split(x,y,random_state=94, test_size=0.20)\n",
    "lg=LogisticRegression()\n",
    "lg.fit(x_train,y_train)\n",
    "y_pred=lg.predict(x_test)\n",
    "acc_scr=accuracy_score(y_test,y_pred)\n",
    "print('accuracy score',acc_scr)\n",
    "print('Confusion matrix',confusion_matrix(y_test,y_pred))\n",
    "print(classification_report(y_test,y_pred))"
   ]
  },
  {
   "cell_type": "code",
   "execution_count": 38,
   "metadata": {},
   "outputs": [
    {
     "data": {
      "text/plain": [
       "0.8515977000659817"
      ]
     },
     "execution_count": 38,
     "metadata": {},
     "output_type": "execute_result"
    }
   ],
   "source": [
    "from sklearn.model_selection import cross_val_score\n",
    "cross_val_scr=cross_val_score(lg,x,y,scoring='accuracy', cv=5).mean()\n",
    "cross_val_scr"
   ]
  },
  {
   "cell_type": "code",
   "execution_count": 39,
   "metadata": {},
   "outputs": [],
   "source": [
    "from sklearn.neighbors import KNeighborsClassifier\n",
    "from sklearn.tree import DecisionTreeClassifier"
   ]
  },
  {
   "cell_type": "code",
   "execution_count": 40,
   "metadata": {},
   "outputs": [],
   "source": [
    "knn=KNeighborsClassifier()\n",
    "dtc=DecisionTreeClassifier()"
   ]
  },
  {
   "cell_type": "code",
   "execution_count": 41,
   "metadata": {},
   "outputs": [],
   "source": [
    "models=[]\n",
    "models.append((knn,'KNeighborsClassifier'))\n",
    "models.append((dtc,'DecisionTreeClassifier'))\n"
   ]
  },
  {
   "cell_type": "code",
   "execution_count": 42,
   "metadata": {},
   "outputs": [
    {
     "name": "stdout",
     "output_type": "stream",
     "text": [
      "********** KNeighborsClassifier *****************\n",
      "Accuracy Score 0.9481336600999152\n",
      "\n",
      "\n",
      "Cross_val_score 0.8201150754999569\n",
      "\n",
      "\n",
      "              precision    recall  f1-score   support\n",
      "\n",
      "           0       0.95      0.96      0.95     63952\n",
      "           1       0.92      0.91      0.92     10420\n",
      "           2       0.95      0.95      0.95     52936\n",
      "\n",
      "    accuracy                           0.95    127308\n",
      "   macro avg       0.94      0.94      0.94    127308\n",
      "weighted avg       0.95      0.95      0.95    127308\n",
      "\n",
      "\n",
      "\n",
      "Confusion_matrix [[61212   404  2336]\n",
      " [  590  9442   388]\n",
      " [ 2514   371 50051]]\n",
      "********** DecisionTreeClassifier *****************\n",
      "Accuracy Score 0.9925063625223867\n",
      "\n",
      "\n",
      "Cross_val_score 0.8010745465037715\n",
      "\n",
      "\n",
      "              precision    recall  f1-score   support\n",
      "\n",
      "           0       0.99      0.99      0.99     63952\n",
      "           1       0.99      0.99      0.99     10420\n",
      "           2       0.99      0.99      0.99     52936\n",
      "\n",
      "    accuracy                           0.99    127308\n",
      "   macro avg       0.99      0.99      0.99    127308\n",
      "weighted avg       0.99      0.99      0.99    127308\n",
      "\n",
      "\n",
      "\n",
      "Confusion_matrix [[63520    16   416]\n",
      " [  110 10279    31]\n",
      " [  287    94 52555]]\n"
     ]
    }
   ],
   "source": [
    "for m, model_name in models:\n",
    "    print('**********',model_name,'*****************')\n",
    "    m.fit(x_train,y_train)\n",
    "    pred_y=m.predict(x_test)\n",
    "    acc=accuracy_score(y_test,pred_y)\n",
    "    print('Accuracy Score', acc)\n",
    "    print('\\n')\n",
    "    csc=cross_val_score(m,x,y,cv=10, scoring='accuracy').mean()\n",
    "    print('Cross_val_score', csc)\n",
    "    print('\\n')\n",
    "    print(classification_report(y_test,pred_y))\n",
    "    print('\\n')\n",
    "    cms=confusion_matrix(y_test,pred_y)\n",
    "    print('Confusion_matrix',cms)"
   ]
  },
  {
   "cell_type": "code",
   "execution_count": null,
   "metadata": {},
   "outputs": [],
   "source": []
  },
  {
   "cell_type": "code",
   "execution_count": 43,
   "metadata": {},
   "outputs": [],
   "source": [
    "df1=pd.DataFrame(pred_y)\n",
    "df1.to_csv('dtc_solar.csv')"
   ]
  },
  {
   "cell_type": "code",
   "execution_count": 51,
   "metadata": {},
   "outputs": [
    {
     "data": {
      "text/plain": [
       "['dtc_solar.pkl']"
      ]
     },
     "execution_count": 51,
     "metadata": {},
     "output_type": "execute_result"
    }
   ],
   "source": [
    "import joblib\n",
    "joblib.dump(dtc,'dtc_solar.pkl')"
   ]
  },
  {
   "cell_type": "code",
   "execution_count": null,
   "metadata": {},
   "outputs": [],
   "source": []
  },
  {
   "cell_type": "markdown",
   "metadata": {},
   "source": [
    "So, as we can see the dtc algorithm gives us the best result as compare to other scores,\n",
    "so that is the reason we selected dtc model loaded it with the help of joblib function"
   ]
  },
  {
   "cell_type": "code",
   "execution_count": null,
   "metadata": {},
   "outputs": [],
   "source": []
  },
  {
   "cell_type": "code",
   "execution_count": null,
   "metadata": {},
   "outputs": [],
   "source": []
  },
  {
   "cell_type": "code",
   "execution_count": null,
   "metadata": {},
   "outputs": [],
   "source": []
  },
  {
   "cell_type": "code",
   "execution_count": null,
   "metadata": {},
   "outputs": [],
   "source": []
  },
  {
   "cell_type": "code",
   "execution_count": null,
   "metadata": {},
   "outputs": [],
   "source": []
  },
  {
   "cell_type": "code",
   "execution_count": null,
   "metadata": {},
   "outputs": [],
   "source": []
  },
  {
   "cell_type": "code",
   "execution_count": null,
   "metadata": {},
   "outputs": [],
   "source": []
  },
  {
   "cell_type": "code",
   "execution_count": null,
   "metadata": {},
   "outputs": [],
   "source": []
  },
  {
   "cell_type": "code",
   "execution_count": null,
   "metadata": {},
   "outputs": [],
   "source": []
  },
  {
   "cell_type": "code",
   "execution_count": null,
   "metadata": {},
   "outputs": [],
   "source": []
  },
  {
   "cell_type": "code",
   "execution_count": null,
   "metadata": {},
   "outputs": [],
   "source": []
  },
  {
   "cell_type": "code",
   "execution_count": null,
   "metadata": {},
   "outputs": [],
   "source": []
  },
  {
   "cell_type": "code",
   "execution_count": null,
   "metadata": {},
   "outputs": [],
   "source": []
  },
  {
   "cell_type": "code",
   "execution_count": null,
   "metadata": {},
   "outputs": [],
   "source": []
  },
  {
   "cell_type": "code",
   "execution_count": null,
   "metadata": {},
   "outputs": [],
   "source": []
  },
  {
   "cell_type": "code",
   "execution_count": null,
   "metadata": {},
   "outputs": [],
   "source": []
  },
  {
   "cell_type": "code",
   "execution_count": null,
   "metadata": {},
   "outputs": [],
   "source": []
  },
  {
   "cell_type": "code",
   "execution_count": null,
   "metadata": {},
   "outputs": [],
   "source": []
  },
  {
   "cell_type": "code",
   "execution_count": null,
   "metadata": {},
   "outputs": [],
   "source": []
  },
  {
   "cell_type": "code",
   "execution_count": null,
   "metadata": {},
   "outputs": [],
   "source": []
  },
  {
   "cell_type": "code",
   "execution_count": null,
   "metadata": {},
   "outputs": [],
   "source": []
  },
  {
   "cell_type": "code",
   "execution_count": null,
   "metadata": {},
   "outputs": [],
   "source": []
  },
  {
   "cell_type": "code",
   "execution_count": null,
   "metadata": {},
   "outputs": [],
   "source": []
  },
  {
   "cell_type": "code",
   "execution_count": null,
   "metadata": {},
   "outputs": [],
   "source": []
  },
  {
   "cell_type": "code",
   "execution_count": null,
   "metadata": {},
   "outputs": [],
   "source": []
  },
  {
   "cell_type": "code",
   "execution_count": null,
   "metadata": {},
   "outputs": [],
   "source": []
  },
  {
   "cell_type": "code",
   "execution_count": null,
   "metadata": {},
   "outputs": [],
   "source": []
  },
  {
   "cell_type": "code",
   "execution_count": null,
   "metadata": {},
   "outputs": [],
   "source": []
  },
  {
   "cell_type": "code",
   "execution_count": null,
   "metadata": {},
   "outputs": [],
   "source": []
  },
  {
   "cell_type": "code",
   "execution_count": null,
   "metadata": {},
   "outputs": [],
   "source": []
  },
  {
   "cell_type": "code",
   "execution_count": null,
   "metadata": {},
   "outputs": [],
   "source": []
  },
  {
   "cell_type": "code",
   "execution_count": null,
   "metadata": {},
   "outputs": [],
   "source": []
  },
  {
   "cell_type": "code",
   "execution_count": null,
   "metadata": {},
   "outputs": [],
   "source": []
  },
  {
   "cell_type": "code",
   "execution_count": null,
   "metadata": {},
   "outputs": [],
   "source": []
  },
  {
   "cell_type": "code",
   "execution_count": null,
   "metadata": {},
   "outputs": [],
   "source": []
  },
  {
   "cell_type": "code",
   "execution_count": null,
   "metadata": {},
   "outputs": [],
   "source": []
  },
  {
   "cell_type": "code",
   "execution_count": null,
   "metadata": {},
   "outputs": [],
   "source": []
  },
  {
   "cell_type": "code",
   "execution_count": null,
   "metadata": {},
   "outputs": [],
   "source": []
  },
  {
   "cell_type": "code",
   "execution_count": null,
   "metadata": {},
   "outputs": [],
   "source": []
  },
  {
   "cell_type": "code",
   "execution_count": null,
   "metadata": {},
   "outputs": [],
   "source": []
  },
  {
   "cell_type": "code",
   "execution_count": null,
   "metadata": {},
   "outputs": [],
   "source": []
  },
  {
   "cell_type": "code",
   "execution_count": null,
   "metadata": {},
   "outputs": [],
   "source": []
  },
  {
   "cell_type": "code",
   "execution_count": null,
   "metadata": {},
   "outputs": [],
   "source": []
  },
  {
   "cell_type": "code",
   "execution_count": null,
   "metadata": {},
   "outputs": [],
   "source": []
  },
  {
   "cell_type": "code",
   "execution_count": null,
   "metadata": {},
   "outputs": [],
   "source": []
  },
  {
   "cell_type": "code",
   "execution_count": null,
   "metadata": {},
   "outputs": [],
   "source": []
  },
  {
   "cell_type": "code",
   "execution_count": null,
   "metadata": {},
   "outputs": [],
   "source": []
  },
  {
   "cell_type": "code",
   "execution_count": null,
   "metadata": {},
   "outputs": [],
   "source": []
  },
  {
   "cell_type": "code",
   "execution_count": null,
   "metadata": {},
   "outputs": [],
   "source": []
  },
  {
   "cell_type": "code",
   "execution_count": null,
   "metadata": {},
   "outputs": [],
   "source": []
  },
  {
   "cell_type": "code",
   "execution_count": null,
   "metadata": {},
   "outputs": [],
   "source": []
  },
  {
   "cell_type": "code",
   "execution_count": null,
   "metadata": {},
   "outputs": [],
   "source": []
  },
  {
   "cell_type": "code",
   "execution_count": null,
   "metadata": {},
   "outputs": [],
   "source": []
  },
  {
   "cell_type": "code",
   "execution_count": null,
   "metadata": {},
   "outputs": [],
   "source": []
  },
  {
   "cell_type": "code",
   "execution_count": null,
   "metadata": {},
   "outputs": [],
   "source": []
  },
  {
   "cell_type": "code",
   "execution_count": null,
   "metadata": {},
   "outputs": [],
   "source": []
  },
  {
   "cell_type": "code",
   "execution_count": null,
   "metadata": {},
   "outputs": [],
   "source": []
  },
  {
   "cell_type": "code",
   "execution_count": null,
   "metadata": {},
   "outputs": [],
   "source": []
  },
  {
   "cell_type": "code",
   "execution_count": null,
   "metadata": {},
   "outputs": [],
   "source": []
  },
  {
   "cell_type": "code",
   "execution_count": null,
   "metadata": {},
   "outputs": [],
   "source": []
  },
  {
   "cell_type": "code",
   "execution_count": null,
   "metadata": {},
   "outputs": [],
   "source": []
  },
  {
   "cell_type": "code",
   "execution_count": null,
   "metadata": {},
   "outputs": [],
   "source": []
  },
  {
   "cell_type": "code",
   "execution_count": null,
   "metadata": {},
   "outputs": [],
   "source": []
  },
  {
   "cell_type": "code",
   "execution_count": null,
   "metadata": {},
   "outputs": [],
   "source": []
  },
  {
   "cell_type": "code",
   "execution_count": null,
   "metadata": {},
   "outputs": [],
   "source": []
  },
  {
   "cell_type": "code",
   "execution_count": null,
   "metadata": {},
   "outputs": [],
   "source": []
  },
  {
   "cell_type": "code",
   "execution_count": null,
   "metadata": {},
   "outputs": [],
   "source": []
  },
  {
   "cell_type": "code",
   "execution_count": null,
   "metadata": {},
   "outputs": [],
   "source": []
  },
  {
   "cell_type": "code",
   "execution_count": null,
   "metadata": {},
   "outputs": [],
   "source": []
  },
  {
   "cell_type": "code",
   "execution_count": null,
   "metadata": {},
   "outputs": [],
   "source": []
  },
  {
   "cell_type": "code",
   "execution_count": null,
   "metadata": {},
   "outputs": [],
   "source": []
  },
  {
   "cell_type": "code",
   "execution_count": null,
   "metadata": {},
   "outputs": [],
   "source": []
  },
  {
   "cell_type": "code",
   "execution_count": null,
   "metadata": {},
   "outputs": [],
   "source": []
  },
  {
   "cell_type": "code",
   "execution_count": null,
   "metadata": {},
   "outputs": [],
   "source": []
  },
  {
   "cell_type": "code",
   "execution_count": null,
   "metadata": {},
   "outputs": [],
   "source": []
  },
  {
   "cell_type": "code",
   "execution_count": null,
   "metadata": {},
   "outputs": [],
   "source": []
  },
  {
   "cell_type": "code",
   "execution_count": null,
   "metadata": {},
   "outputs": [],
   "source": []
  },
  {
   "cell_type": "code",
   "execution_count": null,
   "metadata": {},
   "outputs": [],
   "source": []
  },
  {
   "cell_type": "code",
   "execution_count": null,
   "metadata": {},
   "outputs": [],
   "source": []
  },
  {
   "cell_type": "code",
   "execution_count": null,
   "metadata": {},
   "outputs": [],
   "source": []
  },
  {
   "cell_type": "code",
   "execution_count": null,
   "metadata": {},
   "outputs": [],
   "source": []
  },
  {
   "cell_type": "code",
   "execution_count": null,
   "metadata": {},
   "outputs": [],
   "source": []
  },
  {
   "cell_type": "code",
   "execution_count": null,
   "metadata": {},
   "outputs": [],
   "source": []
  },
  {
   "cell_type": "code",
   "execution_count": null,
   "metadata": {},
   "outputs": [],
   "source": []
  },
  {
   "cell_type": "code",
   "execution_count": null,
   "metadata": {},
   "outputs": [],
   "source": []
  },
  {
   "cell_type": "code",
   "execution_count": null,
   "metadata": {},
   "outputs": [],
   "source": []
  },
  {
   "cell_type": "code",
   "execution_count": null,
   "metadata": {},
   "outputs": [],
   "source": []
  },
  {
   "cell_type": "code",
   "execution_count": null,
   "metadata": {},
   "outputs": [],
   "source": []
  },
  {
   "cell_type": "code",
   "execution_count": null,
   "metadata": {},
   "outputs": [],
   "source": []
  },
  {
   "cell_type": "code",
   "execution_count": null,
   "metadata": {},
   "outputs": [],
   "source": []
  }
 ],
 "metadata": {
  "kernelspec": {
   "display_name": "Python 3",
   "language": "python",
   "name": "python3"
  },
  "language_info": {
   "codemirror_mode": {
    "name": "ipython",
    "version": 3
   },
   "file_extension": ".py",
   "mimetype": "text/x-python",
   "name": "python",
   "nbconvert_exporter": "python",
   "pygments_lexer": "ipython3",
   "version": "3.8.3"
  }
 },
 "nbformat": 4,
 "nbformat_minor": 4
}
