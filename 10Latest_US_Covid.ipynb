{
 "cells": [
  {
   "cell_type": "markdown",
   "metadata": {},
   "source": [
    "The data given is of US patients who diagnosed as Covid positive, many of them recovered, some died.\n",
    "The data consist of different province of US, we need to check out whether the patient was Covid Confirmed case or not."
   ]
  },
  {
   "cell_type": "code",
   "execution_count": 1,
   "metadata": {},
   "outputs": [],
   "source": [
    "import pandas as pd\n",
    "import numpy as np\n",
    "import matplotlib.pyplot as plt\n",
    "import seaborn as sns\n",
    "import sklearn"
   ]
  },
  {
   "cell_type": "code",
   "execution_count": 2,
   "metadata": {},
   "outputs": [
    {
     "data": {
      "text/html": [
       "<div>\n",
       "<style scoped>\n",
       "    .dataframe tbody tr th:only-of-type {\n",
       "        vertical-align: middle;\n",
       "    }\n",
       "\n",
       "    .dataframe tbody tr th {\n",
       "        vertical-align: top;\n",
       "    }\n",
       "\n",
       "    .dataframe thead th {\n",
       "        text-align: right;\n",
       "    }\n",
       "</style>\n",
       "<table border=\"1\" class=\"dataframe\">\n",
       "  <thead>\n",
       "    <tr style=\"text-align: right;\">\n",
       "      <th></th>\n",
       "      <th>Province_State</th>\n",
       "      <th>Country_Region</th>\n",
       "      <th>Last_Update</th>\n",
       "      <th>Lat</th>\n",
       "      <th>Long_</th>\n",
       "      <th>Confirmed</th>\n",
       "      <th>Deaths</th>\n",
       "      <th>Recovered</th>\n",
       "      <th>Active</th>\n",
       "      <th>FIPS</th>\n",
       "      <th>Incident_Rate</th>\n",
       "      <th>People_Tested</th>\n",
       "      <th>People_Hospitalized</th>\n",
       "      <th>Mortality_Rate</th>\n",
       "      <th>UID</th>\n",
       "      <th>ISO3</th>\n",
       "      <th>Testing_Rate</th>\n",
       "      <th>Hospitalization_Rate</th>\n",
       "    </tr>\n",
       "  </thead>\n",
       "  <tbody>\n",
       "    <tr>\n",
       "      <th>0</th>\n",
       "      <td>Alabama</td>\n",
       "      <td>US</td>\n",
       "      <td>2020-05-21 02:32:54</td>\n",
       "      <td>32.3182</td>\n",
       "      <td>-86.9023</td>\n",
       "      <td>13052</td>\n",
       "      <td>522</td>\n",
       "      <td>NaN</td>\n",
       "      <td>12530.0</td>\n",
       "      <td>1</td>\n",
       "      <td>266.194321</td>\n",
       "      <td>164450.0</td>\n",
       "      <td>1493.0</td>\n",
       "      <td>3.999387</td>\n",
       "      <td>84000001</td>\n",
       "      <td>USA</td>\n",
       "      <td>3353.942386</td>\n",
       "      <td>11.438860</td>\n",
       "    </tr>\n",
       "    <tr>\n",
       "      <th>1</th>\n",
       "      <td>Alaska</td>\n",
       "      <td>US</td>\n",
       "      <td>2020-05-21 02:32:54</td>\n",
       "      <td>61.3707</td>\n",
       "      <td>-152.4044</td>\n",
       "      <td>401</td>\n",
       "      <td>10</td>\n",
       "      <td>352.0</td>\n",
       "      <td>39.0</td>\n",
       "      <td>2</td>\n",
       "      <td>54.815493</td>\n",
       "      <td>37045.0</td>\n",
       "      <td>NaN</td>\n",
       "      <td>2.493766</td>\n",
       "      <td>84000002</td>\n",
       "      <td>USA</td>\n",
       "      <td>5063.940017</td>\n",
       "      <td>NaN</td>\n",
       "    </tr>\n",
       "    <tr>\n",
       "      <th>2</th>\n",
       "      <td>American Samoa</td>\n",
       "      <td>US</td>\n",
       "      <td>2020-05-21 02:32:54</td>\n",
       "      <td>-14.2710</td>\n",
       "      <td>-170.1320</td>\n",
       "      <td>0</td>\n",
       "      <td>0</td>\n",
       "      <td>NaN</td>\n",
       "      <td>0.0</td>\n",
       "      <td>60</td>\n",
       "      <td>0.000000</td>\n",
       "      <td>124.0</td>\n",
       "      <td>NaN</td>\n",
       "      <td>NaN</td>\n",
       "      <td>16</td>\n",
       "      <td>ASM</td>\n",
       "      <td>222.857246</td>\n",
       "      <td>NaN</td>\n",
       "    </tr>\n",
       "    <tr>\n",
       "      <th>3</th>\n",
       "      <td>Arizona</td>\n",
       "      <td>US</td>\n",
       "      <td>2020-05-21 02:32:54</td>\n",
       "      <td>33.7298</td>\n",
       "      <td>-111.4312</td>\n",
       "      <td>14906</td>\n",
       "      <td>747</td>\n",
       "      <td>3773.0</td>\n",
       "      <td>10386.0</td>\n",
       "      <td>4</td>\n",
       "      <td>204.788838</td>\n",
       "      <td>165435.0</td>\n",
       "      <td>1792.0</td>\n",
       "      <td>5.011405</td>\n",
       "      <td>84000004</td>\n",
       "      <td>USA</td>\n",
       "      <td>2272.859351</td>\n",
       "      <td>12.022005</td>\n",
       "    </tr>\n",
       "    <tr>\n",
       "      <th>4</th>\n",
       "      <td>Arkansas</td>\n",
       "      <td>US</td>\n",
       "      <td>2020-05-21 02:32:54</td>\n",
       "      <td>34.9697</td>\n",
       "      <td>-92.3731</td>\n",
       "      <td>5003</td>\n",
       "      <td>107</td>\n",
       "      <td>3852.0</td>\n",
       "      <td>1044.0</td>\n",
       "      <td>5</td>\n",
       "      <td>165.782801</td>\n",
       "      <td>96258.0</td>\n",
       "      <td>535.0</td>\n",
       "      <td>2.138717</td>\n",
       "      <td>84000005</td>\n",
       "      <td>USA</td>\n",
       "      <td>3189.670370</td>\n",
       "      <td>10.693584</td>\n",
       "    </tr>\n",
       "    <tr>\n",
       "      <th>5</th>\n",
       "      <td>California</td>\n",
       "      <td>US</td>\n",
       "      <td>2020-05-21 02:32:54</td>\n",
       "      <td>36.1162</td>\n",
       "      <td>-119.6816</td>\n",
       "      <td>85997</td>\n",
       "      <td>3497</td>\n",
       "      <td>NaN</td>\n",
       "      <td>82500.0</td>\n",
       "      <td>6</td>\n",
       "      <td>217.646575</td>\n",
       "      <td>1380120.0</td>\n",
       "      <td>NaN</td>\n",
       "      <td>4.066421</td>\n",
       "      <td>84000006</td>\n",
       "      <td>USA</td>\n",
       "      <td>3492.893832</td>\n",
       "      <td>NaN</td>\n",
       "    </tr>\n",
       "    <tr>\n",
       "      <th>6</th>\n",
       "      <td>Colorado</td>\n",
       "      <td>US</td>\n",
       "      <td>2020-05-21 02:32:54</td>\n",
       "      <td>39.0598</td>\n",
       "      <td>-105.3111</td>\n",
       "      <td>22797</td>\n",
       "      <td>1299</td>\n",
       "      <td>3478.0</td>\n",
       "      <td>18020.0</td>\n",
       "      <td>8</td>\n",
       "      <td>395.868121</td>\n",
       "      <td>131837.0</td>\n",
       "      <td>3955.0</td>\n",
       "      <td>5.698118</td>\n",
       "      <td>84000008</td>\n",
       "      <td>USA</td>\n",
       "      <td>2289.339188</td>\n",
       "      <td>17.348774</td>\n",
       "    </tr>\n",
       "    <tr>\n",
       "      <th>7</th>\n",
       "      <td>Connecticut</td>\n",
       "      <td>US</td>\n",
       "      <td>2020-05-21 02:32:54</td>\n",
       "      <td>41.5978</td>\n",
       "      <td>-72.7554</td>\n",
       "      <td>39017</td>\n",
       "      <td>3529</td>\n",
       "      <td>6264.0</td>\n",
       "      <td>29224.0</td>\n",
       "      <td>9</td>\n",
       "      <td>1094.357902</td>\n",
       "      <td>190718.0</td>\n",
       "      <td>10946.0</td>\n",
       "      <td>9.044775</td>\n",
       "      <td>84000009</td>\n",
       "      <td>USA</td>\n",
       "      <td>5349.302875</td>\n",
       "      <td>28.054438</td>\n",
       "    </tr>\n",
       "    <tr>\n",
       "      <th>8</th>\n",
       "      <td>Delaware</td>\n",
       "      <td>US</td>\n",
       "      <td>2020-05-21 02:32:54</td>\n",
       "      <td>39.3185</td>\n",
       "      <td>-75.5071</td>\n",
       "      <td>8194</td>\n",
       "      <td>310</td>\n",
       "      <td>3965.0</td>\n",
       "      <td>3919.0</td>\n",
       "      <td>10</td>\n",
       "      <td>841.476990</td>\n",
       "      <td>45412.0</td>\n",
       "      <td>NaN</td>\n",
       "      <td>3.783256</td>\n",
       "      <td>84000010</td>\n",
       "      <td>USA</td>\n",
       "      <td>4663.552976</td>\n",
       "      <td>NaN</td>\n",
       "    </tr>\n",
       "    <tr>\n",
       "      <th>9</th>\n",
       "      <td>Diamond Princess</td>\n",
       "      <td>US</td>\n",
       "      <td>2020-05-21 02:32:54</td>\n",
       "      <td>NaN</td>\n",
       "      <td>NaN</td>\n",
       "      <td>49</td>\n",
       "      <td>0</td>\n",
       "      <td>NaN</td>\n",
       "      <td>49.0</td>\n",
       "      <td>88888</td>\n",
       "      <td>NaN</td>\n",
       "      <td>NaN</td>\n",
       "      <td>NaN</td>\n",
       "      <td>0.000000</td>\n",
       "      <td>84088888</td>\n",
       "      <td>USA</td>\n",
       "      <td>NaN</td>\n",
       "      <td>NaN</td>\n",
       "    </tr>\n",
       "  </tbody>\n",
       "</table>\n",
       "</div>"
      ],
      "text/plain": [
       "     Province_State Country_Region         Last_Update      Lat     Long_  \\\n",
       "0           Alabama             US 2020-05-21 02:32:54  32.3182  -86.9023   \n",
       "1            Alaska             US 2020-05-21 02:32:54  61.3707 -152.4044   \n",
       "2    American Samoa             US 2020-05-21 02:32:54 -14.2710 -170.1320   \n",
       "3           Arizona             US 2020-05-21 02:32:54  33.7298 -111.4312   \n",
       "4          Arkansas             US 2020-05-21 02:32:54  34.9697  -92.3731   \n",
       "5        California             US 2020-05-21 02:32:54  36.1162 -119.6816   \n",
       "6          Colorado             US 2020-05-21 02:32:54  39.0598 -105.3111   \n",
       "7       Connecticut             US 2020-05-21 02:32:54  41.5978  -72.7554   \n",
       "8          Delaware             US 2020-05-21 02:32:54  39.3185  -75.5071   \n",
       "9  Diamond Princess             US 2020-05-21 02:32:54      NaN       NaN   \n",
       "\n",
       "   Confirmed  Deaths  Recovered   Active   FIPS  Incident_Rate  People_Tested  \\\n",
       "0      13052     522        NaN  12530.0      1     266.194321       164450.0   \n",
       "1        401      10      352.0     39.0      2      54.815493        37045.0   \n",
       "2          0       0        NaN      0.0     60       0.000000          124.0   \n",
       "3      14906     747     3773.0  10386.0      4     204.788838       165435.0   \n",
       "4       5003     107     3852.0   1044.0      5     165.782801        96258.0   \n",
       "5      85997    3497        NaN  82500.0      6     217.646575      1380120.0   \n",
       "6      22797    1299     3478.0  18020.0      8     395.868121       131837.0   \n",
       "7      39017    3529     6264.0  29224.0      9    1094.357902       190718.0   \n",
       "8       8194     310     3965.0   3919.0     10     841.476990        45412.0   \n",
       "9         49       0        NaN     49.0  88888            NaN            NaN   \n",
       "\n",
       "   People_Hospitalized  Mortality_Rate       UID ISO3  Testing_Rate  \\\n",
       "0               1493.0        3.999387  84000001  USA   3353.942386   \n",
       "1                  NaN        2.493766  84000002  USA   5063.940017   \n",
       "2                  NaN             NaN        16  ASM    222.857246   \n",
       "3               1792.0        5.011405  84000004  USA   2272.859351   \n",
       "4                535.0        2.138717  84000005  USA   3189.670370   \n",
       "5                  NaN        4.066421  84000006  USA   3492.893832   \n",
       "6               3955.0        5.698118  84000008  USA   2289.339188   \n",
       "7              10946.0        9.044775  84000009  USA   5349.302875   \n",
       "8                  NaN        3.783256  84000010  USA   4663.552976   \n",
       "9                  NaN        0.000000  84088888  USA           NaN   \n",
       "\n",
       "   Hospitalization_Rate  \n",
       "0             11.438860  \n",
       "1                   NaN  \n",
       "2                   NaN  \n",
       "3             12.022005  \n",
       "4             10.693584  \n",
       "5                   NaN  \n",
       "6             17.348774  \n",
       "7             28.054438  \n",
       "8                   NaN  \n",
       "9                   NaN  "
      ]
     },
     "execution_count": 2,
     "metadata": {},
     "output_type": "execute_result"
    }
   ],
   "source": [
    "cr=pd.read_csv('US_covid.csv', parse_dates=['Last_Update'])\n",
    "cr.head(10)"
   ]
  },
  {
   "cell_type": "code",
   "execution_count": 3,
   "metadata": {},
   "outputs": [
    {
     "data": {
      "text/plain": [
       "Index(['Province_State', 'Country_Region', 'Last_Update', 'Lat', 'Long_',\n",
       "       'Confirmed', 'Deaths', 'Recovered', 'Active', 'FIPS', 'Incident_Rate',\n",
       "       'People_Tested', 'People_Hospitalized', 'Mortality_Rate', 'UID', 'ISO3',\n",
       "       'Testing_Rate', 'Hospitalization_Rate'],\n",
       "      dtype='object')"
      ]
     },
     "execution_count": 3,
     "metadata": {},
     "output_type": "execute_result"
    }
   ],
   "source": [
    "cr.columns"
   ]
  },
  {
   "cell_type": "code",
   "execution_count": 4,
   "metadata": {},
   "outputs": [
    {
     "data": {
      "text/plain": [
       "Province_State                  object\n",
       "Country_Region                  object\n",
       "Last_Update             datetime64[ns]\n",
       "Lat                            float64\n",
       "Long_                          float64\n",
       "Confirmed                        int64\n",
       "Deaths                           int64\n",
       "Recovered                      float64\n",
       "Active                         float64\n",
       "FIPS                             int64\n",
       "Incident_Rate                  float64\n",
       "People_Tested                  float64\n",
       "People_Hospitalized            float64\n",
       "Mortality_Rate                 float64\n",
       "UID                              int64\n",
       "ISO3                            object\n",
       "Testing_Rate                   float64\n",
       "Hospitalization_Rate           float64\n",
       "dtype: object"
      ]
     },
     "execution_count": 4,
     "metadata": {},
     "output_type": "execute_result"
    }
   ],
   "source": [
    "cr.dtypes"
   ]
  },
  {
   "cell_type": "code",
   "execution_count": 5,
   "metadata": {},
   "outputs": [
    {
     "data": {
      "text/plain": [
       "Province_State           0\n",
       "Country_Region           0\n",
       "Last_Update              0\n",
       "Lat                      2\n",
       "Long_                    2\n",
       "Confirmed                0\n",
       "Deaths                   0\n",
       "Recovered               16\n",
       "Active                   0\n",
       "FIPS                     0\n",
       "Incident_Rate            2\n",
       "People_Tested            2\n",
       "People_Hospitalized     25\n",
       "Mortality_Rate           1\n",
       "UID                      0\n",
       "ISO3                     0\n",
       "Testing_Rate             2\n",
       "Hospitalization_Rate    25\n",
       "dtype: int64"
      ]
     },
     "execution_count": 5,
     "metadata": {},
     "output_type": "execute_result"
    }
   ],
   "source": [
    "cr.isnull().sum()"
   ]
  },
  {
   "cell_type": "markdown",
   "metadata": {},
   "source": [
    "As we can clearly see that data has null values,and they are average\n",
    "null values which means they can be replaced either by mode or the mean function, \n",
    "and the columns which has low number of null values can be dropped."
   ]
  },
  {
   "cell_type": "code",
   "execution_count": 6,
   "metadata": {},
   "outputs": [],
   "source": [
    "cr['People_Hospitalized']=cr['People_Hospitalized'].fillna(cr['People_Hospitalized'].mode()[0])\n",
    "cr['Recovered']=cr['Recovered'].fillna(cr['Recovered'].mode()[0])\n",
    "cr['Hospitalization_Rate']=cr['Hospitalization_Rate'].fillna(cr['Hospitalization_Rate'].mode()[0])"
   ]
  },
  {
   "cell_type": "code",
   "execution_count": 7,
   "metadata": {},
   "outputs": [],
   "source": [
    "cr.dropna(inplace=True)"
   ]
  },
  {
   "cell_type": "code",
   "execution_count": 8,
   "metadata": {},
   "outputs": [
    {
     "data": {
      "text/plain": [
       "Province_State          0\n",
       "Country_Region          0\n",
       "Last_Update             0\n",
       "Lat                     0\n",
       "Long_                   0\n",
       "Confirmed               0\n",
       "Deaths                  0\n",
       "Recovered               0\n",
       "Active                  0\n",
       "FIPS                    0\n",
       "Incident_Rate           0\n",
       "People_Tested           0\n",
       "People_Hospitalized     0\n",
       "Mortality_Rate          0\n",
       "UID                     0\n",
       "ISO3                    0\n",
       "Testing_Rate            0\n",
       "Hospitalization_Rate    0\n",
       "dtype: int64"
      ]
     },
     "execution_count": 8,
     "metadata": {},
     "output_type": "execute_result"
    }
   ],
   "source": [
    "cr.isnull().sum()"
   ]
  },
  {
   "cell_type": "markdown",
   "metadata": {},
   "source": [
    "We can see some columns have categorical data we need to convert it into the numerical data by using label encoder."
   ]
  },
  {
   "cell_type": "code",
   "execution_count": 9,
   "metadata": {},
   "outputs": [],
   "source": [
    "from sklearn.preprocessing import LabelEncoder\n",
    "le=LabelEncoder()\n",
    "cr['Province_State']=le.fit_transform(cr['Province_State'])\n",
    "cr['Country_Region']=le.fit_transform(cr['Country_Region'])\n",
    "cr['ISO3']=le.fit_transform(cr['ISO3'])"
   ]
  },
  {
   "cell_type": "code",
   "execution_count": 10,
   "metadata": {},
   "outputs": [
    {
     "data": {
      "text/plain": [
       "Province_State                   int32\n",
       "Country_Region                   int32\n",
       "Last_Update             datetime64[ns]\n",
       "Lat                            float64\n",
       "Long_                          float64\n",
       "Confirmed                        int64\n",
       "Deaths                           int64\n",
       "Recovered                      float64\n",
       "Active                         float64\n",
       "FIPS                             int64\n",
       "Incident_Rate                  float64\n",
       "People_Tested                  float64\n",
       "People_Hospitalized            float64\n",
       "Mortality_Rate                 float64\n",
       "UID                              int64\n",
       "ISO3                             int32\n",
       "Testing_Rate                   float64\n",
       "Hospitalization_Rate           float64\n",
       "dtype: object"
      ]
     },
     "execution_count": 10,
     "metadata": {},
     "output_type": "execute_result"
    }
   ],
   "source": [
    "cr.dtypes "
   ]
  },
  {
   "cell_type": "code",
   "execution_count": 11,
   "metadata": {},
   "outputs": [
    {
     "data": {
      "text/html": [
       "<div>\n",
       "<style scoped>\n",
       "    .dataframe tbody tr th:only-of-type {\n",
       "        vertical-align: middle;\n",
       "    }\n",
       "\n",
       "    .dataframe tbody tr th {\n",
       "        vertical-align: top;\n",
       "    }\n",
       "\n",
       "    .dataframe thead th {\n",
       "        text-align: right;\n",
       "    }\n",
       "</style>\n",
       "<table border=\"1\" class=\"dataframe\">\n",
       "  <thead>\n",
       "    <tr style=\"text-align: right;\">\n",
       "      <th></th>\n",
       "      <th>Day</th>\n",
       "      <th>Month</th>\n",
       "      <th>Type of Day</th>\n",
       "    </tr>\n",
       "  </thead>\n",
       "  <tbody>\n",
       "    <tr>\n",
       "      <th>0</th>\n",
       "      <td>Thursday</td>\n",
       "      <td>May</td>\n",
       "      <td>weekday</td>\n",
       "    </tr>\n",
       "    <tr>\n",
       "      <th>1</th>\n",
       "      <td>Thursday</td>\n",
       "      <td>May</td>\n",
       "      <td>weekday</td>\n",
       "    </tr>\n",
       "    <tr>\n",
       "      <th>3</th>\n",
       "      <td>Thursday</td>\n",
       "      <td>May</td>\n",
       "      <td>weekday</td>\n",
       "    </tr>\n",
       "    <tr>\n",
       "      <th>4</th>\n",
       "      <td>Thursday</td>\n",
       "      <td>May</td>\n",
       "      <td>weekday</td>\n",
       "    </tr>\n",
       "    <tr>\n",
       "      <th>5</th>\n",
       "      <td>Thursday</td>\n",
       "      <td>May</td>\n",
       "      <td>weekday</td>\n",
       "    </tr>\n",
       "    <tr>\n",
       "      <th>6</th>\n",
       "      <td>Thursday</td>\n",
       "      <td>May</td>\n",
       "      <td>weekday</td>\n",
       "    </tr>\n",
       "    <tr>\n",
       "      <th>7</th>\n",
       "      <td>Thursday</td>\n",
       "      <td>May</td>\n",
       "      <td>weekday</td>\n",
       "    </tr>\n",
       "    <tr>\n",
       "      <th>8</th>\n",
       "      <td>Thursday</td>\n",
       "      <td>May</td>\n",
       "      <td>weekday</td>\n",
       "    </tr>\n",
       "    <tr>\n",
       "      <th>10</th>\n",
       "      <td>Thursday</td>\n",
       "      <td>May</td>\n",
       "      <td>weekday</td>\n",
       "    </tr>\n",
       "    <tr>\n",
       "      <th>11</th>\n",
       "      <td>Thursday</td>\n",
       "      <td>May</td>\n",
       "      <td>weekday</td>\n",
       "    </tr>\n",
       "  </tbody>\n",
       "</table>\n",
       "</div>"
      ],
      "text/plain": [
       "         Day Month Type of Day\n",
       "0   Thursday   May     weekday\n",
       "1   Thursday   May     weekday\n",
       "3   Thursday   May     weekday\n",
       "4   Thursday   May     weekday\n",
       "5   Thursday   May     weekday\n",
       "6   Thursday   May     weekday\n",
       "7   Thursday   May     weekday\n",
       "8   Thursday   May     weekday\n",
       "10  Thursday   May     weekday\n",
       "11  Thursday   May     weekday"
      ]
     },
     "execution_count": 11,
     "metadata": {},
     "output_type": "execute_result"
    }
   ],
   "source": [
    "cr_dates=pd.DataFrame()\n",
    "cr_dates['Day']=cr['Last_Update'].dt.day_name()\n",
    "cr_dates['Month']=cr['Last_Update'].dt.month_name()\n",
    "cr_dates['Type of Day']=np.where((cr_dates['Day']=='Saturday')|(cr_dates['Day']=='Sunday'),'weekend', 'weekday')\n",
    "cr_dates.head(10)"
   ]
  },
  {
   "cell_type": "code",
   "execution_count": 12,
   "metadata": {},
   "outputs": [
    {
     "data": {
      "text/plain": [
       "0"
      ]
     },
     "execution_count": 12,
     "metadata": {},
     "output_type": "execute_result"
    }
   ],
   "source": [
    "(cr_dates['Month']== 'Jan').sum()"
   ]
  },
  {
   "cell_type": "code",
   "execution_count": 13,
   "metadata": {},
   "outputs": [
    {
     "data": {
      "text/plain": [
       "0"
      ]
     },
     "execution_count": 13,
     "metadata": {},
     "output_type": "execute_result"
    }
   ],
   "source": [
    "(cr_dates['Day']== 'Sunday').sum()"
   ]
  },
  {
   "cell_type": "markdown",
   "metadata": {},
   "source": [
    "It seems the data consists of just Thursday of May month and considers different province \n",
    "which had the Covid related cases and deaths on the Thursday of May month, which also means that we can drop the column of Last Update data as it as no specific use as such."
   ]
  },
  {
   "cell_type": "code",
   "execution_count": 14,
   "metadata": {},
   "outputs": [],
   "source": [
    "cm=cr.drop('Last_Update', axis=1)"
   ]
  },
  {
   "cell_type": "code",
   "execution_count": null,
   "metadata": {},
   "outputs": [],
   "source": []
  },
  {
   "cell_type": "code",
   "execution_count": 15,
   "metadata": {},
   "outputs": [
    {
     "data": {
      "text/html": [
       "<div>\n",
       "<style scoped>\n",
       "    .dataframe tbody tr th:only-of-type {\n",
       "        vertical-align: middle;\n",
       "    }\n",
       "\n",
       "    .dataframe tbody tr th {\n",
       "        vertical-align: top;\n",
       "    }\n",
       "\n",
       "    .dataframe thead th {\n",
       "        text-align: right;\n",
       "    }\n",
       "</style>\n",
       "<table border=\"1\" class=\"dataframe\">\n",
       "  <thead>\n",
       "    <tr style=\"text-align: right;\">\n",
       "      <th></th>\n",
       "      <th>Province_State</th>\n",
       "      <th>Country_Region</th>\n",
       "      <th>Lat</th>\n",
       "      <th>Long_</th>\n",
       "      <th>Confirmed</th>\n",
       "      <th>Deaths</th>\n",
       "      <th>Recovered</th>\n",
       "      <th>Active</th>\n",
       "      <th>FIPS</th>\n",
       "      <th>Incident_Rate</th>\n",
       "      <th>People_Tested</th>\n",
       "      <th>People_Hospitalized</th>\n",
       "      <th>Mortality_Rate</th>\n",
       "      <th>UID</th>\n",
       "      <th>ISO3</th>\n",
       "      <th>Testing_Rate</th>\n",
       "      <th>Hospitalization_Rate</th>\n",
       "    </tr>\n",
       "  </thead>\n",
       "  <tbody>\n",
       "    <tr>\n",
       "      <th>0</th>\n",
       "      <td>0</td>\n",
       "      <td>0</td>\n",
       "      <td>32.3182</td>\n",
       "      <td>-86.9023</td>\n",
       "      <td>13052</td>\n",
       "      <td>522</td>\n",
       "      <td>13.0</td>\n",
       "      <td>12530.0</td>\n",
       "      <td>1</td>\n",
       "      <td>266.194321</td>\n",
       "      <td>164450.0</td>\n",
       "      <td>1493.0</td>\n",
       "      <td>3.999387</td>\n",
       "      <td>84000001</td>\n",
       "      <td>3</td>\n",
       "      <td>3353.942386</td>\n",
       "      <td>11.438860</td>\n",
       "    </tr>\n",
       "    <tr>\n",
       "      <th>1</th>\n",
       "      <td>1</td>\n",
       "      <td>0</td>\n",
       "      <td>61.3707</td>\n",
       "      <td>-152.4044</td>\n",
       "      <td>401</td>\n",
       "      <td>10</td>\n",
       "      <td>352.0</td>\n",
       "      <td>39.0</td>\n",
       "      <td>2</td>\n",
       "      <td>54.815493</td>\n",
       "      <td>37045.0</td>\n",
       "      <td>65.0</td>\n",
       "      <td>2.493766</td>\n",
       "      <td>84000002</td>\n",
       "      <td>3</td>\n",
       "      <td>5063.940017</td>\n",
       "      <td>6.778043</td>\n",
       "    </tr>\n",
       "    <tr>\n",
       "      <th>3</th>\n",
       "      <td>2</td>\n",
       "      <td>0</td>\n",
       "      <td>33.7298</td>\n",
       "      <td>-111.4312</td>\n",
       "      <td>14906</td>\n",
       "      <td>747</td>\n",
       "      <td>3773.0</td>\n",
       "      <td>10386.0</td>\n",
       "      <td>4</td>\n",
       "      <td>204.788838</td>\n",
       "      <td>165435.0</td>\n",
       "      <td>1792.0</td>\n",
       "      <td>5.011405</td>\n",
       "      <td>84000004</td>\n",
       "      <td>3</td>\n",
       "      <td>2272.859351</td>\n",
       "      <td>12.022005</td>\n",
       "    </tr>\n",
       "    <tr>\n",
       "      <th>4</th>\n",
       "      <td>3</td>\n",
       "      <td>0</td>\n",
       "      <td>34.9697</td>\n",
       "      <td>-92.3731</td>\n",
       "      <td>5003</td>\n",
       "      <td>107</td>\n",
       "      <td>3852.0</td>\n",
       "      <td>1044.0</td>\n",
       "      <td>5</td>\n",
       "      <td>165.782801</td>\n",
       "      <td>96258.0</td>\n",
       "      <td>535.0</td>\n",
       "      <td>2.138717</td>\n",
       "      <td>84000005</td>\n",
       "      <td>3</td>\n",
       "      <td>3189.670370</td>\n",
       "      <td>10.693584</td>\n",
       "    </tr>\n",
       "    <tr>\n",
       "      <th>5</th>\n",
       "      <td>4</td>\n",
       "      <td>0</td>\n",
       "      <td>36.1162</td>\n",
       "      <td>-119.6816</td>\n",
       "      <td>85997</td>\n",
       "      <td>3497</td>\n",
       "      <td>13.0</td>\n",
       "      <td>82500.0</td>\n",
       "      <td>6</td>\n",
       "      <td>217.646575</td>\n",
       "      <td>1380120.0</td>\n",
       "      <td>65.0</td>\n",
       "      <td>4.066421</td>\n",
       "      <td>84000006</td>\n",
       "      <td>3</td>\n",
       "      <td>3492.893832</td>\n",
       "      <td>6.778043</td>\n",
       "    </tr>\n",
       "  </tbody>\n",
       "</table>\n",
       "</div>"
      ],
      "text/plain": [
       "   Province_State  Country_Region      Lat     Long_  Confirmed  Deaths  \\\n",
       "0               0               0  32.3182  -86.9023      13052     522   \n",
       "1               1               0  61.3707 -152.4044        401      10   \n",
       "3               2               0  33.7298 -111.4312      14906     747   \n",
       "4               3               0  34.9697  -92.3731       5003     107   \n",
       "5               4               0  36.1162 -119.6816      85997    3497   \n",
       "\n",
       "   Recovered   Active  FIPS  Incident_Rate  People_Tested  \\\n",
       "0       13.0  12530.0     1     266.194321       164450.0   \n",
       "1      352.0     39.0     2      54.815493        37045.0   \n",
       "3     3773.0  10386.0     4     204.788838       165435.0   \n",
       "4     3852.0   1044.0     5     165.782801        96258.0   \n",
       "5       13.0  82500.0     6     217.646575      1380120.0   \n",
       "\n",
       "   People_Hospitalized  Mortality_Rate       UID  ISO3  Testing_Rate  \\\n",
       "0               1493.0        3.999387  84000001     3   3353.942386   \n",
       "1                 65.0        2.493766  84000002     3   5063.940017   \n",
       "3               1792.0        5.011405  84000004     3   2272.859351   \n",
       "4                535.0        2.138717  84000005     3   3189.670370   \n",
       "5                 65.0        4.066421  84000006     3   3492.893832   \n",
       "\n",
       "   Hospitalization_Rate  \n",
       "0             11.438860  \n",
       "1              6.778043  \n",
       "3             12.022005  \n",
       "4             10.693584  \n",
       "5              6.778043  "
      ]
     },
     "execution_count": 15,
     "metadata": {},
     "output_type": "execute_result"
    }
   ],
   "source": [
    "cm.head()"
   ]
  },
  {
   "cell_type": "code",
   "execution_count": 16,
   "metadata": {},
   "outputs": [
    {
     "data": {
      "text/plain": [
       "<matplotlib.axes._subplots.AxesSubplot at 0xb366b50>"
      ]
     },
     "execution_count": 16,
     "metadata": {},
     "output_type": "execute_result"
    },
    {
     "data": {
      "image/png": "[encoded data removed]",
      "text/plain": [
       "<Figure size 432x288 with 2 Axes>"
      ]
     },
     "metadata": {
      "needs_background": "light"
     },
     "output_type": "display_data"
    }
   ],
   "source": [
    "sns.heatmap(cm.isnull())"
   ]
  },
  {
   "cell_type": "code",
   "execution_count": 17,
   "metadata": {},
   "outputs": [
    {
     "data": {
      "text/html": [
       "<div>\n",
       "<style scoped>\n",
       "    .dataframe tbody tr th:only-of-type {\n",
       "        vertical-align: middle;\n",
       "    }\n",
       "\n",
       "    .dataframe tbody tr th {\n",
       "        vertical-align: top;\n",
       "    }\n",
       "\n",
       "    .dataframe thead th {\n",
       "        text-align: right;\n",
       "    }\n",
       "</style>\n",
       "<table border=\"1\" class=\"dataframe\">\n",
       "  <thead>\n",
       "    <tr style=\"text-align: right;\">\n",
       "      <th></th>\n",
       "      <th>Province_State</th>\n",
       "      <th>Country_Region</th>\n",
       "      <th>Lat</th>\n",
       "      <th>Long_</th>\n",
       "      <th>Confirmed</th>\n",
       "      <th>Deaths</th>\n",
       "      <th>Recovered</th>\n",
       "      <th>Active</th>\n",
       "      <th>FIPS</th>\n",
       "      <th>Incident_Rate</th>\n",
       "      <th>People_Tested</th>\n",
       "      <th>People_Hospitalized</th>\n",
       "      <th>Mortality_Rate</th>\n",
       "      <th>UID</th>\n",
       "      <th>ISO3</th>\n",
       "      <th>Testing_Rate</th>\n",
       "      <th>Hospitalization_Rate</th>\n",
       "    </tr>\n",
       "  </thead>\n",
       "  <tbody>\n",
       "    <tr>\n",
       "      <th>Province_State</th>\n",
       "      <td>1.000000</td>\n",
       "      <td>NaN</td>\n",
       "      <td>0.028758</td>\n",
       "      <td>0.035615</td>\n",
       "      <td>-0.032548</td>\n",
       "      <td>-0.015341</td>\n",
       "      <td>0.105567</td>\n",
       "      <td>-0.066463</td>\n",
       "      <td>0.864537</td>\n",
       "      <td>-0.116961</td>\n",
       "      <td>-0.091367</td>\n",
       "      <td>-0.005920</td>\n",
       "      <td>-0.045473</td>\n",
       "      <td>-0.127902</td>\n",
       "      <td>0.084633</td>\n",
       "      <td>0.029655</td>\n",
       "      <td>-0.130724</td>\n",
       "    </tr>\n",
       "    <tr>\n",
       "      <th>Country_Region</th>\n",
       "      <td>NaN</td>\n",
       "      <td>NaN</td>\n",
       "      <td>NaN</td>\n",
       "      <td>NaN</td>\n",
       "      <td>NaN</td>\n",
       "      <td>NaN</td>\n",
       "      <td>NaN</td>\n",
       "      <td>NaN</td>\n",
       "      <td>NaN</td>\n",
       "      <td>NaN</td>\n",
       "      <td>NaN</td>\n",
       "      <td>NaN</td>\n",
       "      <td>NaN</td>\n",
       "      <td>NaN</td>\n",
       "      <td>NaN</td>\n",
       "      <td>NaN</td>\n",
       "      <td>NaN</td>\n",
       "    </tr>\n",
       "    <tr>\n",
       "      <th>Lat</th>\n",
       "      <td>0.028758</td>\n",
       "      <td>NaN</td>\n",
       "      <td>1.000000</td>\n",
       "      <td>-0.570065</td>\n",
       "      <td>0.098689</td>\n",
       "      <td>0.110710</td>\n",
       "      <td>0.056641</td>\n",
       "      <td>0.100299</td>\n",
       "      <td>-0.331101</td>\n",
       "      <td>0.210072</td>\n",
       "      <td>0.024969</td>\n",
       "      <td>0.071905</td>\n",
       "      <td>-0.189675</td>\n",
       "      <td>0.718638</td>\n",
       "      <td>0.499876</td>\n",
       "      <td>0.194446</td>\n",
       "      <td>0.054289</td>\n",
       "    </tr>\n",
       "    <tr>\n",
       "      <th>Long_</th>\n",
       "      <td>0.035615</td>\n",
       "      <td>NaN</td>\n",
       "      <td>-0.570065</td>\n",
       "      <td>1.000000</td>\n",
       "      <td>-0.006640</td>\n",
       "      <td>0.016533</td>\n",
       "      <td>-0.023586</td>\n",
       "      <td>-0.004159</td>\n",
       "      <td>0.433423</td>\n",
       "      <td>0.010608</td>\n",
       "      <td>-0.105068</td>\n",
       "      <td>0.026238</td>\n",
       "      <td>0.318569</td>\n",
       "      <td>-0.714161</td>\n",
       "      <td>-0.834567</td>\n",
       "      <td>0.138546</td>\n",
       "      <td>-0.109053</td>\n",
       "    </tr>\n",
       "    <tr>\n",
       "      <th>Confirmed</th>\n",
       "      <td>-0.032548</td>\n",
       "      <td>NaN</td>\n",
       "      <td>0.098689</td>\n",
       "      <td>-0.006640</td>\n",
       "      <td>1.000000</td>\n",
       "      <td>0.982353</td>\n",
       "      <td>0.753625</td>\n",
       "      <td>0.985028</td>\n",
       "      <td>-0.091928</td>\n",
       "      <td>0.710461</td>\n",
       "      <td>0.827191</td>\n",
       "      <td>0.847261</td>\n",
       "      <td>0.375722</td>\n",
       "      <td>0.144630</td>\n",
       "      <td>0.091684</td>\n",
       "      <td>0.327662</td>\n",
       "      <td>0.193453</td>\n",
       "    </tr>\n",
       "    <tr>\n",
       "      <th>Deaths</th>\n",
       "      <td>-0.015341</td>\n",
       "      <td>NaN</td>\n",
       "      <td>0.110710</td>\n",
       "      <td>0.016533</td>\n",
       "      <td>0.982353</td>\n",
       "      <td>1.000000</td>\n",
       "      <td>0.780289</td>\n",
       "      <td>0.954112</td>\n",
       "      <td>-0.061217</td>\n",
       "      <td>0.712258</td>\n",
       "      <td>0.741134</td>\n",
       "      <td>0.888857</td>\n",
       "      <td>0.427860</td>\n",
       "      <td>0.112576</td>\n",
       "      <td>0.071355</td>\n",
       "      <td>0.343456</td>\n",
       "      <td>0.218532</td>\n",
       "    </tr>\n",
       "    <tr>\n",
       "      <th>Recovered</th>\n",
       "      <td>0.105567</td>\n",
       "      <td>NaN</td>\n",
       "      <td>0.056641</td>\n",
       "      <td>-0.023586</td>\n",
       "      <td>0.753625</td>\n",
       "      <td>0.780289</td>\n",
       "      <td>1.000000</td>\n",
       "      <td>0.629615</td>\n",
       "      <td>0.026689</td>\n",
       "      <td>0.517888</td>\n",
       "      <td>0.595173</td>\n",
       "      <td>0.688354</td>\n",
       "      <td>0.296030</td>\n",
       "      <td>0.141278</td>\n",
       "      <td>0.088881</td>\n",
       "      <td>0.262106</td>\n",
       "      <td>0.103518</td>\n",
       "    </tr>\n",
       "    <tr>\n",
       "      <th>Active</th>\n",
       "      <td>-0.066463</td>\n",
       "      <td>NaN</td>\n",
       "      <td>0.100299</td>\n",
       "      <td>-0.004159</td>\n",
       "      <td>0.985028</td>\n",
       "      <td>0.954112</td>\n",
       "      <td>0.629615</td>\n",
       "      <td>1.000000</td>\n",
       "      <td>-0.117599</td>\n",
       "      <td>0.702805</td>\n",
       "      <td>0.829018</td>\n",
       "      <td>0.816412</td>\n",
       "      <td>0.361037</td>\n",
       "      <td>0.137263</td>\n",
       "      <td>0.087188</td>\n",
       "      <td>0.316773</td>\n",
       "      <td>0.198355</td>\n",
       "    </tr>\n",
       "    <tr>\n",
       "      <th>FIPS</th>\n",
       "      <td>0.864537</td>\n",
       "      <td>NaN</td>\n",
       "      <td>-0.331101</td>\n",
       "      <td>0.433423</td>\n",
       "      <td>-0.091928</td>\n",
       "      <td>-0.061217</td>\n",
       "      <td>0.026689</td>\n",
       "      <td>-0.117599</td>\n",
       "      <td>1.000000</td>\n",
       "      <td>-0.199669</td>\n",
       "      <td>-0.178254</td>\n",
       "      <td>-0.038475</td>\n",
       "      <td>0.057172</td>\n",
       "      <td>-0.587075</td>\n",
       "      <td>-0.320960</td>\n",
       "      <td>-0.044428</td>\n",
       "      <td>-0.222269</td>\n",
       "    </tr>\n",
       "    <tr>\n",
       "      <th>Incident_Rate</th>\n",
       "      <td>-0.116961</td>\n",
       "      <td>NaN</td>\n",
       "      <td>0.210072</td>\n",
       "      <td>0.010608</td>\n",
       "      <td>0.710461</td>\n",
       "      <td>0.712258</td>\n",
       "      <td>0.517888</td>\n",
       "      <td>0.702805</td>\n",
       "      <td>-0.199669</td>\n",
       "      <td>1.000000</td>\n",
       "      <td>0.434094</td>\n",
       "      <td>0.535499</td>\n",
       "      <td>0.373338</td>\n",
       "      <td>0.231567</td>\n",
       "      <td>0.144087</td>\n",
       "      <td>0.612139</td>\n",
       "      <td>0.124990</td>\n",
       "    </tr>\n",
       "    <tr>\n",
       "      <th>People_Tested</th>\n",
       "      <td>-0.091367</td>\n",
       "      <td>NaN</td>\n",
       "      <td>0.024969</td>\n",
       "      <td>-0.105068</td>\n",
       "      <td>0.827191</td>\n",
       "      <td>0.741134</td>\n",
       "      <td>0.595173</td>\n",
       "      <td>0.829018</td>\n",
       "      <td>-0.178254</td>\n",
       "      <td>0.434094</td>\n",
       "      <td>1.000000</td>\n",
       "      <td>0.611558</td>\n",
       "      <td>0.231301</td>\n",
       "      <td>0.213620</td>\n",
       "      <td>0.133921</td>\n",
       "      <td>0.212496</td>\n",
       "      <td>0.132229</td>\n",
       "    </tr>\n",
       "    <tr>\n",
       "      <th>People_Hospitalized</th>\n",
       "      <td>-0.005920</td>\n",
       "      <td>NaN</td>\n",
       "      <td>0.071905</td>\n",
       "      <td>0.026238</td>\n",
       "      <td>0.847261</td>\n",
       "      <td>0.888857</td>\n",
       "      <td>0.688354</td>\n",
       "      <td>0.816412</td>\n",
       "      <td>-0.038475</td>\n",
       "      <td>0.535499</td>\n",
       "      <td>0.611558</td>\n",
       "      <td>1.000000</td>\n",
       "      <td>0.287374</td>\n",
       "      <td>0.078589</td>\n",
       "      <td>0.049607</td>\n",
       "      <td>0.281587</td>\n",
       "      <td>0.423696</td>\n",
       "    </tr>\n",
       "    <tr>\n",
       "      <th>Mortality_Rate</th>\n",
       "      <td>-0.045473</td>\n",
       "      <td>NaN</td>\n",
       "      <td>-0.189675</td>\n",
       "      <td>0.318569</td>\n",
       "      <td>0.375722</td>\n",
       "      <td>0.427860</td>\n",
       "      <td>0.296030</td>\n",
       "      <td>0.361037</td>\n",
       "      <td>0.057172</td>\n",
       "      <td>0.373338</td>\n",
       "      <td>0.231301</td>\n",
       "      <td>0.287374</td>\n",
       "      <td>1.000000</td>\n",
       "      <td>-0.257462</td>\n",
       "      <td>-0.027809</td>\n",
       "      <td>0.170587</td>\n",
       "      <td>0.178086</td>\n",
       "    </tr>\n",
       "    <tr>\n",
       "      <th>UID</th>\n",
       "      <td>-0.127902</td>\n",
       "      <td>NaN</td>\n",
       "      <td>0.718638</td>\n",
       "      <td>-0.714161</td>\n",
       "      <td>0.144630</td>\n",
       "      <td>0.112576</td>\n",
       "      <td>0.141278</td>\n",
       "      <td>0.137263</td>\n",
       "      <td>-0.587075</td>\n",
       "      <td>0.231567</td>\n",
       "      <td>0.213620</td>\n",
       "      <td>0.078589</td>\n",
       "      <td>-0.257462</td>\n",
       "      <td>1.000000</td>\n",
       "      <td>0.631221</td>\n",
       "      <td>0.168984</td>\n",
       "      <td>0.237864</td>\n",
       "    </tr>\n",
       "    <tr>\n",
       "      <th>ISO3</th>\n",
       "      <td>0.084633</td>\n",
       "      <td>NaN</td>\n",
       "      <td>0.499876</td>\n",
       "      <td>-0.834567</td>\n",
       "      <td>0.091684</td>\n",
       "      <td>0.071355</td>\n",
       "      <td>0.088881</td>\n",
       "      <td>0.087188</td>\n",
       "      <td>-0.320960</td>\n",
       "      <td>0.144087</td>\n",
       "      <td>0.133921</td>\n",
       "      <td>0.049607</td>\n",
       "      <td>-0.027809</td>\n",
       "      <td>0.631221</td>\n",
       "      <td>1.000000</td>\n",
       "      <td>-0.036537</td>\n",
       "      <td>0.150145</td>\n",
       "    </tr>\n",
       "    <tr>\n",
       "      <th>Testing_Rate</th>\n",
       "      <td>0.029655</td>\n",
       "      <td>NaN</td>\n",
       "      <td>0.194446</td>\n",
       "      <td>0.138546</td>\n",
       "      <td>0.327662</td>\n",
       "      <td>0.343456</td>\n",
       "      <td>0.262106</td>\n",
       "      <td>0.316773</td>\n",
       "      <td>-0.044428</td>\n",
       "      <td>0.612139</td>\n",
       "      <td>0.212496</td>\n",
       "      <td>0.281587</td>\n",
       "      <td>0.170587</td>\n",
       "      <td>0.168984</td>\n",
       "      <td>-0.036537</td>\n",
       "      <td>1.000000</td>\n",
       "      <td>-0.015532</td>\n",
       "    </tr>\n",
       "    <tr>\n",
       "      <th>Hospitalization_Rate</th>\n",
       "      <td>-0.130724</td>\n",
       "      <td>NaN</td>\n",
       "      <td>0.054289</td>\n",
       "      <td>-0.109053</td>\n",
       "      <td>0.193453</td>\n",
       "      <td>0.218532</td>\n",
       "      <td>0.103518</td>\n",
       "      <td>0.198355</td>\n",
       "      <td>-0.222269</td>\n",
       "      <td>0.124990</td>\n",
       "      <td>0.132229</td>\n",
       "      <td>0.423696</td>\n",
       "      <td>0.178086</td>\n",
       "      <td>0.237864</td>\n",
       "      <td>0.150145</td>\n",
       "      <td>-0.015532</td>\n",
       "      <td>1.000000</td>\n",
       "    </tr>\n",
       "  </tbody>\n",
       "</table>\n",
       "</div>"
      ],
      "text/plain": [
       "                      Province_State  Country_Region       Lat     Long_  \\\n",
       "Province_State              1.000000             NaN  0.028758  0.035615   \n",
       "Country_Region                   NaN             NaN       NaN       NaN   \n",
       "Lat                         0.028758             NaN  1.000000 -0.570065   \n",
       "Long_                       0.035615             NaN -0.570065  1.000000   \n",
       "Confirmed                  -0.032548             NaN  0.098689 -0.006640   \n",
       "Deaths                     -0.015341             NaN  0.110710  0.016533   \n",
       "Recovered                   0.105567             NaN  0.056641 -0.023586   \n",
       "Active                     -0.066463             NaN  0.100299 -0.004159   \n",
       "FIPS                        0.864537             NaN -0.331101  0.433423   \n",
       "Incident_Rate              -0.116961             NaN  0.210072  0.010608   \n",
       "People_Tested              -0.091367             NaN  0.024969 -0.105068   \n",
       "People_Hospitalized        -0.005920             NaN  0.071905  0.026238   \n",
       "Mortality_Rate             -0.045473             NaN -0.189675  0.318569   \n",
       "UID                        -0.127902             NaN  0.718638 -0.714161   \n",
       "ISO3                        0.084633             NaN  0.499876 -0.834567   \n",
       "Testing_Rate                0.029655             NaN  0.194446  0.138546   \n",
       "Hospitalization_Rate       -0.130724             NaN  0.054289 -0.109053   \n",
       "\n",
       "                      Confirmed    Deaths  Recovered    Active      FIPS  \\\n",
       "Province_State        -0.032548 -0.015341   0.105567 -0.066463  0.864537   \n",
       "Country_Region              NaN       NaN        NaN       NaN       NaN   \n",
       "Lat                    0.098689  0.110710   0.056641  0.100299 -0.331101   \n",
       "Long_                 -0.006640  0.016533  -0.023586 -0.004159  0.433423   \n",
       "Confirmed              1.000000  0.982353   0.753625  0.985028 -0.091928   \n",
       "Deaths                 0.982353  1.000000   0.780289  0.954112 -0.061217   \n",
       "Recovered              0.753625  0.780289   1.000000  0.629615  0.026689   \n",
       "Active                 0.985028  0.954112   0.629615  1.000000 -0.117599   \n",
       "FIPS                  -0.091928 -0.061217   0.026689 -0.117599  1.000000   \n",
       "Incident_Rate          0.710461  0.712258   0.517888  0.702805 -0.199669   \n",
       "People_Tested          0.827191  0.741134   0.595173  0.829018 -0.178254   \n",
       "People_Hospitalized    0.847261  0.888857   0.688354  0.816412 -0.038475   \n",
       "Mortality_Rate         0.375722  0.427860   0.296030  0.361037  0.057172   \n",
       "UID                    0.144630  0.112576   0.141278  0.137263 -0.587075   \n",
       "ISO3                   0.091684  0.071355   0.088881  0.087188 -0.320960   \n",
       "Testing_Rate           0.327662  0.343456   0.262106  0.316773 -0.044428   \n",
       "Hospitalization_Rate   0.193453  0.218532   0.103518  0.198355 -0.222269   \n",
       "\n",
       "                      Incident_Rate  People_Tested  People_Hospitalized  \\\n",
       "Province_State            -0.116961      -0.091367            -0.005920   \n",
       "Country_Region                  NaN            NaN                  NaN   \n",
       "Lat                        0.210072       0.024969             0.071905   \n",
       "Long_                      0.010608      -0.105068             0.026238   \n",
       "Confirmed                  0.710461       0.827191             0.847261   \n",
       "Deaths                     0.712258       0.741134             0.888857   \n",
       "Recovered                  0.517888       0.595173             0.688354   \n",
       "Active                     0.702805       0.829018             0.816412   \n",
       "FIPS                      -0.199669      -0.178254            -0.038475   \n",
       "Incident_Rate              1.000000       0.434094             0.535499   \n",
       "People_Tested              0.434094       1.000000             0.611558   \n",
       "People_Hospitalized        0.535499       0.611558             1.000000   \n",
       "Mortality_Rate             0.373338       0.231301             0.287374   \n",
       "UID                        0.231567       0.213620             0.078589   \n",
       "ISO3                       0.144087       0.133921             0.049607   \n",
       "Testing_Rate               0.612139       0.212496             0.281587   \n",
       "Hospitalization_Rate       0.124990       0.132229             0.423696   \n",
       "\n",
       "                      Mortality_Rate       UID      ISO3  Testing_Rate  \\\n",
       "Province_State             -0.045473 -0.127902  0.084633      0.029655   \n",
       "Country_Region                   NaN       NaN       NaN           NaN   \n",
       "Lat                        -0.189675  0.718638  0.499876      0.194446   \n",
       "Long_                       0.318569 -0.714161 -0.834567      0.138546   \n",
       "Confirmed                   0.375722  0.144630  0.091684      0.327662   \n",
       "Deaths                      0.427860  0.112576  0.071355      0.343456   \n",
       "Recovered                   0.296030  0.141278  0.088881      0.262106   \n",
       "Active                      0.361037  0.137263  0.087188      0.316773   \n",
       "FIPS                        0.057172 -0.587075 -0.320960     -0.044428   \n",
       "Incident_Rate               0.373338  0.231567  0.144087      0.612139   \n",
       "People_Tested               0.231301  0.213620  0.133921      0.212496   \n",
       "People_Hospitalized         0.287374  0.078589  0.049607      0.281587   \n",
       "Mortality_Rate              1.000000 -0.257462 -0.027809      0.170587   \n",
       "UID                        -0.257462  1.000000  0.631221      0.168984   \n",
       "ISO3                       -0.027809  0.631221  1.000000     -0.036537   \n",
       "Testing_Rate                0.170587  0.168984 -0.036537      1.000000   \n",
       "Hospitalization_Rate        0.178086  0.237864  0.150145     -0.015532   \n",
       "\n",
       "                      Hospitalization_Rate  \n",
       "Province_State                   -0.130724  \n",
       "Country_Region                         NaN  \n",
       "Lat                               0.054289  \n",
       "Long_                            -0.109053  \n",
       "Confirmed                         0.193453  \n",
       "Deaths                            0.218532  \n",
       "Recovered                         0.103518  \n",
       "Active                            0.198355  \n",
       "FIPS                             -0.222269  \n",
       "Incident_Rate                     0.124990  \n",
       "People_Tested                     0.132229  \n",
       "People_Hospitalized               0.423696  \n",
       "Mortality_Rate                    0.178086  \n",
       "UID                               0.237864  \n",
       "ISO3                              0.150145  \n",
       "Testing_Rate                     -0.015532  \n",
       "Hospitalization_Rate              1.000000  "
      ]
     },
     "execution_count": 17,
     "metadata": {},
     "output_type": "execute_result"
    }
   ],
   "source": [
    "cm.corr()"
   ]
  },
  {
   "cell_type": "code",
   "execution_count": 18,
   "metadata": {},
   "outputs": [
    {
     "data": {
      "text/html": [
       "<div>\n",
       "<style scoped>\n",
       "    .dataframe tbody tr th:only-of-type {\n",
       "        vertical-align: middle;\n",
       "    }\n",
       "\n",
       "    .dataframe tbody tr th {\n",
       "        vertical-align: top;\n",
       "    }\n",
       "\n",
       "    .dataframe thead th {\n",
       "        text-align: right;\n",
       "    }\n",
       "</style>\n",
       "<table border=\"1\" class=\"dataframe\">\n",
       "  <thead>\n",
       "    <tr style=\"text-align: right;\">\n",
       "      <th></th>\n",
       "      <th>Province_State</th>\n",
       "      <th>Country_Region</th>\n",
       "      <th>Lat</th>\n",
       "      <th>Long_</th>\n",
       "      <th>Confirmed</th>\n",
       "      <th>Deaths</th>\n",
       "      <th>Recovered</th>\n",
       "      <th>Active</th>\n",
       "      <th>FIPS</th>\n",
       "      <th>Incident_Rate</th>\n",
       "      <th>People_Tested</th>\n",
       "      <th>People_Hospitalized</th>\n",
       "      <th>Mortality_Rate</th>\n",
       "      <th>UID</th>\n",
       "      <th>ISO3</th>\n",
       "      <th>Testing_Rate</th>\n",
       "      <th>Hospitalization_Rate</th>\n",
       "    </tr>\n",
       "  </thead>\n",
       "  <tbody>\n",
       "    <tr>\n",
       "      <th>count</th>\n",
       "      <td>55.00000</td>\n",
       "      <td>55.0</td>\n",
       "      <td>55.000000</td>\n",
       "      <td>55.000000</td>\n",
       "      <td>55.000000</td>\n",
       "      <td>55.000000</td>\n",
       "      <td>55.000000</td>\n",
       "      <td>55.000000</td>\n",
       "      <td>55.000000</td>\n",
       "      <td>55.000000</td>\n",
       "      <td>5.500000e+01</td>\n",
       "      <td>55.000000</td>\n",
       "      <td>55.000000</td>\n",
       "      <td>5.500000e+01</td>\n",
       "      <td>55.000000</td>\n",
       "      <td>55.000000</td>\n",
       "      <td>55.000000</td>\n",
       "    </tr>\n",
       "    <tr>\n",
       "      <th>mean</th>\n",
       "      <td>27.00000</td>\n",
       "      <td>0.0</td>\n",
       "      <td>37.769382</td>\n",
       "      <td>-83.662516</td>\n",
       "      <td>28212.745455</td>\n",
       "      <td>1698.836364</td>\n",
       "      <td>5354.200000</td>\n",
       "      <td>21162.781818</td>\n",
       "      <td>32.036364</td>\n",
       "      <td>403.435002</td>\n",
       "      <td>2.299576e+05</td>\n",
       "      <td>2964.472727</td>\n",
       "      <td>4.567409</td>\n",
       "      <td>7.789098e+07</td>\n",
       "      <td>2.909091</td>\n",
       "      <td>3960.938317</td>\n",
       "      <td>11.316742</td>\n",
       "    </tr>\n",
       "    <tr>\n",
       "      <th>std</th>\n",
       "      <td>16.02082</td>\n",
       "      <td>0.0</td>\n",
       "      <td>8.453768</td>\n",
       "      <td>48.840127</td>\n",
       "      <td>53614.101223</td>\n",
       "      <td>4178.550115</td>\n",
       "      <td>10605.470942</td>\n",
       "      <td>42148.607793</td>\n",
       "      <td>18.878720</td>\n",
       "      <td>402.735419</td>\n",
       "      <td>2.999399e+05</td>\n",
       "      <td>10427.705093</td>\n",
       "      <td>2.074273</td>\n",
       "      <td>2.201472e+07</td>\n",
       "      <td>0.518999</td>\n",
       "      <td>1884.729897</td>\n",
       "      <td>5.393011</td>\n",
       "    </tr>\n",
       "    <tr>\n",
       "      <th>min</th>\n",
       "      <td>0.00000</td>\n",
       "      <td>0.0</td>\n",
       "      <td>13.444300</td>\n",
       "      <td>-157.498300</td>\n",
       "      <td>21.000000</td>\n",
       "      <td>2.000000</td>\n",
       "      <td>13.000000</td>\n",
       "      <td>2.000000</td>\n",
       "      <td>1.000000</td>\n",
       "      <td>38.082112</td>\n",
       "      <td>1.383000e+03</td>\n",
       "      <td>65.000000</td>\n",
       "      <td>1.101269</td>\n",
       "      <td>3.160000e+02</td>\n",
       "      <td>0.000000</td>\n",
       "      <td>97.702058</td>\n",
       "      <td>6.778043</td>\n",
       "    </tr>\n",
       "    <tr>\n",
       "      <th>25%</th>\n",
       "      <td>13.50000</td>\n",
       "      <td>0.0</td>\n",
       "      <td>34.905100</td>\n",
       "      <td>-99.611400</td>\n",
       "      <td>3834.500000</td>\n",
       "      <td>98.500000</td>\n",
       "      <td>37.000000</td>\n",
       "      <td>1076.000000</td>\n",
       "      <td>17.500000</td>\n",
       "      <td>158.533760</td>\n",
       "      <td>4.859600e+04</td>\n",
       "      <td>65.000000</td>\n",
       "      <td>3.256718</td>\n",
       "      <td>8.400001e+07</td>\n",
       "      <td>3.000000</td>\n",
       "      <td>2752.080259</td>\n",
       "      <td>6.778043</td>\n",
       "    </tr>\n",
       "    <tr>\n",
       "      <th>50%</th>\n",
       "      <td>27.00000</td>\n",
       "      <td>0.0</td>\n",
       "      <td>39.063900</td>\n",
       "      <td>-86.902300</td>\n",
       "      <td>11528.000000</td>\n",
       "      <td>407.000000</td>\n",
       "      <td>1275.000000</td>\n",
       "      <td>6324.000000</td>\n",
       "      <td>31.000000</td>\n",
       "      <td>251.824349</td>\n",
       "      <td>1.422460e+05</td>\n",
       "      <td>231.000000</td>\n",
       "      <td>4.415327</td>\n",
       "      <td>8.400003e+07</td>\n",
       "      <td>3.000000</td>\n",
       "      <td>3492.893832</td>\n",
       "      <td>8.933819</td>\n",
       "    </tr>\n",
       "    <tr>\n",
       "      <th>75%</th>\n",
       "      <td>40.50000</td>\n",
       "      <td>0.0</td>\n",
       "      <td>42.493100</td>\n",
       "      <td>-76.914450</td>\n",
       "      <td>31172.000000</td>\n",
       "      <td>1561.500000</td>\n",
       "      <td>4473.000000</td>\n",
       "      <td>19810.500000</td>\n",
       "      <td>45.500000</td>\n",
       "      <td>483.617754</td>\n",
       "      <td>2.817865e+05</td>\n",
       "      <td>1846.500000</td>\n",
       "      <td>5.508969</td>\n",
       "      <td>8.400004e+07</td>\n",
       "      <td>3.000000</td>\n",
       "      <td>4863.746497</td>\n",
       "      <td>15.811886</td>\n",
       "    </tr>\n",
       "    <tr>\n",
       "      <th>max</th>\n",
       "      <td>54.00000</td>\n",
       "      <td>0.0</td>\n",
       "      <td>61.370700</td>\n",
       "      <td>145.673900</td>\n",
       "      <td>354370.000000</td>\n",
       "      <td>28636.000000</td>\n",
       "      <td>61886.000000</td>\n",
       "      <td>263848.000000</td>\n",
       "      <td>78.000000</td>\n",
       "      <td>1821.620216</td>\n",
       "      <td>1.505836e+06</td>\n",
       "      <td>76410.000000</td>\n",
       "      <td>9.545549</td>\n",
       "      <td>8.400006e+07</td>\n",
       "      <td>4.000000</td>\n",
       "      <td>11377.424693</td>\n",
       "      <td>28.054438</td>\n",
       "    </tr>\n",
       "  </tbody>\n",
       "</table>\n",
       "</div>"
      ],
      "text/plain": [
       "       Province_State  Country_Region        Lat       Long_      Confirmed  \\\n",
       "count        55.00000            55.0  55.000000   55.000000      55.000000   \n",
       "mean         27.00000             0.0  37.769382  -83.662516   28212.745455   \n",
       "std          16.02082             0.0   8.453768   48.840127   53614.101223   \n",
       "min           0.00000             0.0  13.444300 -157.498300      21.000000   \n",
       "25%          13.50000             0.0  34.905100  -99.611400    3834.500000   \n",
       "50%          27.00000             0.0  39.063900  -86.902300   11528.000000   \n",
       "75%          40.50000             0.0  42.493100  -76.914450   31172.000000   \n",
       "max          54.00000             0.0  61.370700  145.673900  354370.000000   \n",
       "\n",
       "             Deaths     Recovered         Active       FIPS  Incident_Rate  \\\n",
       "count     55.000000     55.000000      55.000000  55.000000      55.000000   \n",
       "mean    1698.836364   5354.200000   21162.781818  32.036364     403.435002   \n",
       "std     4178.550115  10605.470942   42148.607793  18.878720     402.735419   \n",
       "min        2.000000     13.000000       2.000000   1.000000      38.082112   \n",
       "25%       98.500000     37.000000    1076.000000  17.500000     158.533760   \n",
       "50%      407.000000   1275.000000    6324.000000  31.000000     251.824349   \n",
       "75%     1561.500000   4473.000000   19810.500000  45.500000     483.617754   \n",
       "max    28636.000000  61886.000000  263848.000000  78.000000    1821.620216   \n",
       "\n",
       "       People_Tested  People_Hospitalized  Mortality_Rate           UID  \\\n",
       "count   5.500000e+01            55.000000       55.000000  5.500000e+01   \n",
       "mean    2.299576e+05          2964.472727        4.567409  7.789098e+07   \n",
       "std     2.999399e+05         10427.705093        2.074273  2.201472e+07   \n",
       "min     1.383000e+03            65.000000        1.101269  3.160000e+02   \n",
       "25%     4.859600e+04            65.000000        3.256718  8.400001e+07   \n",
       "50%     1.422460e+05           231.000000        4.415327  8.400003e+07   \n",
       "75%     2.817865e+05          1846.500000        5.508969  8.400004e+07   \n",
       "max     1.505836e+06         76410.000000        9.545549  8.400006e+07   \n",
       "\n",
       "            ISO3  Testing_Rate  Hospitalization_Rate  \n",
       "count  55.000000     55.000000             55.000000  \n",
       "mean    2.909091   3960.938317             11.316742  \n",
       "std     0.518999   1884.729897              5.393011  \n",
       "min     0.000000     97.702058              6.778043  \n",
       "25%     3.000000   2752.080259              6.778043  \n",
       "50%     3.000000   3492.893832              8.933819  \n",
       "75%     3.000000   4863.746497             15.811886  \n",
       "max     4.000000  11377.424693             28.054438  "
      ]
     },
     "execution_count": 18,
     "metadata": {},
     "output_type": "execute_result"
    }
   ],
   "source": [
    "cm.describe()"
   ]
  },
  {
   "cell_type": "code",
   "execution_count": 19,
   "metadata": {},
   "outputs": [
    {
     "data": {
      "text/plain": [
       "<matplotlib.axes._subplots.AxesSubplot at 0xb509a90>"
      ]
     },
     "execution_count": 19,
     "metadata": {},
     "output_type": "execute_result"
    },
    {
     "data": {
      "image/png": "[encoded data removed]",
      "text/plain": [
       "<Figure size 720x360 with 2 Axes>"
      ]
     },
     "metadata": {
      "needs_background": "light"
     },
     "output_type": "display_data"
    }
   ],
   "source": [
    "plt.figure(figsize=(10,5))\n",
    "sns.heatmap(cm.corr(), cmap='Blues')"
   ]
  },
  {
   "cell_type": "code",
   "execution_count": 20,
   "metadata": {},
   "outputs": [
    {
     "data": {
      "text/plain": [
       "<seaborn.axisgrid.FacetGrid at 0xb7bd9d0>"
      ]
     },
     "execution_count": 20,
     "metadata": {},
     "output_type": "execute_result"
    },
    {
     "data": {
      "image/png": "[encoded data removed]",
      "text/plain": [
       "<Figure size 360x360 with 1 Axes>"
      ]
     },
     "metadata": {
      "needs_background": "light"
     },
     "output_type": "display_data"
    }
   ],
   "source": [
    "sns.catplot(x='Incident_Rate', data=cm)"
   ]
  },
  {
   "cell_type": "code",
   "execution_count": 21,
   "metadata": {},
   "outputs": [
    {
     "data": {
      "text/plain": [
       "<seaborn.axisgrid.FacetGrid at 0xba390a0>"
      ]
     },
     "execution_count": 21,
     "metadata": {},
     "output_type": "execute_result"
    },
    {
     "data": {
      "image/png": "[encoded data removed]",
      "text/plain": [
       "<Figure size 360x360 with 1 Axes>"
      ]
     },
     "metadata": {
      "needs_background": "light"
     },
     "output_type": "display_data"
    }
   ],
   "source": [
    "sns.catplot(x='Confirmed', data=cm)"
   ]
  },
  {
   "cell_type": "code",
   "execution_count": 22,
   "metadata": {},
   "outputs": [
    {
     "data": {
      "text/plain": [
       "<seaborn.axisgrid.FacetGrid at 0xba8dfd0>"
      ]
     },
     "execution_count": 22,
     "metadata": {},
     "output_type": "execute_result"
    },
    {
     "data": {
      "image/png": "[encoded data removed]",
      "text/plain": [
       "<Figure size 360x360 with 1 Axes>"
      ]
     },
     "metadata": {
      "needs_background": "light"
     },
     "output_type": "display_data"
    }
   ],
   "source": [
    "sns.catplot(x='Testing_Rate', data=cm)"
   ]
  },
  {
   "cell_type": "code",
   "execution_count": 23,
   "metadata": {},
   "outputs": [
    {
     "data": {
      "text/plain": [
       "<seaborn.axisgrid.FacetGrid at 0xb0278e0>"
      ]
     },
     "execution_count": 23,
     "metadata": {},
     "output_type": "execute_result"
    },
    {
     "data": {
      "image/png": "[encoded data removed]",
      "text/plain": [
       "<Figure size 360x360 with 1 Axes>"
      ]
     },
     "metadata": {
      "needs_background": "light"
     },
     "output_type": "display_data"
    }
   ],
   "source": [
    "sns.catplot(x='Confirmed', y='Province_State', data=cm)"
   ]
  },
  {
   "cell_type": "code",
   "execution_count": 24,
   "metadata": {},
   "outputs": [
    {
     "data": {
      "text/plain": [
       "<matplotlib.axes._subplots.AxesSubplot at 0xbce8f10>"
      ]
     },
     "execution_count": 24,
     "metadata": {},
     "output_type": "execute_result"
    },
    {
     "data": {
      "image/png": "[encoded data removed]",
      "text/plain": [
       "<Figure size 432x288 with 1 Axes>"
      ]
     },
     "metadata": {
      "needs_background": "light"
     },
     "output_type": "display_data"
    }
   ],
   "source": [
    "sns.distplot(cm['Incident_Rate'])"
   ]
  },
  {
   "cell_type": "code",
   "execution_count": 25,
   "metadata": {},
   "outputs": [
    {
     "data": {
      "text/plain": [
       "<matplotlib.axes._subplots.AxesSubplot at 0xbe8d0a0>"
      ]
     },
     "execution_count": 25,
     "metadata": {},
     "output_type": "execute_result"
    },
    {
     "data": {
      "image/png": "[encoded data removed]",
      "text/plain": [
       "<Figure size 432x288 with 1 Axes>"
      ]
     },
     "metadata": {
      "needs_background": "light"
     },
     "output_type": "display_data"
    }
   ],
   "source": [
    "sns.distplot(cm['People_Tested'])"
   ]
  },
  {
   "cell_type": "code",
   "execution_count": 26,
   "metadata": {},
   "outputs": [
    {
     "data": {
      "text/plain": [
       "Province_State          0.000000\n",
       "Country_Region          0.000000\n",
       "Lat                    -0.914268\n",
       "Long_                   3.783868\n",
       "Confirmed               4.614978\n",
       "Deaths                  5.361075\n",
       "Recovered               3.556946\n",
       "Active                  4.083998\n",
       "FIPS                    0.370416\n",
       "Incident_Rate           1.955029\n",
       "People_Tested           2.769517\n",
       "People_Hospitalized     6.720463\n",
       "Mortality_Rate          0.591921\n",
       "UID                    -3.383648\n",
       "ISO3                   -4.260285\n",
       "Testing_Rate            1.452496\n",
       "Hospitalization_Rate    1.082989\n",
       "dtype: float64"
      ]
     },
     "execution_count": 26,
     "metadata": {},
     "output_type": "execute_result"
    }
   ],
   "source": [
    "cm.skew()"
   ]
  },
  {
   "cell_type": "code",
   "execution_count": 27,
   "metadata": {},
   "outputs": [
    {
     "data": {
      "text/plain": [
       "(array([ 2., 16., 34.,  1.,  0.,  0.,  0.,  0.,  0.,  2.]),\n",
       " array([-157.4983 , -127.18108,  -96.86386,  -66.54664,  -36.22942,\n",
       "          -5.9122 ,   24.40502,   54.72224,   85.03946,  115.35668,\n",
       "         145.6739 ]),\n",
       " <a list of 10 Patch objects>)"
      ]
     },
     "execution_count": 27,
     "metadata": {},
     "output_type": "execute_result"
    },
    {
     "data": {
      "image/png": "[encoded data removed]",
      "text/plain": [
       "<Figure size 432x288 with 1 Axes>"
      ]
     },
     "metadata": {
      "needs_background": "light"
     },
     "output_type": "display_data"
    }
   ],
   "source": [
    "plt.hist(cm['Long_'], bins=10)"
   ]
  },
  {
   "cell_type": "code",
   "execution_count": 28,
   "metadata": {},
   "outputs": [
    {
     "data": {
      "text/plain": [
       "(array([43.,  7.,  3.,  0.,  1.,  0.,  0.,  0.,  0.,  1.]),\n",
       " array([2.100000e+01, 3.545590e+04, 7.089080e+04, 1.063257e+05,\n",
       "        1.417606e+05, 1.771955e+05, 2.126304e+05, 2.480653e+05,\n",
       "        2.835002e+05, 3.189351e+05, 3.543700e+05]),\n",
       " <a list of 10 Patch objects>)"
      ]
     },
     "execution_count": 28,
     "metadata": {},
     "output_type": "execute_result"
    },
    {
     "data": {
      "image/png": "[encoded data removed]",
      "text/plain": [
       "<Figure size 432x288 with 1 Axes>"
      ]
     },
     "metadata": {
      "needs_background": "light"
     },
     "output_type": "display_data"
    }
   ],
   "source": [
    "plt.hist(cm['Confirmed'], bins=10)"
   ]
  },
  {
   "cell_type": "code",
   "execution_count": 29,
   "metadata": {},
   "outputs": [
    {
     "data": {
      "text/plain": [
       "(array([6., 7., 8., 7., 8., 7., 6., 2., 2., 2.]),\n",
       " array([ 1. ,  8.7, 16.4, 24.1, 31.8, 39.5, 47.2, 54.9, 62.6, 70.3, 78. ]),\n",
       " <a list of 10 Patch objects>)"
      ]
     },
     "execution_count": 29,
     "metadata": {},
     "output_type": "execute_result"
    },
    {
     "data": {
      "image/png": "[encoded data removed]",
      "text/plain": [
       "<Figure size 432x288 with 1 Axes>"
      ]
     },
     "metadata": {
      "needs_background": "light"
     },
     "output_type": "display_data"
    }
   ],
   "source": [
    "plt.hist(cm['FIPS'], bins=10)"
   ]
  },
  {
   "cell_type": "code",
   "execution_count": 30,
   "metadata": {},
   "outputs": [
    {
     "data": {
      "text/plain": [
       "(array([47.,  5.,  1.,  1.,  0.,  0.,  0.,  0.,  0.,  1.]),\n",
       " array([2.00000e+00, 2.86540e+03, 5.72880e+03, 8.59220e+03, 1.14556e+04,\n",
       "        1.43190e+04, 1.71824e+04, 2.00458e+04, 2.29092e+04, 2.57726e+04,\n",
       "        2.86360e+04]),\n",
       " <a list of 10 Patch objects>)"
      ]
     },
     "execution_count": 30,
     "metadata": {},
     "output_type": "execute_result"
    },
    {
     "data": {
      "image/png": "[encoded data removed]",
      "text/plain": [
       "<Figure size 432x288 with 1 Axes>"
      ]
     },
     "metadata": {
      "needs_background": "light"
     },
     "output_type": "display_data"
    }
   ],
   "source": [
    "plt.hist(cm['Deaths'], bins=10)"
   ]
  },
  {
   "cell_type": "code",
   "execution_count": 31,
   "metadata": {},
   "outputs": [
    {
     "data": {
      "text/plain": [
       "Province_State          0.000000\n",
       "Country_Region          0.000000\n",
       "Lat                    -0.914268\n",
       "Long_                   3.783868\n",
       "Confirmed               4.614978\n",
       "Deaths                  5.361075\n",
       "Recovered               3.556946\n",
       "Active                  4.083998\n",
       "FIPS                    0.370416\n",
       "Incident_Rate           1.955029\n",
       "People_Tested           2.769517\n",
       "People_Hospitalized     6.720463\n",
       "Mortality_Rate          0.591921\n",
       "UID                    -3.383648\n",
       "ISO3                   -4.260285\n",
       "Testing_Rate            1.452496\n",
       "Hospitalization_Rate    1.082989\n",
       "dtype: float64"
      ]
     },
     "execution_count": 31,
     "metadata": {},
     "output_type": "execute_result"
    }
   ],
   "source": [
    "cm.skew()"
   ]
  },
  {
   "cell_type": "code",
   "execution_count": 32,
   "metadata": {},
   "outputs": [],
   "source": [
    "cs=cm.copy()"
   ]
  },
  {
   "cell_type": "code",
   "execution_count": 33,
   "metadata": {},
   "outputs": [],
   "source": [
    "cs['Confirmed']=np.log1p(cs['Confirmed'])\n",
    "cs['Deaths']=np.log1p(cs['Deaths'])\n",
    "cs['Recovered']=np.log1p(cs['Recovered'])\n",
    "cs['Active']=np.log1p(cs['Active'])\n",
    "cs['Incident_Rate']=np.log1p(cs['Incident_Rate'])\n",
    "cs['People_Tested']=np.log1p(cs['People_Tested'])\n",
    "cs['People_Hospitalized']=np.log1p(cs['People_Hospitalized'])\n",
    "cs['Testing_Rate']=(cs['Testing_Rate']/20)**10\n",
    "cs['Hospitalization_Rate']=(cs['Hospitalization_Rate']/20)**10\n",
    "cs['ISO3']=(cs['ISO3']/20)**10"
   ]
  },
  {
   "cell_type": "code",
   "execution_count": 34,
   "metadata": {},
   "outputs": [],
   "source": [
    "from scipy.stats import boxcox\n",
    "cs['Testing_Rate']=boxcox(cs['Testing_Rate'],0)\n",
    "cs['Hospitalization_Rate']=boxcox(cs['Hospitalization_Rate'],0)"
   ]
  },
  {
   "cell_type": "code",
   "execution_count": 35,
   "metadata": {},
   "outputs": [
    {
     "data": {
      "text/plain": [
       "Province_State          0.000000\n",
       "Country_Region          0.000000\n",
       "Lat                    -0.914268\n",
       "Long_                   3.783868\n",
       "Confirmed              -0.929534\n",
       "Deaths                 -0.343052\n",
       "Recovered              -0.394539\n",
       "Active                 -1.014573\n",
       "FIPS                    0.370416\n",
       "Incident_Rate           0.022996\n",
       "People_Tested          -0.943518\n",
       "People_Hospitalized     0.610036\n",
       "Mortality_Rate          0.591921\n",
       "UID                    -3.383648\n",
       "ISO3                    0.000000\n",
       "Testing_Rate           -3.233234\n",
       "Hospitalization_Rate    0.547737\n",
       "dtype: float64"
      ]
     },
     "execution_count": 35,
     "metadata": {},
     "output_type": "execute_result"
    }
   ],
   "source": [
    "cs.skew()"
   ]
  },
  {
   "cell_type": "code",
   "execution_count": null,
   "metadata": {},
   "outputs": [],
   "source": []
  },
  {
   "cell_type": "code",
   "execution_count": null,
   "metadata": {},
   "outputs": [],
   "source": []
  },
  {
   "cell_type": "markdown",
   "metadata": {},
   "source": [
    "Now,after removing most of the skewed values we need to remove the outliers from the data,\n",
    "if any we can check the outliers from the boxplot method and if any we can remove from the zcore method "
   ]
  },
  {
   "cell_type": "code",
   "execution_count": 36,
   "metadata": {},
   "outputs": [
    {
     "data": {
      "text/plain": [
       "{'whiskers': [<matplotlib.lines.Line2D at 0xd2f5bb0>,\n",
       "  <matplotlib.lines.Line2D at 0xd2f5f10>],\n",
       " 'caps': [<matplotlib.lines.Line2D at 0xd3002b0>,\n",
       "  <matplotlib.lines.Line2D at 0xd300610>],\n",
       " 'boxes': [<matplotlib.lines.Line2D at 0xd2f5850>],\n",
       " 'medians': [<matplotlib.lines.Line2D at 0xd300970>],\n",
       " 'fliers': [<matplotlib.lines.Line2D at 0xd300c70>],\n",
       " 'means': []}"
      ]
     },
     "execution_count": 36,
     "metadata": {},
     "output_type": "execute_result"
    },
    {
     "data": {
      "image/png": "[encoded data removed]",
      "text/plain": [
       "<Figure size 432x288 with 1 Axes>"
      ]
     },
     "metadata": {
      "needs_background": "light"
     },
     "output_type": "display_data"
    }
   ],
   "source": [
    "plt.boxplot(cs['Confirmed'])"
   ]
  },
  {
   "cell_type": "code",
   "execution_count": 37,
   "metadata": {},
   "outputs": [
    {
     "data": {
      "text/plain": [
       "<matplotlib.axes._subplots.AxesSubplot at 0xd320280>"
      ]
     },
     "execution_count": 37,
     "metadata": {},
     "output_type": "execute_result"
    },
    {
     "data": {
      "image/png": "[encoded data removed]",
      "text/plain": [
       "<Figure size 432x288 with 1 Axes>"
      ]
     },
     "metadata": {
      "needs_background": "light"
     },
     "output_type": "display_data"
    }
   ],
   "source": [
    "sns.boxplot(cs['Active'])"
   ]
  },
  {
   "cell_type": "code",
   "execution_count": 38,
   "metadata": {},
   "outputs": [
    {
     "data": {
      "text/plain": [
       "<matplotlib.axes._subplots.AxesSubplot at 0xd377fd0>"
      ]
     },
     "execution_count": 38,
     "metadata": {},
     "output_type": "execute_result"
    },
    {
     "data": {
      "image/png": "[encoded data removed]",
      "text/plain": [
       "<Figure size 432x288 with 1 Axes>"
      ]
     },
     "metadata": {
      "needs_background": "light"
     },
     "output_type": "display_data"
    }
   ],
   "source": [
    "sns.boxplot(cs['Recovered'])"
   ]
  },
  {
   "cell_type": "code",
   "execution_count": null,
   "metadata": {},
   "outputs": [],
   "source": []
  },
  {
   "cell_type": "code",
   "execution_count": 39,
   "metadata": {},
   "outputs": [
    {
     "data": {
      "text/html": [
       "<div>\n",
       "<style scoped>\n",
       "    .dataframe tbody tr th:only-of-type {\n",
       "        vertical-align: middle;\n",
       "    }\n",
       "\n",
       "    .dataframe tbody tr th {\n",
       "        vertical-align: top;\n",
       "    }\n",
       "\n",
       "    .dataframe thead th {\n",
       "        text-align: right;\n",
       "    }\n",
       "</style>\n",
       "<table border=\"1\" class=\"dataframe\">\n",
       "  <thead>\n",
       "    <tr style=\"text-align: right;\">\n",
       "      <th></th>\n",
       "      <th>Province_State</th>\n",
       "      <th>Country_Region</th>\n",
       "      <th>Lat</th>\n",
       "      <th>Long_</th>\n",
       "      <th>Confirmed</th>\n",
       "      <th>Deaths</th>\n",
       "      <th>Recovered</th>\n",
       "      <th>Active</th>\n",
       "      <th>FIPS</th>\n",
       "      <th>Incident_Rate</th>\n",
       "      <th>People_Tested</th>\n",
       "      <th>People_Hospitalized</th>\n",
       "      <th>Mortality_Rate</th>\n",
       "      <th>UID</th>\n",
       "      <th>ISO3</th>\n",
       "      <th>Testing_Rate</th>\n",
       "      <th>Hospitalization_Rate</th>\n",
       "    </tr>\n",
       "  </thead>\n",
       "  <tbody>\n",
       "    <tr>\n",
       "      <th>0</th>\n",
       "      <td>0</td>\n",
       "      <td>0</td>\n",
       "      <td>32.3182</td>\n",
       "      <td>-86.9023</td>\n",
       "      <td>9.476773</td>\n",
       "      <td>6.259581</td>\n",
       "      <td>2.639057</td>\n",
       "      <td>9.435961</td>\n",
       "      <td>1</td>\n",
       "      <td>5.587976</td>\n",
       "      <td>12.010368</td>\n",
       "      <td>7.309212</td>\n",
       "      <td>3.999387</td>\n",
       "      <td>84000001</td>\n",
       "      <td>5.766504e-09</td>\n",
       "      <td>51.221595</td>\n",
       "      <td>-5.587159</td>\n",
       "    </tr>\n",
       "    <tr>\n",
       "      <th>0</th>\n",
       "      <td>0</td>\n",
       "      <td>0</td>\n",
       "      <td>32.3182</td>\n",
       "      <td>-86.9023</td>\n",
       "      <td>9.476773</td>\n",
       "      <td>6.259581</td>\n",
       "      <td>2.639057</td>\n",
       "      <td>9.435961</td>\n",
       "      <td>1</td>\n",
       "      <td>5.587976</td>\n",
       "      <td>12.010368</td>\n",
       "      <td>7.309212</td>\n",
       "      <td>3.999387</td>\n",
       "      <td>84000001</td>\n",
       "      <td>5.766504e-09</td>\n",
       "      <td>51.221595</td>\n",
       "      <td>-5.587159</td>\n",
       "    </tr>\n",
       "    <tr>\n",
       "      <th>0</th>\n",
       "      <td>0</td>\n",
       "      <td>0</td>\n",
       "      <td>32.3182</td>\n",
       "      <td>-86.9023</td>\n",
       "      <td>9.476773</td>\n",
       "      <td>6.259581</td>\n",
       "      <td>2.639057</td>\n",
       "      <td>9.435961</td>\n",
       "      <td>1</td>\n",
       "      <td>5.587976</td>\n",
       "      <td>12.010368</td>\n",
       "      <td>7.309212</td>\n",
       "      <td>3.999387</td>\n",
       "      <td>84000001</td>\n",
       "      <td>5.766504e-09</td>\n",
       "      <td>51.221595</td>\n",
       "      <td>-5.587159</td>\n",
       "    </tr>\n",
       "    <tr>\n",
       "      <th>0</th>\n",
       "      <td>0</td>\n",
       "      <td>0</td>\n",
       "      <td>32.3182</td>\n",
       "      <td>-86.9023</td>\n",
       "      <td>9.476773</td>\n",
       "      <td>6.259581</td>\n",
       "      <td>2.639057</td>\n",
       "      <td>9.435961</td>\n",
       "      <td>1</td>\n",
       "      <td>5.587976</td>\n",
       "      <td>12.010368</td>\n",
       "      <td>7.309212</td>\n",
       "      <td>3.999387</td>\n",
       "      <td>84000001</td>\n",
       "      <td>5.766504e-09</td>\n",
       "      <td>51.221595</td>\n",
       "      <td>-5.587159</td>\n",
       "    </tr>\n",
       "    <tr>\n",
       "      <th>0</th>\n",
       "      <td>0</td>\n",
       "      <td>0</td>\n",
       "      <td>32.3182</td>\n",
       "      <td>-86.9023</td>\n",
       "      <td>9.476773</td>\n",
       "      <td>6.259581</td>\n",
       "      <td>2.639057</td>\n",
       "      <td>9.435961</td>\n",
       "      <td>1</td>\n",
       "      <td>5.587976</td>\n",
       "      <td>12.010368</td>\n",
       "      <td>7.309212</td>\n",
       "      <td>3.999387</td>\n",
       "      <td>84000001</td>\n",
       "      <td>5.766504e-09</td>\n",
       "      <td>51.221595</td>\n",
       "      <td>-5.587159</td>\n",
       "    </tr>\n",
       "    <tr>\n",
       "      <th>...</th>\n",
       "      <td>...</td>\n",
       "      <td>...</td>\n",
       "      <td>...</td>\n",
       "      <td>...</td>\n",
       "      <td>...</td>\n",
       "      <td>...</td>\n",
       "      <td>...</td>\n",
       "      <td>...</td>\n",
       "      <td>...</td>\n",
       "      <td>...</td>\n",
       "      <td>...</td>\n",
       "      <td>...</td>\n",
       "      <td>...</td>\n",
       "      <td>...</td>\n",
       "      <td>...</td>\n",
       "      <td>...</td>\n",
       "      <td>...</td>\n",
       "    </tr>\n",
       "    <tr>\n",
       "      <th>57</th>\n",
       "      <td>54</td>\n",
       "      <td>0</td>\n",
       "      <td>42.7560</td>\n",
       "      <td>-107.3025</td>\n",
       "      <td>6.669498</td>\n",
       "      <td>2.484907</td>\n",
       "      <td>6.270988</td>\n",
       "      <td>5.517453</td>\n",
       "      <td>56</td>\n",
       "      <td>4.919839</td>\n",
       "      <td>9.843791</td>\n",
       "      <td>4.317488</td>\n",
       "      <td>1.397713</td>\n",
       "      <td>84000056</td>\n",
       "      <td>5.766504e-09</td>\n",
       "      <td>50.922893</td>\n",
       "      <td>-7.547252</td>\n",
       "    </tr>\n",
       "    <tr>\n",
       "      <th>57</th>\n",
       "      <td>54</td>\n",
       "      <td>0</td>\n",
       "      <td>42.7560</td>\n",
       "      <td>-107.3025</td>\n",
       "      <td>6.669498</td>\n",
       "      <td>2.484907</td>\n",
       "      <td>6.270988</td>\n",
       "      <td>5.517453</td>\n",
       "      <td>56</td>\n",
       "      <td>4.919839</td>\n",
       "      <td>9.843791</td>\n",
       "      <td>4.317488</td>\n",
       "      <td>1.397713</td>\n",
       "      <td>84000056</td>\n",
       "      <td>5.766504e-09</td>\n",
       "      <td>50.922893</td>\n",
       "      <td>-7.547252</td>\n",
       "    </tr>\n",
       "    <tr>\n",
       "      <th>57</th>\n",
       "      <td>54</td>\n",
       "      <td>0</td>\n",
       "      <td>42.7560</td>\n",
       "      <td>-107.3025</td>\n",
       "      <td>6.669498</td>\n",
       "      <td>2.484907</td>\n",
       "      <td>6.270988</td>\n",
       "      <td>5.517453</td>\n",
       "      <td>56</td>\n",
       "      <td>4.919839</td>\n",
       "      <td>9.843791</td>\n",
       "      <td>4.317488</td>\n",
       "      <td>1.397713</td>\n",
       "      <td>84000056</td>\n",
       "      <td>5.766504e-09</td>\n",
       "      <td>50.922893</td>\n",
       "      <td>-7.547252</td>\n",
       "    </tr>\n",
       "    <tr>\n",
       "      <th>57</th>\n",
       "      <td>54</td>\n",
       "      <td>0</td>\n",
       "      <td>42.7560</td>\n",
       "      <td>-107.3025</td>\n",
       "      <td>6.669498</td>\n",
       "      <td>2.484907</td>\n",
       "      <td>6.270988</td>\n",
       "      <td>5.517453</td>\n",
       "      <td>56</td>\n",
       "      <td>4.919839</td>\n",
       "      <td>9.843791</td>\n",
       "      <td>4.317488</td>\n",
       "      <td>1.397713</td>\n",
       "      <td>84000056</td>\n",
       "      <td>5.766504e-09</td>\n",
       "      <td>50.922893</td>\n",
       "      <td>-7.547252</td>\n",
       "    </tr>\n",
       "    <tr>\n",
       "      <th>57</th>\n",
       "      <td>54</td>\n",
       "      <td>0</td>\n",
       "      <td>42.7560</td>\n",
       "      <td>-107.3025</td>\n",
       "      <td>6.669498</td>\n",
       "      <td>2.484907</td>\n",
       "      <td>6.270988</td>\n",
       "      <td>5.517453</td>\n",
       "      <td>56</td>\n",
       "      <td>4.919839</td>\n",
       "      <td>9.843791</td>\n",
       "      <td>4.317488</td>\n",
       "      <td>1.397713</td>\n",
       "      <td>84000056</td>\n",
       "      <td>5.766504e-09</td>\n",
       "      <td>50.922893</td>\n",
       "      <td>-7.547252</td>\n",
       "    </tr>\n",
       "  </tbody>\n",
       "</table>\n",
       "<p>870 rows × 17 columns</p>\n",
       "</div>"
      ],
      "text/plain": [
       "    Province_State  Country_Region      Lat     Long_  Confirmed    Deaths  \\\n",
       "0                0               0  32.3182  -86.9023   9.476773  6.259581   \n",
       "0                0               0  32.3182  -86.9023   9.476773  6.259581   \n",
       "0                0               0  32.3182  -86.9023   9.476773  6.259581   \n",
       "0                0               0  32.3182  -86.9023   9.476773  6.259581   \n",
       "0                0               0  32.3182  -86.9023   9.476773  6.259581   \n",
       "..             ...             ...      ...       ...        ...       ...   \n",
       "57              54               0  42.7560 -107.3025   6.669498  2.484907   \n",
       "57              54               0  42.7560 -107.3025   6.669498  2.484907   \n",
       "57              54               0  42.7560 -107.3025   6.669498  2.484907   \n",
       "57              54               0  42.7560 -107.3025   6.669498  2.484907   \n",
       "57              54               0  42.7560 -107.3025   6.669498  2.484907   \n",
       "\n",
       "    Recovered    Active  FIPS  Incident_Rate  People_Tested  \\\n",
       "0    2.639057  9.435961     1       5.587976      12.010368   \n",
       "0    2.639057  9.435961     1       5.587976      12.010368   \n",
       "0    2.639057  9.435961     1       5.587976      12.010368   \n",
       "0    2.639057  9.435961     1       5.587976      12.010368   \n",
       "0    2.639057  9.435961     1       5.587976      12.010368   \n",
       "..        ...       ...   ...            ...            ...   \n",
       "57   6.270988  5.517453    56       4.919839       9.843791   \n",
       "57   6.270988  5.517453    56       4.919839       9.843791   \n",
       "57   6.270988  5.517453    56       4.919839       9.843791   \n",
       "57   6.270988  5.517453    56       4.919839       9.843791   \n",
       "57   6.270988  5.517453    56       4.919839       9.843791   \n",
       "\n",
       "    People_Hospitalized  Mortality_Rate       UID          ISO3  Testing_Rate  \\\n",
       "0              7.309212        3.999387  84000001  5.766504e-09     51.221595   \n",
       "0              7.309212        3.999387  84000001  5.766504e-09     51.221595   \n",
       "0              7.309212        3.999387  84000001  5.766504e-09     51.221595   \n",
       "0              7.309212        3.999387  84000001  5.766504e-09     51.221595   \n",
       "0              7.309212        3.999387  84000001  5.766504e-09     51.221595   \n",
       "..                  ...             ...       ...           ...           ...   \n",
       "57             4.317488        1.397713  84000056  5.766504e-09     50.922893   \n",
       "57             4.317488        1.397713  84000056  5.766504e-09     50.922893   \n",
       "57             4.317488        1.397713  84000056  5.766504e-09     50.922893   \n",
       "57             4.317488        1.397713  84000056  5.766504e-09     50.922893   \n",
       "57             4.317488        1.397713  84000056  5.766504e-09     50.922893   \n",
       "\n",
       "    Hospitalization_Rate  \n",
       "0              -5.587159  \n",
       "0              -5.587159  \n",
       "0              -5.587159  \n",
       "0              -5.587159  \n",
       "0              -5.587159  \n",
       "..                   ...  \n",
       "57             -7.547252  \n",
       "57             -7.547252  \n",
       "57             -7.547252  \n",
       "57             -7.547252  \n",
       "57             -7.547252  \n",
       "\n",
       "[870 rows x 17 columns]"
      ]
     },
     "execution_count": 39,
     "metadata": {},
     "output_type": "execute_result"
    }
   ],
   "source": [
    "import warnings\n",
    "warnings.filterwarnings('ignore')\n",
    "from scipy.stats import zscore\n",
    "z=np.abs(zscore(cs))\n",
    "ca=cs[(z<3)]\n",
    "ca"
   ]
  },
  {
   "cell_type": "code",
   "execution_count": 40,
   "metadata": {},
   "outputs": [],
   "source": [
    "ci=ca.drop(['UID', 'ISO3'], axis=1)"
   ]
  },
  {
   "cell_type": "code",
   "execution_count": 41,
   "metadata": {},
   "outputs": [],
   "source": [
    "x=ci.drop('Confirmed', axis=1)\n",
    "y=ci.iloc[:,4]"
   ]
  },
  {
   "cell_type": "code",
   "execution_count": 42,
   "metadata": {},
   "outputs": [
    {
     "data": {
      "text/plain": [
       "array([[-1.69473647,  0.        , -0.70341898, ..., -0.26599238,\n",
       "        -0.07303106,  0.24217268],\n",
       "       [-1.69473647,  0.        , -0.70341898, ..., -0.26599238,\n",
       "        -0.07303106,  0.24217268],\n",
       "       [-1.69473647,  0.        , -0.70341898, ..., -0.26599238,\n",
       "        -0.07303106,  0.24217268],\n",
       "       ...,\n",
       "       [ 1.7076275 ,  0.        ,  0.58530304, ..., -1.54703407,\n",
       "        -0.12267902, -0.21077545],\n",
       "       [ 1.7076275 ,  0.        ,  0.58530304, ..., -1.54703407,\n",
       "        -0.12267902, -0.21077545],\n",
       "       [ 1.7076275 ,  0.        ,  0.58530304, ..., -1.54703407,\n",
       "        -0.12267902, -0.21077545]])"
      ]
     },
     "execution_count": 42,
     "metadata": {},
     "output_type": "execute_result"
    }
   ],
   "source": [
    "from sklearn.preprocessing import StandardScaler\n",
    "sd=StandardScaler()\n",
    "x=sd.fit_transform(x)\n",
    "x\n"
   ]
  },
  {
   "cell_type": "code",
   "execution_count": 43,
   "metadata": {},
   "outputs": [
    {
     "data": {
      "text/plain": [
       "array([[-1.01881407,  0.38708867,  2.61650681, ...,  0.44049238,\n",
       "        -0.61247615,  0.62970305],\n",
       "       [-1.01881407,  0.38708867,  2.61650681, ...,  0.44049238,\n",
       "        -0.61247615,  0.62970305],\n",
       "       [-1.01881407,  0.38708867,  2.61650681, ...,  0.44049238,\n",
       "        -0.61247615,  0.62970305],\n",
       "       ...,\n",
       "       [ 2.99028516,  1.14217519, -1.70026128, ...,  0.229005  ,\n",
       "        -0.73479523,  0.2752947 ],\n",
       "       [ 2.99028516,  1.14217519, -1.70026128, ...,  0.229005  ,\n",
       "        -0.73479523,  0.2752947 ],\n",
       "       [ 2.99028516,  1.14217519, -1.70026128, ...,  0.229005  ,\n",
       "        -0.73479523,  0.2752947 ]])"
      ]
     },
     "execution_count": 43,
     "metadata": {},
     "output_type": "execute_result"
    }
   ],
   "source": [
    "from sklearn.decomposition import PCA\n",
    "pca=PCA(n_components=7)\n",
    "x=pca.fit_transform(x)\n",
    "x\n"
   ]
  },
  {
   "cell_type": "markdown",
   "metadata": {},
   "source": [
    "We can now see that we can make the model in several ways, either by keeping the Confirmed numbers as target, \n",
    "or the recovered or the deaths as the target,\n",
    "so we will try to make model of confirmed first and then even try to make the model with recovered as the target variable.\n",
    "we will use the linear regression and then accoridngly we go with the lasso and ridge regression to undetstand the results and get better score comparitively."
   ]
  },
  {
   "cell_type": "code",
   "execution_count": 44,
   "metadata": {},
   "outputs": [
    {
     "name": "stdout",
     "output_type": "stream",
     "text": [
      "The corresponding value for maximum rstate 68 to the r2 Score is 0.9929646988327568\n"
     ]
    }
   ],
   "source": [
    "from sklearn.linear_model import LinearRegression\n",
    "from sklearn.model_selection import train_test_split \n",
    "from sklearn.metrics import r2_score, mean_squared_error, mean_absolute_error\n",
    "max_scr=0\n",
    "for r_state in range(42,101):\n",
    "    x_test,x_train,y_test,y_train=train_test_split(x,y,random_state=r_state, test_size=0.20)\n",
    "    lr=LinearRegression()\n",
    "    lr.fit(x_train,y_train)\n",
    "    y_pred=lr.predict(x_test)\n",
    "    r2_scr=r2_score(y_test,y_pred)\n",
    "    if r2_scr>max_scr:\n",
    "        max_scr=r2_scr\n",
    "        final_rstate=r_state\n",
    "        \n",
    "print('The corresponding value for maximum rstate',final_rstate, 'to the r2 Score is', max_scr)"
   ]
  },
  {
   "cell_type": "code",
   "execution_count": 45,
   "metadata": {},
   "outputs": [
    {
     "data": {
      "text/plain": [
       "0.9929646988327568"
      ]
     },
     "execution_count": 45,
     "metadata": {},
     "output_type": "execute_result"
    }
   ],
   "source": [
    "x_test,x_train,y_test,y_train=train_test_split(x,y,random_state=68, test_size=0.20)\n",
    "ln=LinearRegression()\n",
    "ln.fit(x_train,y_train)\n",
    "y_pred=ln.predict(x_test)\n",
    "r2_scr=r2_score(y_test,y_pred)\n",
    "r2_scr"
   ]
  },
  {
   "cell_type": "code",
   "execution_count": 46,
   "metadata": {},
   "outputs": [
    {
     "data": {
      "text/plain": [
       "0.9868297977348656"
      ]
     },
     "execution_count": 46,
     "metadata": {},
     "output_type": "execute_result"
    }
   ],
   "source": [
    "from sklearn.model_selection import cross_val_score\n",
    "cross_val_scr=cross_val_score(ln,x,y,scoring='r2', cv=5).mean()\n",
    "cross_val_scr"
   ]
  },
  {
   "cell_type": "code",
   "execution_count": 47,
   "metadata": {},
   "outputs": [
    {
     "name": "stdout",
     "output_type": "stream",
     "text": [
      "{'alpha': 0.001}\n",
      "0.9868297850001294\n",
      "{'alpha': 0.001}\n",
      "0.9867476661180131\n"
     ]
    }
   ],
   "source": [
    "from sklearn.model_selection import GridSearchCV\n",
    "from sklearn.linear_model import Lasso, Ridge\n",
    "alpha_value={'alpha':[1,0.1,0.01,0.001]}\n",
    "model=Ridge(),Lasso()\n",
    "for m in model:\n",
    "    grid=GridSearchCV(estimator=m, param_grid=alpha_value, cv=5)\n",
    "    grid.fit(x,y)\n",
    "    print(grid.best_params_)\n",
    "    print(grid.best_score_)"
   ]
  },
  {
   "cell_type": "code",
   "execution_count": 48,
   "metadata": {},
   "outputs": [
    {
     "name": "stdout",
     "output_type": "stream",
     "text": [
      "r2 score 0.9929648153699907\n",
      "0.02556551613213116\n"
     ]
    }
   ],
   "source": [
    "rg=Ridge(alpha=0.001)\n",
    "rg.fit(x_train,y_train)\n",
    "rg.score(x_train,y_train)\n",
    "pred_y=rg.predict(x_test)\n",
    "r2_scrrg=r2_score(y_test,pred_y)\n",
    "print('r2 score',r2_scrrg)\n",
    "print(mean_squared_error(y_test,pred_y))"
   ]
  },
  {
   "cell_type": "code",
   "execution_count": 49,
   "metadata": {},
   "outputs": [
    {
     "name": "stdout",
     "output_type": "stream",
     "text": [
      "r2 score 0.9929762105230465\n",
      "0.025524106704433287\n"
     ]
    }
   ],
   "source": [
    "ls=Lasso(alpha=0.001)\n",
    "ls.fit(x_train,y_train)\n",
    "ls.score(x_train,y_train)\n",
    "pred_y=ls.predict(x_test)\n",
    "r2_scrrg=r2_score(y_test,pred_y)\n",
    "print('r2 score',r2_scrrg)\n",
    "print(mean_squared_error(y_test,pred_y))"
   ]
  },
  {
   "cell_type": "code",
   "execution_count": null,
   "metadata": {},
   "outputs": [],
   "source": []
  },
  {
   "cell_type": "markdown",
   "metadata": {},
   "source": [
    "We will also try for recover prediction model"
   ]
  },
  {
   "cell_type": "code",
   "execution_count": 50,
   "metadata": {},
   "outputs": [],
   "source": [
    "x_n=ci.drop('Recovered', axis=1)\n",
    "y_n=ci.iloc[:,6]"
   ]
  },
  {
   "cell_type": "code",
   "execution_count": 51,
   "metadata": {},
   "outputs": [
    {
     "data": {
      "text/plain": [
       "array([[-1.69473647,  0.        , -0.70341898, ..., -0.26599238,\n",
       "        -0.07303106,  0.24217268],\n",
       "       [-1.69473647,  0.        , -0.70341898, ..., -0.26599238,\n",
       "        -0.07303106,  0.24217268],\n",
       "       [-1.69473647,  0.        , -0.70341898, ..., -0.26599238,\n",
       "        -0.07303106,  0.24217268],\n",
       "       ...,\n",
       "       [ 1.7076275 ,  0.        ,  0.58530304, ..., -1.54703407,\n",
       "        -0.12267902, -0.21077545],\n",
       "       [ 1.7076275 ,  0.        ,  0.58530304, ..., -1.54703407,\n",
       "        -0.12267902, -0.21077545],\n",
       "       [ 1.7076275 ,  0.        ,  0.58530304, ..., -1.54703407,\n",
       "        -0.12267902, -0.21077545]])"
      ]
     },
     "execution_count": 51,
     "metadata": {},
     "output_type": "execute_result"
    }
   ],
   "source": [
    "from sklearn.preprocessing import StandardScaler\n",
    "sd=StandardScaler()\n",
    "x_n=sd.fit_transform(x_n)\n",
    "x_n\n"
   ]
  },
  {
   "cell_type": "code",
   "execution_count": 52,
   "metadata": {},
   "outputs": [
    {
     "data": {
      "text/plain": [
       "array([[-1.1079946 ,  0.86309552, -1.89136041, ...,  0.58129342,\n",
       "         0.61602629,  0.11878835],\n",
       "       [-1.1079946 ,  0.86309552, -1.89136041, ...,  0.58129342,\n",
       "         0.61602629,  0.11878835],\n",
       "       [-1.1079946 ,  0.86309552, -1.89136041, ...,  0.58129342,\n",
       "         0.61602629,  0.11878835],\n",
       "       ...,\n",
       "       [ 3.28653663,  0.81732586,  1.427721  , ..., -0.58539184,\n",
       "         0.30081426, -0.38434337],\n",
       "       [ 3.28653663,  0.81732586,  1.427721  , ..., -0.58539184,\n",
       "         0.30081426, -0.38434337],\n",
       "       [ 3.28653663,  0.81732586,  1.427721  , ..., -0.58539184,\n",
       "         0.30081426, -0.38434337]])"
      ]
     },
     "execution_count": 52,
     "metadata": {},
     "output_type": "execute_result"
    }
   ],
   "source": [
    "from sklearn.decomposition import PCA\n",
    "pca=PCA(n_components=7)\n",
    "x_n=pca.fit_transform(x_n)\n",
    "x_n"
   ]
  },
  {
   "cell_type": "code",
   "execution_count": 53,
   "metadata": {},
   "outputs": [
    {
     "name": "stdout",
     "output_type": "stream",
     "text": [
      "The corresponding value for maximum rstate 53 to the r2 Score is 0.11721625075187425\n"
     ]
    }
   ],
   "source": [
    "from sklearn.linear_model import LinearRegression\n",
    "from sklearn.model_selection import train_test_split \n",
    "from sklearn.metrics import r2_score, mean_squared_error, mean_absolute_error\n",
    "max_scr=0\n",
    "for r_state in range(42,101):\n",
    "    x_n_test,x_n_train,y_n_test,y_n_train=train_test_split(x_n,y_n,random_state=r_state, test_size=0.20)\n",
    "    lr=LinearRegression()\n",
    "    lr.fit(x_n_train,y_n_train)\n",
    "    y_pred=lr.predict(x_n_test)\n",
    "    r2_scr=r2_score(y_n_test,y_pred)\n",
    "    if r2_scr>max_scr:\n",
    "        max_scr=r2_scr\n",
    "        final_rstate=r_state\n",
    "        \n",
    "print('The corresponding value for maximum rstate',final_rstate, 'to the r2 Score is', max_scr)"
   ]
  },
  {
   "cell_type": "code",
   "execution_count": null,
   "metadata": {},
   "outputs": [],
   "source": []
  },
  {
   "cell_type": "markdown",
   "metadata": {},
   "source": [
    "It seems the selection of confirmed cases as target variable showed better results, so going with that we wouldd save the model."
   ]
  },
  {
   "cell_type": "code",
   "execution_count": 55,
   "metadata": {},
   "outputs": [],
   "source": [
    "df1=pd.DataFrame(y_pred)\n",
    "df1.to_csv('lr_US_Covid.csv')"
   ]
  },
  {
   "cell_type": "code",
   "execution_count": 56,
   "metadata": {},
   "outputs": [
    {
     "data": {
      "text/plain": [
       "['lr_US_Covid.pkl']"
      ]
     },
     "execution_count": 56,
     "metadata": {},
     "output_type": "execute_result"
    }
   ],
   "source": [
    "import joblib\n",
    "joblib.dump(ln,'lr_US_Covid.pkl')"
   ]
  },
  {
   "cell_type": "code",
   "execution_count": null,
   "metadata": {},
   "outputs": [],
   "source": []
  },
  {
   "cell_type": "code",
   "execution_count": null,
   "metadata": {},
   "outputs": [],
   "source": []
  },
  {
   "cell_type": "code",
   "execution_count": null,
   "metadata": {},
   "outputs": [],
   "source": []
  },
  {
   "cell_type": "code",
   "execution_count": null,
   "metadata": {},
   "outputs": [],
   "source": []
  },
  {
   "cell_type": "code",
   "execution_count": null,
   "metadata": {},
   "outputs": [],
   "source": []
  },
  {
   "cell_type": "code",
   "execution_count": null,
   "metadata": {},
   "outputs": [],
   "source": []
  },
  {
   "cell_type": "code",
   "execution_count": null,
   "metadata": {},
   "outputs": [],
   "source": []
  },
  {
   "cell_type": "code",
   "execution_count": null,
   "metadata": {},
   "outputs": [],
   "source": []
  },
  {
   "cell_type": "code",
   "execution_count": null,
   "metadata": {},
   "outputs": [],
   "source": []
  },
  {
   "cell_type": "code",
   "execution_count": null,
   "metadata": {},
   "outputs": [],
   "source": []
  },
  {
   "cell_type": "code",
   "execution_count": null,
   "metadata": {},
   "outputs": [],
   "source": []
  },
  {
   "cell_type": "code",
   "execution_count": null,
   "metadata": {},
   "outputs": [],
   "source": []
  },
  {
   "cell_type": "code",
   "execution_count": null,
   "metadata": {},
   "outputs": [],
   "source": []
  },
  {
   "cell_type": "code",
   "execution_count": null,
   "metadata": {},
   "outputs": [],
   "source": []
  },
  {
   "cell_type": "code",
   "execution_count": null,
   "metadata": {},
   "outputs": [],
   "source": []
  },
  {
   "cell_type": "code",
   "execution_count": null,
   "metadata": {},
   "outputs": [],
   "source": []
  },
  {
   "cell_type": "code",
   "execution_count": null,
   "metadata": {},
   "outputs": [],
   "source": []
  },
  {
   "cell_type": "code",
   "execution_count": null,
   "metadata": {},
   "outputs": [],
   "source": []
  },
  {
   "cell_type": "code",
   "execution_count": null,
   "metadata": {},
   "outputs": [],
   "source": []
  },
  {
   "cell_type": "code",
   "execution_count": null,
   "metadata": {},
   "outputs": [],
   "source": []
  },
  {
   "cell_type": "code",
   "execution_count": null,
   "metadata": {},
   "outputs": [],
   "source": []
  },
  {
   "cell_type": "code",
   "execution_count": null,
   "metadata": {},
   "outputs": [],
   "source": []
  },
  {
   "cell_type": "code",
   "execution_count": null,
   "metadata": {},
   "outputs": [],
   "source": []
  },
  {
   "cell_type": "code",
   "execution_count": null,
   "metadata": {},
   "outputs": [],
   "source": []
  },
  {
   "cell_type": "code",
   "execution_count": null,
   "metadata": {},
   "outputs": [],
   "source": []
  },
  {
   "cell_type": "code",
   "execution_count": null,
   "metadata": {},
   "outputs": [],
   "source": []
  },
  {
   "cell_type": "code",
   "execution_count": null,
   "metadata": {},
   "outputs": [],
   "source": []
  },
  {
   "cell_type": "code",
   "execution_count": null,
   "metadata": {},
   "outputs": [],
   "source": []
  },
  {
   "cell_type": "code",
   "execution_count": null,
   "metadata": {},
   "outputs": [],
   "source": []
  },
  {
   "cell_type": "code",
   "execution_count": null,
   "metadata": {},
   "outputs": [],
   "source": []
  },
  {
   "cell_type": "code",
   "execution_count": null,
   "metadata": {},
   "outputs": [],
   "source": []
  },
  {
   "cell_type": "code",
   "execution_count": null,
   "metadata": {},
   "outputs": [],
   "source": []
  },
  {
   "cell_type": "code",
   "execution_count": null,
   "metadata": {},
   "outputs": [],
   "source": []
  },
  {
   "cell_type": "code",
   "execution_count": null,
   "metadata": {},
   "outputs": [],
   "source": []
  },
  {
   "cell_type": "code",
   "execution_count": null,
   "metadata": {},
   "outputs": [],
   "source": []
  },
  {
   "cell_type": "code",
   "execution_count": null,
   "metadata": {},
   "outputs": [],
   "source": []
  },
  {
   "cell_type": "code",
   "execution_count": null,
   "metadata": {},
   "outputs": [],
   "source": []
  },
  {
   "cell_type": "code",
   "execution_count": null,
   "metadata": {},
   "outputs": [],
   "source": []
  },
  {
   "cell_type": "code",
   "execution_count": null,
   "metadata": {},
   "outputs": [],
   "source": []
  },
  {
   "cell_type": "code",
   "execution_count": null,
   "metadata": {},
   "outputs": [],
   "source": []
  },
  {
   "cell_type": "code",
   "execution_count": null,
   "metadata": {},
   "outputs": [],
   "source": []
  },
  {
   "cell_type": "code",
   "execution_count": null,
   "metadata": {},
   "outputs": [],
   "source": []
  },
  {
   "cell_type": "code",
   "execution_count": null,
   "metadata": {},
   "outputs": [],
   "source": []
  },
  {
   "cell_type": "code",
   "execution_count": null,
   "metadata": {},
   "outputs": [],
   "source": []
  },
  {
   "cell_type": "code",
   "execution_count": null,
   "metadata": {},
   "outputs": [],
   "source": []
  },
  {
   "cell_type": "code",
   "execution_count": null,
   "metadata": {},
   "outputs": [],
   "source": []
  },
  {
   "cell_type": "code",
   "execution_count": null,
   "metadata": {},
   "outputs": [],
   "source": []
  },
  {
   "cell_type": "code",
   "execution_count": null,
   "metadata": {},
   "outputs": [],
   "source": []
  },
  {
   "cell_type": "code",
   "execution_count": null,
   "metadata": {},
   "outputs": [],
   "source": []
  },
  {
   "cell_type": "code",
   "execution_count": null,
   "metadata": {},
   "outputs": [],
   "source": []
  },
  {
   "cell_type": "code",
   "execution_count": null,
   "metadata": {},
   "outputs": [],
   "source": []
  },
  {
   "cell_type": "code",
   "execution_count": null,
   "metadata": {},
   "outputs": [],
   "source": []
  },
  {
   "cell_type": "code",
   "execution_count": null,
   "metadata": {},
   "outputs": [],
   "source": []
  },
  {
   "cell_type": "code",
   "execution_count": null,
   "metadata": {},
   "outputs": [],
   "source": []
  },
  {
   "cell_type": "code",
   "execution_count": null,
   "metadata": {},
   "outputs": [],
   "source": []
  },
  {
   "cell_type": "code",
   "execution_count": null,
   "metadata": {},
   "outputs": [],
   "source": []
  },
  {
   "cell_type": "code",
   "execution_count": null,
   "metadata": {},
   "outputs": [],
   "source": []
  },
  {
   "cell_type": "code",
   "execution_count": null,
   "metadata": {},
   "outputs": [],
   "source": []
  },
  {
   "cell_type": "code",
   "execution_count": null,
   "metadata": {},
   "outputs": [],
   "source": []
  },
  {
   "cell_type": "code",
   "execution_count": null,
   "metadata": {},
   "outputs": [],
   "source": []
  },
  {
   "cell_type": "code",
   "execution_count": null,
   "metadata": {},
   "outputs": [],
   "source": []
  },
  {
   "cell_type": "code",
   "execution_count": null,
   "metadata": {},
   "outputs": [],
   "source": []
  },
  {
   "cell_type": "code",
   "execution_count": null,
   "metadata": {},
   "outputs": [],
   "source": []
  },
  {
   "cell_type": "code",
   "execution_count": null,
   "metadata": {},
   "outputs": [],
   "source": []
  },
  {
   "cell_type": "code",
   "execution_count": null,
   "metadata": {},
   "outputs": [],
   "source": []
  },
  {
   "cell_type": "code",
   "execution_count": null,
   "metadata": {},
   "outputs": [],
   "source": []
  },
  {
   "cell_type": "code",
   "execution_count": null,
   "metadata": {},
   "outputs": [],
   "source": []
  },
  {
   "cell_type": "code",
   "execution_count": null,
   "metadata": {},
   "outputs": [],
   "source": []
  },
  {
   "cell_type": "code",
   "execution_count": null,
   "metadata": {},
   "outputs": [],
   "source": []
  },
  {
   "cell_type": "code",
   "execution_count": null,
   "metadata": {},
   "outputs": [],
   "source": []
  },
  {
   "cell_type": "code",
   "execution_count": null,
   "metadata": {},
   "outputs": [],
   "source": []
  },
  {
   "cell_type": "code",
   "execution_count": null,
   "metadata": {},
   "outputs": [],
   "source": []
  },
  {
   "cell_type": "code",
   "execution_count": null,
   "metadata": {},
   "outputs": [],
   "source": []
  },
  {
   "cell_type": "code",
   "execution_count": null,
   "metadata": {},
   "outputs": [],
   "source": []
  },
  {
   "cell_type": "code",
   "execution_count": null,
   "metadata": {},
   "outputs": [],
   "source": []
  },
  {
   "cell_type": "code",
   "execution_count": null,
   "metadata": {},
   "outputs": [],
   "source": []
  },
  {
   "cell_type": "code",
   "execution_count": null,
   "metadata": {},
   "outputs": [],
   "source": []
  },
  {
   "cell_type": "code",
   "execution_count": null,
   "metadata": {},
   "outputs": [],
   "source": []
  },
  {
   "cell_type": "code",
   "execution_count": null,
   "metadata": {},
   "outputs": [],
   "source": []
  }
 ],
 "metadata": {
  "kernelspec": {
   "display_name": "Python 3",
   "language": "python",
   "name": "python3"
  },
  "language_info": {
   "codemirror_mode": {
    "name": "ipython",
    "version": 3
   },
   "file_extension": ".py",
   "mimetype": "text/x-python",
   "name": "python",
   "nbconvert_exporter": "python",
   "pygments_lexer": "ipython3",
   "version": "3.8.3"
  }
 },
 "nbformat": 4,
 "nbformat_minor": 4
}
