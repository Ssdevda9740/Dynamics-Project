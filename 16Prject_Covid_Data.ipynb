{
 "cells": [
  {
   "cell_type": "code",
   "execution_count": 1,
   "metadata": {},
   "outputs": [],
   "source": [
    "import pandas as pd\n",
    "import numpy as np\n",
    "import matplotlib.pyplot as plt\n",
    "import seaborn as sns \n",
    "import sklearn"
   ]
  },
  {
   "cell_type": "code",
   "execution_count": 2,
   "metadata": {},
   "outputs": [
    {
     "data": {
      "text/html": [
       "<div>\n",
       "<style scoped>\n",
       "    .dataframe tbody tr th:only-of-type {\n",
       "        vertical-align: middle;\n",
       "    }\n",
       "\n",
       "    .dataframe tbody tr th {\n",
       "        vertical-align: top;\n",
       "    }\n",
       "\n",
       "    .dataframe thead th {\n",
       "        text-align: right;\n",
       "    }\n",
       "</style>\n",
       "<table border=\"1\" class=\"dataframe\">\n",
       "  <thead>\n",
       "    <tr style=\"text-align: right;\">\n",
       "      <th></th>\n",
       "      <th>Date</th>\n",
       "      <th>Country</th>\n",
       "      <th>Population</th>\n",
       "      <th>Total Tests</th>\n",
       "      <th>Total Cases</th>\n",
       "      <th>Total Deaths</th>\n",
       "      <th>Total Recovered</th>\n",
       "      <th>Serious or Critical</th>\n",
       "      <th>Active Cases</th>\n",
       "    </tr>\n",
       "  </thead>\n",
       "  <tbody>\n",
       "    <tr>\n",
       "      <th>0</th>\n",
       "      <td>2020-04-18</td>\n",
       "      <td>USA</td>\n",
       "      <td>330774664</td>\n",
       "      <td>3722145.0</td>\n",
       "      <td>738792.0</td>\n",
       "      <td>39014.0</td>\n",
       "      <td>68269.0</td>\n",
       "      <td>13551.0</td>\n",
       "      <td>631509.0</td>\n",
       "    </tr>\n",
       "    <tr>\n",
       "      <th>1</th>\n",
       "      <td>2020-04-18</td>\n",
       "      <td>Russia</td>\n",
       "      <td>145927292</td>\n",
       "      <td>1831892.0</td>\n",
       "      <td>36793.0</td>\n",
       "      <td>313.0</td>\n",
       "      <td>3057.0</td>\n",
       "      <td>8.0</td>\n",
       "      <td>33423.0</td>\n",
       "    </tr>\n",
       "    <tr>\n",
       "      <th>2</th>\n",
       "      <td>2020-04-18</td>\n",
       "      <td>Spain</td>\n",
       "      <td>46752703</td>\n",
       "      <td>930230.0</td>\n",
       "      <td>194416.0</td>\n",
       "      <td>20043.0</td>\n",
       "      <td>74797.0</td>\n",
       "      <td>7371.0</td>\n",
       "      <td>99576.0</td>\n",
       "    </tr>\n",
       "    <tr>\n",
       "      <th>3</th>\n",
       "      <td>2020-04-18</td>\n",
       "      <td>Brazil</td>\n",
       "      <td>212380932</td>\n",
       "      <td>62985.0</td>\n",
       "      <td>36722.0</td>\n",
       "      <td>2361.0</td>\n",
       "      <td>14026.0</td>\n",
       "      <td>6634.0</td>\n",
       "      <td>20335.0</td>\n",
       "    </tr>\n",
       "    <tr>\n",
       "      <th>4</th>\n",
       "      <td>2020-04-18</td>\n",
       "      <td>UK</td>\n",
       "      <td>67844241</td>\n",
       "      <td>460437.0</td>\n",
       "      <td>114217.0</td>\n",
       "      <td>15464.0</td>\n",
       "      <td>NaN</td>\n",
       "      <td>1559.0</td>\n",
       "      <td>98409.0</td>\n",
       "    </tr>\n",
       "    <tr>\n",
       "      <th>...</th>\n",
       "      <td>...</td>\n",
       "      <td>...</td>\n",
       "      <td>...</td>\n",
       "      <td>...</td>\n",
       "      <td>...</td>\n",
       "      <td>...</td>\n",
       "      <td>...</td>\n",
       "      <td>...</td>\n",
       "      <td>...</td>\n",
       "    </tr>\n",
       "    <tr>\n",
       "      <th>6598</th>\n",
       "      <td>2020-05-18</td>\n",
       "      <td>St. Barth</td>\n",
       "      <td>9874</td>\n",
       "      <td>NaN</td>\n",
       "      <td>6.0</td>\n",
       "      <td>NaN</td>\n",
       "      <td>6.0</td>\n",
       "      <td>NaN</td>\n",
       "      <td>0.0</td>\n",
       "    </tr>\n",
       "    <tr>\n",
       "      <th>6599</th>\n",
       "      <td>2020-05-18</td>\n",
       "      <td>Western Sahara</td>\n",
       "      <td>595462</td>\n",
       "      <td>NaN</td>\n",
       "      <td>6.0</td>\n",
       "      <td>NaN</td>\n",
       "      <td>6.0</td>\n",
       "      <td>NaN</td>\n",
       "      <td>0.0</td>\n",
       "    </tr>\n",
       "    <tr>\n",
       "      <th>6600</th>\n",
       "      <td>2020-05-18</td>\n",
       "      <td>Anguilla</td>\n",
       "      <td>14987</td>\n",
       "      <td>NaN</td>\n",
       "      <td>3.0</td>\n",
       "      <td>NaN</td>\n",
       "      <td>3.0</td>\n",
       "      <td>NaN</td>\n",
       "      <td>0.0</td>\n",
       "    </tr>\n",
       "    <tr>\n",
       "      <th>6601</th>\n",
       "      <td>2020-05-18</td>\n",
       "      <td>Lesotho</td>\n",
       "      <td>2140235</td>\n",
       "      <td>NaN</td>\n",
       "      <td>1.0</td>\n",
       "      <td>NaN</td>\n",
       "      <td>NaN</td>\n",
       "      <td>NaN</td>\n",
       "      <td>1.0</td>\n",
       "    </tr>\n",
       "    <tr>\n",
       "      <th>6602</th>\n",
       "      <td>2020-05-18</td>\n",
       "      <td>Saint Pierre Miquelon</td>\n",
       "      <td>5797</td>\n",
       "      <td>NaN</td>\n",
       "      <td>1.0</td>\n",
       "      <td>NaN</td>\n",
       "      <td>1.0</td>\n",
       "      <td>NaN</td>\n",
       "      <td>0.0</td>\n",
       "    </tr>\n",
       "  </tbody>\n",
       "</table>\n",
       "<p>6603 rows × 9 columns</p>\n",
       "</div>"
      ],
      "text/plain": [
       "           Date                Country  Population  Total Tests  Total Cases  \\\n",
       "0    2020-04-18                    USA   330774664    3722145.0     738792.0   \n",
       "1    2020-04-18                 Russia   145927292    1831892.0      36793.0   \n",
       "2    2020-04-18                  Spain    46752703     930230.0     194416.0   \n",
       "3    2020-04-18                 Brazil   212380932      62985.0      36722.0   \n",
       "4    2020-04-18                     UK    67844241     460437.0     114217.0   \n",
       "...         ...                    ...         ...          ...          ...   \n",
       "6598 2020-05-18              St. Barth        9874          NaN          6.0   \n",
       "6599 2020-05-18         Western Sahara      595462          NaN          6.0   \n",
       "6600 2020-05-18               Anguilla       14987          NaN          3.0   \n",
       "6601 2020-05-18                Lesotho     2140235          NaN          1.0   \n",
       "6602 2020-05-18  Saint Pierre Miquelon        5797          NaN          1.0   \n",
       "\n",
       "      Total Deaths  Total Recovered  Serious or Critical  Active Cases  \n",
       "0          39014.0          68269.0              13551.0      631509.0  \n",
       "1            313.0           3057.0                  8.0       33423.0  \n",
       "2          20043.0          74797.0               7371.0       99576.0  \n",
       "3           2361.0          14026.0               6634.0       20335.0  \n",
       "4          15464.0              NaN               1559.0       98409.0  \n",
       "...            ...              ...                  ...           ...  \n",
       "6598           NaN              6.0                  NaN           0.0  \n",
       "6599           NaN              6.0                  NaN           0.0  \n",
       "6600           NaN              3.0                  NaN           0.0  \n",
       "6601           NaN              NaN                  NaN           1.0  \n",
       "6602           NaN              1.0                  NaN           0.0  \n",
       "\n",
       "[6603 rows x 9 columns]"
      ]
     },
     "execution_count": 2,
     "metadata": {},
     "output_type": "execute_result"
    }
   ],
   "source": [
    "cv=pd.read_csv('Covid_data.csv', parse_dates=['Date'])\n",
    "cv"
   ]
  },
  {
   "cell_type": "code",
   "execution_count": null,
   "metadata": {},
   "outputs": [],
   "source": []
  },
  {
   "cell_type": "code",
   "execution_count": 3,
   "metadata": {},
   "outputs": [
    {
     "data": {
      "text/html": [
       "<div>\n",
       "<style scoped>\n",
       "    .dataframe tbody tr th:only-of-type {\n",
       "        vertical-align: middle;\n",
       "    }\n",
       "\n",
       "    .dataframe tbody tr th {\n",
       "        vertical-align: top;\n",
       "    }\n",
       "\n",
       "    .dataframe thead th {\n",
       "        text-align: right;\n",
       "    }\n",
       "</style>\n",
       "<table border=\"1\" class=\"dataframe\">\n",
       "  <thead>\n",
       "    <tr style=\"text-align: right;\">\n",
       "      <th></th>\n",
       "      <th>Country</th>\n",
       "      <th>Fraction age 0-14 years</th>\n",
       "      <th>Fraction age 15-64 years</th>\n",
       "      <th>Fraction age 65+ years</th>\n",
       "    </tr>\n",
       "  </thead>\n",
       "  <tbody>\n",
       "    <tr>\n",
       "      <th>0</th>\n",
       "      <td>USA</td>\n",
       "      <td>0.189</td>\n",
       "      <td>0.657</td>\n",
       "      <td>0.154</td>\n",
       "    </tr>\n",
       "    <tr>\n",
       "      <th>1</th>\n",
       "      <td>Russia</td>\n",
       "      <td>0.176</td>\n",
       "      <td>0.682</td>\n",
       "      <td>0.142</td>\n",
       "    </tr>\n",
       "    <tr>\n",
       "      <th>2</th>\n",
       "      <td>Spain</td>\n",
       "      <td>0.147</td>\n",
       "      <td>0.659</td>\n",
       "      <td>0.194</td>\n",
       "    </tr>\n",
       "    <tr>\n",
       "      <th>3</th>\n",
       "      <td>Brazil</td>\n",
       "      <td>0.217</td>\n",
       "      <td>0.697</td>\n",
       "      <td>0.086</td>\n",
       "    </tr>\n",
       "    <tr>\n",
       "      <th>4</th>\n",
       "      <td>UK</td>\n",
       "      <td>0.177</td>\n",
       "      <td>0.638</td>\n",
       "      <td>0.185</td>\n",
       "    </tr>\n",
       "    <tr>\n",
       "      <th>...</th>\n",
       "      <td>...</td>\n",
       "      <td>...</td>\n",
       "      <td>...</td>\n",
       "      <td>...</td>\n",
       "    </tr>\n",
       "    <tr>\n",
       "      <th>208</th>\n",
       "      <td>St. Barth</td>\n",
       "      <td>NaN</td>\n",
       "      <td>NaN</td>\n",
       "      <td>NaN</td>\n",
       "    </tr>\n",
       "    <tr>\n",
       "      <th>209</th>\n",
       "      <td>Western Sahara</td>\n",
       "      <td>NaN</td>\n",
       "      <td>NaN</td>\n",
       "      <td>NaN</td>\n",
       "    </tr>\n",
       "    <tr>\n",
       "      <th>210</th>\n",
       "      <td>Anguilla</td>\n",
       "      <td>NaN</td>\n",
       "      <td>NaN</td>\n",
       "      <td>NaN</td>\n",
       "    </tr>\n",
       "    <tr>\n",
       "      <th>211</th>\n",
       "      <td>Lesotho</td>\n",
       "      <td>0.354</td>\n",
       "      <td>0.601</td>\n",
       "      <td>0.045</td>\n",
       "    </tr>\n",
       "    <tr>\n",
       "      <th>212</th>\n",
       "      <td>Saint Pierre Miquelon</td>\n",
       "      <td>NaN</td>\n",
       "      <td>NaN</td>\n",
       "      <td>NaN</td>\n",
       "    </tr>\n",
       "  </tbody>\n",
       "</table>\n",
       "<p>213 rows × 4 columns</p>\n",
       "</div>"
      ],
      "text/plain": [
       "                   Country  Fraction age 0-14 years  Fraction age 15-64 years  \\\n",
       "0                      USA                    0.189                     0.657   \n",
       "1                   Russia                    0.176                     0.682   \n",
       "2                    Spain                    0.147                     0.659   \n",
       "3                   Brazil                    0.217                     0.697   \n",
       "4                       UK                    0.177                     0.638   \n",
       "..                     ...                      ...                       ...   \n",
       "208              St. Barth                      NaN                       NaN   \n",
       "209         Western Sahara                      NaN                       NaN   \n",
       "210               Anguilla                      NaN                       NaN   \n",
       "211                Lesotho                    0.354                     0.601   \n",
       "212  Saint Pierre Miquelon                      NaN                       NaN   \n",
       "\n",
       "     Fraction age 65+ years  \n",
       "0                     0.154  \n",
       "1                     0.142  \n",
       "2                     0.194  \n",
       "3                     0.086  \n",
       "4                     0.185  \n",
       "..                      ...  \n",
       "208                     NaN  \n",
       "209                     NaN  \n",
       "210                     NaN  \n",
       "211                   0.045  \n",
       "212                     NaN  \n",
       "\n",
       "[213 rows x 4 columns]"
      ]
     },
     "execution_count": 3,
     "metadata": {},
     "output_type": "execute_result"
    }
   ],
   "source": [
    "ag=pd.read_csv('Age_Covid_data.csv')\n",
    "ag"
   ]
  },
  {
   "cell_type": "code",
   "execution_count": 4,
   "metadata": {},
   "outputs": [
    {
     "data": {
      "text/plain": [
       "Date                   datetime64[ns]\n",
       "Country                        object\n",
       "Population                      int64\n",
       "Total Tests                   float64\n",
       "Total Cases                   float64\n",
       "Total Deaths                  float64\n",
       "Total Recovered               float64\n",
       "Serious or Critical           float64\n",
       "Active Cases                  float64\n",
       "dtype: object"
      ]
     },
     "execution_count": 4,
     "metadata": {},
     "output_type": "execute_result"
    }
   ],
   "source": [
    "cv.dtypes"
   ]
  },
  {
   "cell_type": "code",
   "execution_count": 5,
   "metadata": {},
   "outputs": [
    {
     "data": {
      "text/plain": [
       "Date                      0\n",
       "Country                   0\n",
       "Population                0\n",
       "Total Tests            1098\n",
       "Total Cases              49\n",
       "Total Deaths           1236\n",
       "Total Recovered         285\n",
       "Serious or Critical    2486\n",
       "Active Cases             59\n",
       "dtype: int64"
      ]
     },
     "execution_count": 5,
     "metadata": {},
     "output_type": "execute_result"
    }
   ],
   "source": [
    "cv.isnull().sum()"
   ]
  },
  {
   "cell_type": "code",
   "execution_count": 6,
   "metadata": {},
   "outputs": [],
   "source": [
    "cv['Total Tests']=cv['Total Tests'].fillna(cv['Total Tests'].mean())\n",
    "cv['Total Cases']=cv['Total Cases'].fillna(cv['Total Cases'].mean())\n",
    "cv['Total Deaths']=cv['Total Deaths'].fillna(cv['Total Deaths'].mean())\n",
    "cv['Total Recovered']=cv['Total Recovered'].fillna(cv['Total Recovered'].mean())\n",
    "cv['Serious or Critical']=cv['Serious or Critical'].fillna(cv['Serious or Critical'].mean())\n",
    "cv['Active Cases']=cv['Active Cases'].fillna(cv['Active Cases'].mean())"
   ]
  },
  {
   "cell_type": "markdown",
   "metadata": {},
   "source": [
    "#or we can use loop function which will be\n",
    "df=cv.isnull().sum()\n",
    "col=cv.columns\n",
    "for i in range(len(df)):\n",
    "    if(df[i]>0):\n",
    "        cv[col[i]]=cv[col[i]].fillna(cv[col[i]].mean())"
   ]
  },
  {
   "cell_type": "code",
   "execution_count": 7,
   "metadata": {},
   "outputs": [
    {
     "data": {
      "text/plain": [
       "Date                   0\n",
       "Country                0\n",
       "Population             0\n",
       "Total Tests            0\n",
       "Total Cases            0\n",
       "Total Deaths           0\n",
       "Total Recovered        0\n",
       "Serious or Critical    0\n",
       "Active Cases           0\n",
       "dtype: int64"
      ]
     },
     "execution_count": 7,
     "metadata": {},
     "output_type": "execute_result"
    }
   ],
   "source": [
    "cv.isnull().sum()"
   ]
  },
  {
   "cell_type": "code",
   "execution_count": 8,
   "metadata": {},
   "outputs": [
    {
     "data": {
      "text/plain": [
       "Date                   datetime64[ns]\n",
       "Country                        object\n",
       "Population                      int64\n",
       "Total Tests                   float64\n",
       "Total Cases                   float64\n",
       "Total Deaths                  float64\n",
       "Total Recovered               float64\n",
       "Serious or Critical           float64\n",
       "Active Cases                  float64\n",
       "dtype: object"
      ]
     },
     "execution_count": 8,
     "metadata": {},
     "output_type": "execute_result"
    }
   ],
   "source": [
    "cv.dtypes"
   ]
  },
  {
   "cell_type": "code",
   "execution_count": 9,
   "metadata": {},
   "outputs": [],
   "source": [
    "df=pd.DataFrame()\n",
    "df['Day']=cv['Date'].dt.day_name()\n",
    "df['Month']=cv['Date'].dt.month_name()"
   ]
  },
  {
   "cell_type": "code",
   "execution_count": 10,
   "metadata": {},
   "outputs": [
    {
     "data": {
      "text/html": [
       "<div>\n",
       "<style scoped>\n",
       "    .dataframe tbody tr th:only-of-type {\n",
       "        vertical-align: middle;\n",
       "    }\n",
       "\n",
       "    .dataframe tbody tr th {\n",
       "        vertical-align: top;\n",
       "    }\n",
       "\n",
       "    .dataframe thead th {\n",
       "        text-align: right;\n",
       "    }\n",
       "</style>\n",
       "<table border=\"1\" class=\"dataframe\">\n",
       "  <thead>\n",
       "    <tr style=\"text-align: right;\">\n",
       "      <th></th>\n",
       "      <th>Day</th>\n",
       "      <th>Month</th>\n",
       "    </tr>\n",
       "  </thead>\n",
       "  <tbody>\n",
       "    <tr>\n",
       "      <th>0</th>\n",
       "      <td>Saturday</td>\n",
       "      <td>April</td>\n",
       "    </tr>\n",
       "    <tr>\n",
       "      <th>1</th>\n",
       "      <td>Saturday</td>\n",
       "      <td>April</td>\n",
       "    </tr>\n",
       "    <tr>\n",
       "      <th>2</th>\n",
       "      <td>Saturday</td>\n",
       "      <td>April</td>\n",
       "    </tr>\n",
       "    <tr>\n",
       "      <th>3</th>\n",
       "      <td>Saturday</td>\n",
       "      <td>April</td>\n",
       "    </tr>\n",
       "    <tr>\n",
       "      <th>4</th>\n",
       "      <td>Saturday</td>\n",
       "      <td>April</td>\n",
       "    </tr>\n",
       "    <tr>\n",
       "      <th>...</th>\n",
       "      <td>...</td>\n",
       "      <td>...</td>\n",
       "    </tr>\n",
       "    <tr>\n",
       "      <th>6598</th>\n",
       "      <td>Monday</td>\n",
       "      <td>May</td>\n",
       "    </tr>\n",
       "    <tr>\n",
       "      <th>6599</th>\n",
       "      <td>Monday</td>\n",
       "      <td>May</td>\n",
       "    </tr>\n",
       "    <tr>\n",
       "      <th>6600</th>\n",
       "      <td>Monday</td>\n",
       "      <td>May</td>\n",
       "    </tr>\n",
       "    <tr>\n",
       "      <th>6601</th>\n",
       "      <td>Monday</td>\n",
       "      <td>May</td>\n",
       "    </tr>\n",
       "    <tr>\n",
       "      <th>6602</th>\n",
       "      <td>Monday</td>\n",
       "      <td>May</td>\n",
       "    </tr>\n",
       "  </tbody>\n",
       "</table>\n",
       "<p>6603 rows × 2 columns</p>\n",
       "</div>"
      ],
      "text/plain": [
       "           Day  Month\n",
       "0     Saturday  April\n",
       "1     Saturday  April\n",
       "2     Saturday  April\n",
       "3     Saturday  April\n",
       "4     Saturday  April\n",
       "...        ...    ...\n",
       "6598    Monday    May\n",
       "6599    Monday    May\n",
       "6600    Monday    May\n",
       "6601    Monday    May\n",
       "6602    Monday    May\n",
       "\n",
       "[6603 rows x 2 columns]"
      ]
     },
     "execution_count": 10,
     "metadata": {},
     "output_type": "execute_result"
    }
   ],
   "source": [
    "df"
   ]
  },
  {
   "cell_type": "code",
   "execution_count": 11,
   "metadata": {},
   "outputs": [],
   "source": [
    "cd=pd.concat([cv,df], axis=1)"
   ]
  },
  {
   "cell_type": "code",
   "execution_count": 12,
   "metadata": {},
   "outputs": [],
   "source": [
    "cd=cd.drop(['Date'], axis=1)"
   ]
  },
  {
   "cell_type": "code",
   "execution_count": 13,
   "metadata": {},
   "outputs": [
    {
     "data": {
      "text/html": [
       "<div>\n",
       "<style scoped>\n",
       "    .dataframe tbody tr th:only-of-type {\n",
       "        vertical-align: middle;\n",
       "    }\n",
       "\n",
       "    .dataframe tbody tr th {\n",
       "        vertical-align: top;\n",
       "    }\n",
       "\n",
       "    .dataframe thead th {\n",
       "        text-align: right;\n",
       "    }\n",
       "</style>\n",
       "<table border=\"1\" class=\"dataframe\">\n",
       "  <thead>\n",
       "    <tr style=\"text-align: right;\">\n",
       "      <th></th>\n",
       "      <th>Country</th>\n",
       "      <th>Population</th>\n",
       "      <th>Total Tests</th>\n",
       "      <th>Total Cases</th>\n",
       "      <th>Total Deaths</th>\n",
       "      <th>Total Recovered</th>\n",
       "      <th>Serious or Critical</th>\n",
       "      <th>Active Cases</th>\n",
       "      <th>Day</th>\n",
       "      <th>Month</th>\n",
       "    </tr>\n",
       "  </thead>\n",
       "  <tbody>\n",
       "    <tr>\n",
       "      <th>0</th>\n",
       "      <td>USA</td>\n",
       "      <td>330774664</td>\n",
       "      <td>3.722145e+06</td>\n",
       "      <td>738792.0</td>\n",
       "      <td>39014.000000</td>\n",
       "      <td>68269.000000</td>\n",
       "      <td>13551.00000</td>\n",
       "      <td>631509.0</td>\n",
       "      <td>Saturday</td>\n",
       "      <td>April</td>\n",
       "    </tr>\n",
       "    <tr>\n",
       "      <th>1</th>\n",
       "      <td>Russia</td>\n",
       "      <td>145927292</td>\n",
       "      <td>1.831892e+06</td>\n",
       "      <td>36793.0</td>\n",
       "      <td>313.000000</td>\n",
       "      <td>3057.000000</td>\n",
       "      <td>8.00000</td>\n",
       "      <td>33423.0</td>\n",
       "      <td>Saturday</td>\n",
       "      <td>April</td>\n",
       "    </tr>\n",
       "    <tr>\n",
       "      <th>2</th>\n",
       "      <td>Spain</td>\n",
       "      <td>46752703</td>\n",
       "      <td>9.302300e+05</td>\n",
       "      <td>194416.0</td>\n",
       "      <td>20043.000000</td>\n",
       "      <td>74797.000000</td>\n",
       "      <td>7371.00000</td>\n",
       "      <td>99576.0</td>\n",
       "      <td>Saturday</td>\n",
       "      <td>April</td>\n",
       "    </tr>\n",
       "    <tr>\n",
       "      <th>3</th>\n",
       "      <td>Brazil</td>\n",
       "      <td>212380932</td>\n",
       "      <td>6.298500e+04</td>\n",
       "      <td>36722.0</td>\n",
       "      <td>2361.000000</td>\n",
       "      <td>14026.000000</td>\n",
       "      <td>6634.00000</td>\n",
       "      <td>20335.0</td>\n",
       "      <td>Saturday</td>\n",
       "      <td>April</td>\n",
       "    </tr>\n",
       "    <tr>\n",
       "      <th>4</th>\n",
       "      <td>UK</td>\n",
       "      <td>67844241</td>\n",
       "      <td>4.604370e+05</td>\n",
       "      <td>114217.0</td>\n",
       "      <td>15464.000000</td>\n",
       "      <td>5855.424185</td>\n",
       "      <td>1559.00000</td>\n",
       "      <td>98409.0</td>\n",
       "      <td>Saturday</td>\n",
       "      <td>April</td>\n",
       "    </tr>\n",
       "    <tr>\n",
       "      <th>...</th>\n",
       "      <td>...</td>\n",
       "      <td>...</td>\n",
       "      <td>...</td>\n",
       "      <td>...</td>\n",
       "      <td>...</td>\n",
       "      <td>...</td>\n",
       "      <td>...</td>\n",
       "      <td>...</td>\n",
       "      <td>...</td>\n",
       "      <td>...</td>\n",
       "    </tr>\n",
       "    <tr>\n",
       "      <th>6598</th>\n",
       "      <td>St. Barth</td>\n",
       "      <td>9874</td>\n",
       "      <td>2.167252e+05</td>\n",
       "      <td>6.0</td>\n",
       "      <td>1416.252096</td>\n",
       "      <td>6.000000</td>\n",
       "      <td>386.74836</td>\n",
       "      <td>0.0</td>\n",
       "      <td>Monday</td>\n",
       "      <td>May</td>\n",
       "    </tr>\n",
       "    <tr>\n",
       "      <th>6599</th>\n",
       "      <td>Western Sahara</td>\n",
       "      <td>595462</td>\n",
       "      <td>2.167252e+05</td>\n",
       "      <td>6.0</td>\n",
       "      <td>1416.252096</td>\n",
       "      <td>6.000000</td>\n",
       "      <td>386.74836</td>\n",
       "      <td>0.0</td>\n",
       "      <td>Monday</td>\n",
       "      <td>May</td>\n",
       "    </tr>\n",
       "    <tr>\n",
       "      <th>6600</th>\n",
       "      <td>Anguilla</td>\n",
       "      <td>14987</td>\n",
       "      <td>2.167252e+05</td>\n",
       "      <td>3.0</td>\n",
       "      <td>1416.252096</td>\n",
       "      <td>3.000000</td>\n",
       "      <td>386.74836</td>\n",
       "      <td>0.0</td>\n",
       "      <td>Monday</td>\n",
       "      <td>May</td>\n",
       "    </tr>\n",
       "    <tr>\n",
       "      <th>6601</th>\n",
       "      <td>Lesotho</td>\n",
       "      <td>2140235</td>\n",
       "      <td>2.167252e+05</td>\n",
       "      <td>1.0</td>\n",
       "      <td>1416.252096</td>\n",
       "      <td>5855.424185</td>\n",
       "      <td>386.74836</td>\n",
       "      <td>1.0</td>\n",
       "      <td>Monday</td>\n",
       "      <td>May</td>\n",
       "    </tr>\n",
       "    <tr>\n",
       "      <th>6602</th>\n",
       "      <td>Saint Pierre Miquelon</td>\n",
       "      <td>5797</td>\n",
       "      <td>2.167252e+05</td>\n",
       "      <td>1.0</td>\n",
       "      <td>1416.252096</td>\n",
       "      <td>1.000000</td>\n",
       "      <td>386.74836</td>\n",
       "      <td>0.0</td>\n",
       "      <td>Monday</td>\n",
       "      <td>May</td>\n",
       "    </tr>\n",
       "  </tbody>\n",
       "</table>\n",
       "<p>6603 rows × 10 columns</p>\n",
       "</div>"
      ],
      "text/plain": [
       "                    Country  Population   Total Tests  Total Cases  \\\n",
       "0                       USA   330774664  3.722145e+06     738792.0   \n",
       "1                    Russia   145927292  1.831892e+06      36793.0   \n",
       "2                     Spain    46752703  9.302300e+05     194416.0   \n",
       "3                    Brazil   212380932  6.298500e+04      36722.0   \n",
       "4                        UK    67844241  4.604370e+05     114217.0   \n",
       "...                     ...         ...           ...          ...   \n",
       "6598              St. Barth        9874  2.167252e+05          6.0   \n",
       "6599         Western Sahara      595462  2.167252e+05          6.0   \n",
       "6600               Anguilla       14987  2.167252e+05          3.0   \n",
       "6601                Lesotho     2140235  2.167252e+05          1.0   \n",
       "6602  Saint Pierre Miquelon        5797  2.167252e+05          1.0   \n",
       "\n",
       "      Total Deaths  Total Recovered  Serious or Critical  Active Cases  \\\n",
       "0     39014.000000     68269.000000          13551.00000      631509.0   \n",
       "1       313.000000      3057.000000              8.00000       33423.0   \n",
       "2     20043.000000     74797.000000           7371.00000       99576.0   \n",
       "3      2361.000000     14026.000000           6634.00000       20335.0   \n",
       "4     15464.000000      5855.424185           1559.00000       98409.0   \n",
       "...            ...              ...                  ...           ...   \n",
       "6598   1416.252096         6.000000            386.74836           0.0   \n",
       "6599   1416.252096         6.000000            386.74836           0.0   \n",
       "6600   1416.252096         3.000000            386.74836           0.0   \n",
       "6601   1416.252096      5855.424185            386.74836           1.0   \n",
       "6602   1416.252096         1.000000            386.74836           0.0   \n",
       "\n",
       "           Day  Month  \n",
       "0     Saturday  April  \n",
       "1     Saturday  April  \n",
       "2     Saturday  April  \n",
       "3     Saturday  April  \n",
       "4     Saturday  April  \n",
       "...        ...    ...  \n",
       "6598    Monday    May  \n",
       "6599    Monday    May  \n",
       "6600    Monday    May  \n",
       "6601    Monday    May  \n",
       "6602    Monday    May  \n",
       "\n",
       "[6603 rows x 10 columns]"
      ]
     },
     "execution_count": 13,
     "metadata": {},
     "output_type": "execute_result"
    }
   ],
   "source": [
    "cd"
   ]
  },
  {
   "cell_type": "code",
   "execution_count": 14,
   "metadata": {},
   "outputs": [
    {
     "data": {
      "text/plain": [
       "Country                 object\n",
       "Population               int64\n",
       "Total Tests            float64\n",
       "Total Cases            float64\n",
       "Total Deaths           float64\n",
       "Total Recovered        float64\n",
       "Serious or Critical    float64\n",
       "Active Cases           float64\n",
       "Day                     object\n",
       "Month                   object\n",
       "dtype: object"
      ]
     },
     "execution_count": 14,
     "metadata": {},
     "output_type": "execute_result"
    }
   ],
   "source": [
    "cd.dtypes"
   ]
  },
  {
   "cell_type": "code",
   "execution_count": 15,
   "metadata": {},
   "outputs": [],
   "source": [
    "from sklearn.preprocessing import LabelEncoder\n",
    "le=LabelEncoder()\n",
    "cd['Country']=le.fit_transform(cd['Country'])\n",
    "cd['Day']=le.fit_transform(cd['Day'])\n",
    "cd['Month']=le.fit_transform(cd['Month'])"
   ]
  },
  {
   "cell_type": "code",
   "execution_count": 16,
   "metadata": {},
   "outputs": [
    {
     "data": {
      "text/plain": [
       "Country                  int32\n",
       "Population               int64\n",
       "Total Tests            float64\n",
       "Total Cases            float64\n",
       "Total Deaths           float64\n",
       "Total Recovered        float64\n",
       "Serious or Critical    float64\n",
       "Active Cases           float64\n",
       "Day                      int32\n",
       "Month                    int32\n",
       "dtype: object"
      ]
     },
     "execution_count": 16,
     "metadata": {},
     "output_type": "execute_result"
    }
   ],
   "source": [
    "cd.dtypes"
   ]
  },
  {
   "cell_type": "code",
   "execution_count": 17,
   "metadata": {},
   "outputs": [
    {
     "data": {
      "text/plain": [
       "<matplotlib.axes._subplots.AxesSubplot at 0xb441970>"
      ]
     },
     "execution_count": 17,
     "metadata": {},
     "output_type": "execute_result"
    },
    {
     "data": {
      "image/png": "[encoded data removed]",
      "text/plain": [
       "<Figure size 432x288 with 2 Axes>"
      ]
     },
     "metadata": {
      "needs_background": "light"
     },
     "output_type": "display_data"
    }
   ],
   "source": [
    "sns.heatmap(cd.isnull())"
   ]
  },
  {
   "cell_type": "code",
   "execution_count": 18,
   "metadata": {},
   "outputs": [
    {
     "data": {
      "text/html": [
       "<div>\n",
       "<style scoped>\n",
       "    .dataframe tbody tr th:only-of-type {\n",
       "        vertical-align: middle;\n",
       "    }\n",
       "\n",
       "    .dataframe tbody tr th {\n",
       "        vertical-align: top;\n",
       "    }\n",
       "\n",
       "    .dataframe thead th {\n",
       "        text-align: right;\n",
       "    }\n",
       "</style>\n",
       "<table border=\"1\" class=\"dataframe\">\n",
       "  <thead>\n",
       "    <tr style=\"text-align: right;\">\n",
       "      <th></th>\n",
       "      <th>Country</th>\n",
       "      <th>Population</th>\n",
       "      <th>Total Tests</th>\n",
       "      <th>Total Cases</th>\n",
       "      <th>Total Deaths</th>\n",
       "      <th>Total Recovered</th>\n",
       "      <th>Serious or Critical</th>\n",
       "      <th>Active Cases</th>\n",
       "      <th>Day</th>\n",
       "      <th>Month</th>\n",
       "    </tr>\n",
       "  </thead>\n",
       "  <tbody>\n",
       "    <tr>\n",
       "      <th>count</th>\n",
       "      <td>6603.000000</td>\n",
       "      <td>6.603000e+03</td>\n",
       "      <td>6.603000e+03</td>\n",
       "      <td>6.603000e+03</td>\n",
       "      <td>6603.000000</td>\n",
       "      <td>6603.000000</td>\n",
       "      <td>6603.000000</td>\n",
       "      <td>6.603000e+03</td>\n",
       "      <td>6603.000000</td>\n",
       "      <td>6603.000000</td>\n",
       "    </tr>\n",
       "    <tr>\n",
       "      <th>mean</th>\n",
       "      <td>106.000000</td>\n",
       "      <td>3.637913e+07</td>\n",
       "      <td>2.167252e+05</td>\n",
       "      <td>1.692968e+04</td>\n",
       "      <td>1416.252096</td>\n",
       "      <td>5855.424185</td>\n",
       "      <td>386.748360</td>\n",
       "      <td>9.964142e+03</td>\n",
       "      <td>2.903226</td>\n",
       "      <td>0.580645</td>\n",
       "    </tr>\n",
       "    <tr>\n",
       "      <th>std</th>\n",
       "      <td>61.491783</td>\n",
       "      <td>1.411537e+08</td>\n",
       "      <td>6.934856e+05</td>\n",
       "      <td>8.828521e+04</td>\n",
       "      <td>5990.992214</td>\n",
       "      <td>22955.519135</td>\n",
       "      <td>1309.473245</td>\n",
       "      <td>6.511732e+04</td>\n",
       "      <td>1.940463</td>\n",
       "      <td>0.493491</td>\n",
       "    </tr>\n",
       "    <tr>\n",
       "      <th>min</th>\n",
       "      <td>0.000000</td>\n",
       "      <td>8.010000e+02</td>\n",
       "      <td>1.000000e+01</td>\n",
       "      <td>1.000000e+00</td>\n",
       "      <td>0.000000</td>\n",
       "      <td>1.000000</td>\n",
       "      <td>1.000000</td>\n",
       "      <td>0.000000e+00</td>\n",
       "      <td>0.000000</td>\n",
       "      <td>0.000000</td>\n",
       "    </tr>\n",
       "    <tr>\n",
       "      <th>25%</th>\n",
       "      <td>53.000000</td>\n",
       "      <td>8.672680e+05</td>\n",
       "      <td>4.733000e+03</td>\n",
       "      <td>8.000000e+01</td>\n",
       "      <td>8.000000</td>\n",
       "      <td>29.000000</td>\n",
       "      <td>7.000000</td>\n",
       "      <td>2.700000e+01</td>\n",
       "      <td>1.000000</td>\n",
       "      <td>0.000000</td>\n",
       "    </tr>\n",
       "    <tr>\n",
       "      <th>50%</th>\n",
       "      <td>106.000000</td>\n",
       "      <td>6.859926e+06</td>\n",
       "      <td>5.419500e+04</td>\n",
       "      <td>6.320000e+02</td>\n",
       "      <td>55.000000</td>\n",
       "      <td>253.000000</td>\n",
       "      <td>137.000000</td>\n",
       "      <td>2.840000e+02</td>\n",
       "      <td>3.000000</td>\n",
       "      <td>1.000000</td>\n",
       "    </tr>\n",
       "    <tr>\n",
       "      <th>75%</th>\n",
       "      <td>159.000000</td>\n",
       "      <td>2.546422e+07</td>\n",
       "      <td>2.167252e+05</td>\n",
       "      <td>5.222500e+03</td>\n",
       "      <td>1416.252096</td>\n",
       "      <td>1786.500000</td>\n",
       "      <td>386.748360</td>\n",
       "      <td>2.230500e+03</td>\n",
       "      <td>5.000000</td>\n",
       "      <td>1.000000</td>\n",
       "    </tr>\n",
       "    <tr>\n",
       "      <th>max</th>\n",
       "      <td>212.000000</td>\n",
       "      <td>1.439324e+09</td>\n",
       "      <td>1.230074e+07</td>\n",
       "      <td>1.550294e+06</td>\n",
       "      <td>91981.000000</td>\n",
       "      <td>356383.000000</td>\n",
       "      <td>18671.000000</td>\n",
       "      <td>1.101930e+06</td>\n",
       "      <td>6.000000</td>\n",
       "      <td>1.000000</td>\n",
       "    </tr>\n",
       "  </tbody>\n",
       "</table>\n",
       "</div>"
      ],
      "text/plain": [
       "           Country    Population   Total Tests   Total Cases  Total Deaths  \\\n",
       "count  6603.000000  6.603000e+03  6.603000e+03  6.603000e+03   6603.000000   \n",
       "mean    106.000000  3.637913e+07  2.167252e+05  1.692968e+04   1416.252096   \n",
       "std      61.491783  1.411537e+08  6.934856e+05  8.828521e+04   5990.992214   \n",
       "min       0.000000  8.010000e+02  1.000000e+01  1.000000e+00      0.000000   \n",
       "25%      53.000000  8.672680e+05  4.733000e+03  8.000000e+01      8.000000   \n",
       "50%     106.000000  6.859926e+06  5.419500e+04  6.320000e+02     55.000000   \n",
       "75%     159.000000  2.546422e+07  2.167252e+05  5.222500e+03   1416.252096   \n",
       "max     212.000000  1.439324e+09  1.230074e+07  1.550294e+06  91981.000000   \n",
       "\n",
       "       Total Recovered  Serious or Critical  Active Cases          Day  \\\n",
       "count      6603.000000          6603.000000  6.603000e+03  6603.000000   \n",
       "mean       5855.424185           386.748360  9.964142e+03     2.903226   \n",
       "std       22955.519135          1309.473245  6.511732e+04     1.940463   \n",
       "min           1.000000             1.000000  0.000000e+00     0.000000   \n",
       "25%          29.000000             7.000000  2.700000e+01     1.000000   \n",
       "50%         253.000000           137.000000  2.840000e+02     3.000000   \n",
       "75%        1786.500000           386.748360  2.230500e+03     5.000000   \n",
       "max      356383.000000         18671.000000  1.101930e+06     6.000000   \n",
       "\n",
       "             Month  \n",
       "count  6603.000000  \n",
       "mean      0.580645  \n",
       "std       0.493491  \n",
       "min       0.000000  \n",
       "25%       0.000000  \n",
       "50%       1.000000  \n",
       "75%       1.000000  \n",
       "max       1.000000  "
      ]
     },
     "execution_count": 18,
     "metadata": {},
     "output_type": "execute_result"
    }
   ],
   "source": [
    "cd.describe()"
   ]
  },
  {
   "cell_type": "code",
   "execution_count": 19,
   "metadata": {},
   "outputs": [
    {
     "data": {
      "text/html": [
       "<div>\n",
       "<style scoped>\n",
       "    .dataframe tbody tr th:only-of-type {\n",
       "        vertical-align: middle;\n",
       "    }\n",
       "\n",
       "    .dataframe tbody tr th {\n",
       "        vertical-align: top;\n",
       "    }\n",
       "\n",
       "    .dataframe thead th {\n",
       "        text-align: right;\n",
       "    }\n",
       "</style>\n",
       "<table border=\"1\" class=\"dataframe\">\n",
       "  <thead>\n",
       "    <tr style=\"text-align: right;\">\n",
       "      <th></th>\n",
       "      <th>Country</th>\n",
       "      <th>Population</th>\n",
       "      <th>Total Tests</th>\n",
       "      <th>Total Cases</th>\n",
       "      <th>Total Deaths</th>\n",
       "      <th>Total Recovered</th>\n",
       "      <th>Serious or Critical</th>\n",
       "      <th>Active Cases</th>\n",
       "      <th>Day</th>\n",
       "      <th>Month</th>\n",
       "    </tr>\n",
       "  </thead>\n",
       "  <tbody>\n",
       "    <tr>\n",
       "      <th>Country</th>\n",
       "      <td>1.000000e+00</td>\n",
       "      <td>-2.867433e-02</td>\n",
       "      <td>0.143290</td>\n",
       "      <td>0.117565</td>\n",
       "      <td>0.116034</td>\n",
       "      <td>0.064000</td>\n",
       "      <td>0.080346</td>\n",
       "      <td>0.125181</td>\n",
       "      <td>8.983622e-18</td>\n",
       "      <td>5.319977e-19</td>\n",
       "    </tr>\n",
       "    <tr>\n",
       "      <th>Population</th>\n",
       "      <td>-2.867433e-02</td>\n",
       "      <td>1.000000e+00</td>\n",
       "      <td>0.223735</td>\n",
       "      <td>0.225844</td>\n",
       "      <td>0.176773</td>\n",
       "      <td>0.309361</td>\n",
       "      <td>0.170461</td>\n",
       "      <td>0.179359</td>\n",
       "      <td>5.479849e-18</td>\n",
       "      <td>2.669124e-17</td>\n",
       "    </tr>\n",
       "    <tr>\n",
       "      <th>Total Tests</th>\n",
       "      <td>1.432900e-01</td>\n",
       "      <td>2.237353e-01</td>\n",
       "      <td>1.000000</td>\n",
       "      <td>0.896328</td>\n",
       "      <td>0.803680</td>\n",
       "      <td>0.795205</td>\n",
       "      <td>0.728773</td>\n",
       "      <td>0.853809</td>\n",
       "      <td>-6.783316e-03</td>\n",
       "      <td>6.394901e-02</td>\n",
       "    </tr>\n",
       "    <tr>\n",
       "      <th>Total Cases</th>\n",
       "      <td>1.175655e-01</td>\n",
       "      <td>2.258444e-01</td>\n",
       "      <td>0.896328</td>\n",
       "      <td>1.000000</td>\n",
       "      <td>0.930952</td>\n",
       "      <td>0.821121</td>\n",
       "      <td>0.881620</td>\n",
       "      <td>0.975361</td>\n",
       "      <td>-3.223938e-03</td>\n",
       "      <td>3.363032e-02</td>\n",
       "    </tr>\n",
       "    <tr>\n",
       "      <th>Total Deaths</th>\n",
       "      <td>1.160336e-01</td>\n",
       "      <td>1.767733e-01</td>\n",
       "      <td>0.803680</td>\n",
       "      <td>0.930952</td>\n",
       "      <td>1.000000</td>\n",
       "      <td>0.794887</td>\n",
       "      <td>0.822177</td>\n",
       "      <td>0.879732</td>\n",
       "      <td>-1.586807e-03</td>\n",
       "      <td>2.746937e-02</td>\n",
       "    </tr>\n",
       "    <tr>\n",
       "      <th>Total Recovered</th>\n",
       "      <td>6.400028e-02</td>\n",
       "      <td>3.093609e-01</td>\n",
       "      <td>0.795205</td>\n",
       "      <td>0.821121</td>\n",
       "      <td>0.794887</td>\n",
       "      <td>1.000000</td>\n",
       "      <td>0.707686</td>\n",
       "      <td>0.687265</td>\n",
       "      <td>-6.167316e-03</td>\n",
       "      <td>6.416855e-02</td>\n",
       "    </tr>\n",
       "    <tr>\n",
       "      <th>Serious or Critical</th>\n",
       "      <td>8.034605e-02</td>\n",
       "      <td>1.704606e-01</td>\n",
       "      <td>0.728773</td>\n",
       "      <td>0.881620</td>\n",
       "      <td>0.822177</td>\n",
       "      <td>0.707686</td>\n",
       "      <td>1.000000</td>\n",
       "      <td>0.869204</td>\n",
       "      <td>1.591875e-03</td>\n",
       "      <td>-1.379096e-02</td>\n",
       "    </tr>\n",
       "    <tr>\n",
       "      <th>Active Cases</th>\n",
       "      <td>1.251805e-01</td>\n",
       "      <td>1.793593e-01</td>\n",
       "      <td>0.853809</td>\n",
       "      <td>0.975361</td>\n",
       "      <td>0.879732</td>\n",
       "      <td>0.687265</td>\n",
       "      <td>0.869204</td>\n",
       "      <td>1.000000</td>\n",
       "      <td>-8.167246e-04</td>\n",
       "      <td>1.709871e-02</td>\n",
       "    </tr>\n",
       "    <tr>\n",
       "      <th>Day</th>\n",
       "      <td>8.983622e-18</td>\n",
       "      <td>5.479849e-18</td>\n",
       "      <td>-0.006783</td>\n",
       "      <td>-0.003224</td>\n",
       "      <td>-0.001587</td>\n",
       "      <td>-0.006167</td>\n",
       "      <td>0.001592</td>\n",
       "      <td>-0.000817</td>\n",
       "      <td>1.000000e+00</td>\n",
       "      <td>-1.434603e-01</td>\n",
       "    </tr>\n",
       "    <tr>\n",
       "      <th>Month</th>\n",
       "      <td>5.319977e-19</td>\n",
       "      <td>2.669124e-17</td>\n",
       "      <td>0.063949</td>\n",
       "      <td>0.033630</td>\n",
       "      <td>0.027469</td>\n",
       "      <td>0.064169</td>\n",
       "      <td>-0.013791</td>\n",
       "      <td>0.017099</td>\n",
       "      <td>-1.434603e-01</td>\n",
       "      <td>1.000000e+00</td>\n",
       "    </tr>\n",
       "  </tbody>\n",
       "</table>\n",
       "</div>"
      ],
      "text/plain": [
       "                          Country    Population  Total Tests  Total Cases  \\\n",
       "Country              1.000000e+00 -2.867433e-02     0.143290     0.117565   \n",
       "Population          -2.867433e-02  1.000000e+00     0.223735     0.225844   \n",
       "Total Tests          1.432900e-01  2.237353e-01     1.000000     0.896328   \n",
       "Total Cases          1.175655e-01  2.258444e-01     0.896328     1.000000   \n",
       "Total Deaths         1.160336e-01  1.767733e-01     0.803680     0.930952   \n",
       "Total Recovered      6.400028e-02  3.093609e-01     0.795205     0.821121   \n",
       "Serious or Critical  8.034605e-02  1.704606e-01     0.728773     0.881620   \n",
       "Active Cases         1.251805e-01  1.793593e-01     0.853809     0.975361   \n",
       "Day                  8.983622e-18  5.479849e-18    -0.006783    -0.003224   \n",
       "Month                5.319977e-19  2.669124e-17     0.063949     0.033630   \n",
       "\n",
       "                     Total Deaths  Total Recovered  Serious or Critical  \\\n",
       "Country                  0.116034         0.064000             0.080346   \n",
       "Population               0.176773         0.309361             0.170461   \n",
       "Total Tests              0.803680         0.795205             0.728773   \n",
       "Total Cases              0.930952         0.821121             0.881620   \n",
       "Total Deaths             1.000000         0.794887             0.822177   \n",
       "Total Recovered          0.794887         1.000000             0.707686   \n",
       "Serious or Critical      0.822177         0.707686             1.000000   \n",
       "Active Cases             0.879732         0.687265             0.869204   \n",
       "Day                     -0.001587        -0.006167             0.001592   \n",
       "Month                    0.027469         0.064169            -0.013791   \n",
       "\n",
       "                     Active Cases           Day         Month  \n",
       "Country                  0.125181  8.983622e-18  5.319977e-19  \n",
       "Population               0.179359  5.479849e-18  2.669124e-17  \n",
       "Total Tests              0.853809 -6.783316e-03  6.394901e-02  \n",
       "Total Cases              0.975361 -3.223938e-03  3.363032e-02  \n",
       "Total Deaths             0.879732 -1.586807e-03  2.746937e-02  \n",
       "Total Recovered          0.687265 -6.167316e-03  6.416855e-02  \n",
       "Serious or Critical      0.869204  1.591875e-03 -1.379096e-02  \n",
       "Active Cases             1.000000 -8.167246e-04  1.709871e-02  \n",
       "Day                     -0.000817  1.000000e+00 -1.434603e-01  \n",
       "Month                    0.017099 -1.434603e-01  1.000000e+00  "
      ]
     },
     "execution_count": 19,
     "metadata": {},
     "output_type": "execute_result"
    }
   ],
   "source": [
    "cd.corr()"
   ]
  },
  {
   "cell_type": "code",
   "execution_count": 20,
   "metadata": {},
   "outputs": [
    {
     "data": {
      "text/plain": [
       "<matplotlib.axes._subplots.AxesSubplot at 0xb27ee50>"
      ]
     },
     "execution_count": 20,
     "metadata": {},
     "output_type": "execute_result"
    },
    {
     "data": {
      "image/png": "[encoded data removed]",
      "text/plain": [
       "<Figure size 864x720 with 2 Axes>"
      ]
     },
     "metadata": {
      "needs_background": "light"
     },
     "output_type": "display_data"
    }
   ],
   "source": [
    "plt.figure(figsize=(12,10))\n",
    "sns.heatmap(cd.corr(), cmap='Blues', annot=True)"
   ]
  },
  {
   "cell_type": "code",
   "execution_count": 21,
   "metadata": {},
   "outputs": [
    {
     "data": {
      "text/plain": [
       "<matplotlib.axes._subplots.AxesSubplot at 0xc4e06a0>"
      ]
     },
     "execution_count": 21,
     "metadata": {},
     "output_type": "execute_result"
    },
    {
     "data": {
      "image/png": "[encoded data removed]",
      "text/plain": [
       "<Figure size 432x288 with 1 Axes>"
      ]
     },
     "metadata": {
      "needs_background": "light"
     },
     "output_type": "display_data"
    }
   ],
   "source": [
    "sns.distplot(cd['Total Cases'])"
   ]
  },
  {
   "cell_type": "code",
   "execution_count": null,
   "metadata": {},
   "outputs": [],
   "source": []
  },
  {
   "cell_type": "code",
   "execution_count": 22,
   "metadata": {},
   "outputs": [
    {
     "data": {
      "text/plain": [
       "<matplotlib.axes._subplots.AxesSubplot at 0xc9ee790>"
      ]
     },
     "execution_count": 22,
     "metadata": {},
     "output_type": "execute_result"
    },
    {
     "data": {
      "image/png": "[encoded data removed]",
      "text/plain": [
       "<Figure size 432x288 with 1 Axes>"
      ]
     },
     "metadata": {
      "needs_background": "light"
     },
     "output_type": "display_data"
    }
   ],
   "source": [
    "sns.distplot(cd['Total Tests'])"
   ]
  },
  {
   "cell_type": "code",
   "execution_count": null,
   "metadata": {},
   "outputs": [],
   "source": []
  },
  {
   "cell_type": "code",
   "execution_count": 23,
   "metadata": {},
   "outputs": [
    {
     "data": {
      "text/plain": [
       "<matplotlib.axes._subplots.AxesSubplot at 0xb27e100>"
      ]
     },
     "execution_count": 23,
     "metadata": {},
     "output_type": "execute_result"
    },
    {
     "data": {
      "image/png": "[encoded data removed]",
      "text/plain": [
       "<Figure size 432x288 with 1 Axes>"
      ]
     },
     "metadata": {
      "needs_background": "light"
     },
     "output_type": "display_data"
    }
   ],
   "source": [
    "sns.countplot(cd['Day'])"
   ]
  },
  {
   "cell_type": "code",
   "execution_count": null,
   "metadata": {},
   "outputs": [],
   "source": []
  },
  {
   "cell_type": "code",
   "execution_count": 24,
   "metadata": {},
   "outputs": [
    {
     "data": {
      "text/plain": [
       "<matplotlib.axes._subplots.AxesSubplot at 0xcd2fcd0>"
      ]
     },
     "execution_count": 24,
     "metadata": {},
     "output_type": "execute_result"
    },
    {
     "data": {
      "image/png": "[encoded data removed]",
      "text/plain": [
       "<Figure size 432x288 with 1 Axes>"
      ]
     },
     "metadata": {
      "needs_background": "light"
     },
     "output_type": "display_data"
    }
   ],
   "source": [
    "sns.scatterplot(x='Total Cases', y='Total Tests', data=cd)"
   ]
  },
  {
   "cell_type": "code",
   "execution_count": 25,
   "metadata": {},
   "outputs": [
    {
     "data": {
      "text/plain": [
       "<matplotlib.axes._subplots.AxesSubplot at 0xcd99dc0>"
      ]
     },
     "execution_count": 25,
     "metadata": {},
     "output_type": "execute_result"
    },
    {
     "data": {
      "image/png": "[encoded data removed]",
      "text/plain": [
       "<Figure size 432x288 with 1 Axes>"
      ]
     },
     "metadata": {
      "needs_background": "light"
     },
     "output_type": "display_data"
    }
   ],
   "source": [
    "sns.scatterplot(x='Total Cases', y='Total Recovered', data=cd)"
   ]
  },
  {
   "cell_type": "code",
   "execution_count": 26,
   "metadata": {},
   "outputs": [
    {
     "data": {
      "text/plain": [
       "<matplotlib.axes._subplots.AxesSubplot at 0xc4fe610>"
      ]
     },
     "execution_count": 26,
     "metadata": {},
     "output_type": "execute_result"
    },
    {
     "data": {
      "image/png": "[encoded data removed]",
      "text/plain": [
       "<Figure size 432x288 with 1 Axes>"
      ]
     },
     "metadata": {
      "needs_background": "light"
     },
     "output_type": "display_data"
    }
   ],
   "source": [
    "sns.boxplot(cd['Total Cases'])"
   ]
  },
  {
   "cell_type": "code",
   "execution_count": 27,
   "metadata": {},
   "outputs": [
    {
     "data": {
      "text/plain": [
       "<matplotlib.axes._subplots.AxesSubplot at 0xd06dd30>"
      ]
     },
     "execution_count": 27,
     "metadata": {},
     "output_type": "execute_result"
    },
    {
     "data": {
      "image/png": "[encoded data removed]",
      "text/plain": [
       "<Figure size 432x288 with 1 Axes>"
      ]
     },
     "metadata": {
      "needs_background": "light"
     },
     "output_type": "display_data"
    }
   ],
   "source": [
    "sns.boxplot(cd['Total Recovered'])"
   ]
  },
  {
   "cell_type": "code",
   "execution_count": 28,
   "metadata": {
    "scrolled": true
   },
   "outputs": [
    {
     "data": {
      "text/plain": [
       "<matplotlib.axes._subplots.AxesSubplot at 0xcaace80>"
      ]
     },
     "execution_count": 28,
     "metadata": {},
     "output_type": "execute_result"
    },
    {
     "data": {
      "image/png": "[encoded data removed]",
      "text/plain": [
       "<Figure size 432x288 with 1 Axes>"
      ]
     },
     "metadata": {
      "needs_background": "light"
     },
     "output_type": "display_data"
    }
   ],
   "source": [
    "sns.boxplot(cd['Total Deaths'])"
   ]
  },
  {
   "cell_type": "code",
   "execution_count": 29,
   "metadata": {},
   "outputs": [
    {
     "data": {
      "text/html": [
       "<div>\n",
       "<style scoped>\n",
       "    .dataframe tbody tr th:only-of-type {\n",
       "        vertical-align: middle;\n",
       "    }\n",
       "\n",
       "    .dataframe tbody tr th {\n",
       "        vertical-align: top;\n",
       "    }\n",
       "\n",
       "    .dataframe thead th {\n",
       "        text-align: right;\n",
       "    }\n",
       "</style>\n",
       "<table border=\"1\" class=\"dataframe\">\n",
       "  <thead>\n",
       "    <tr style=\"text-align: right;\">\n",
       "      <th></th>\n",
       "      <th>Country</th>\n",
       "      <th>Population</th>\n",
       "      <th>Total Tests</th>\n",
       "      <th>Total Cases</th>\n",
       "      <th>Total Deaths</th>\n",
       "      <th>Total Recovered</th>\n",
       "      <th>Serious or Critical</th>\n",
       "      <th>Active Cases</th>\n",
       "      <th>Day</th>\n",
       "      <th>Month</th>\n",
       "    </tr>\n",
       "  </thead>\n",
       "  <tbody>\n",
       "    <tr>\n",
       "      <th>1</th>\n",
       "      <td>158</td>\n",
       "      <td>145927292</td>\n",
       "      <td>1.831892e+06</td>\n",
       "      <td>36793.0</td>\n",
       "      <td>313.000000</td>\n",
       "      <td>3057.000000</td>\n",
       "      <td>8.00000</td>\n",
       "      <td>33423.0</td>\n",
       "      <td>2</td>\n",
       "      <td>0</td>\n",
       "    </tr>\n",
       "    <tr>\n",
       "      <th>4</th>\n",
       "      <td>200</td>\n",
       "      <td>67844241</td>\n",
       "      <td>4.604370e+05</td>\n",
       "      <td>114217.0</td>\n",
       "      <td>15464.000000</td>\n",
       "      <td>5855.424185</td>\n",
       "      <td>1559.00000</td>\n",
       "      <td>98409.0</td>\n",
       "      <td>2</td>\n",
       "      <td>0</td>\n",
       "    </tr>\n",
       "    <tr>\n",
       "      <th>8</th>\n",
       "      <td>197</td>\n",
       "      <td>84230075</td>\n",
       "      <td>5.989330e+05</td>\n",
       "      <td>82329.0</td>\n",
       "      <td>1890.000000</td>\n",
       "      <td>10453.000000</td>\n",
       "      <td>1894.00000</td>\n",
       "      <td>69986.0</td>\n",
       "      <td>2</td>\n",
       "      <td>0</td>\n",
       "    </tr>\n",
       "    <tr>\n",
       "      <th>9</th>\n",
       "      <td>93</td>\n",
       "      <td>83862642</td>\n",
       "      <td>3.301370e+05</td>\n",
       "      <td>80868.0</td>\n",
       "      <td>5031.000000</td>\n",
       "      <td>55987.000000</td>\n",
       "      <td>3513.00000</td>\n",
       "      <td>19850.0</td>\n",
       "      <td>2</td>\n",
       "      <td>0</td>\n",
       "    </tr>\n",
       "    <tr>\n",
       "      <th>11</th>\n",
       "      <td>152</td>\n",
       "      <td>32915899</td>\n",
       "      <td>1.358950e+05</td>\n",
       "      <td>14420.0</td>\n",
       "      <td>348.000000</td>\n",
       "      <td>6684.000000</td>\n",
       "      <td>117.00000</td>\n",
       "      <td>7388.0</td>\n",
       "      <td>2</td>\n",
       "      <td>0</td>\n",
       "    </tr>\n",
       "    <tr>\n",
       "      <th>...</th>\n",
       "      <td>...</td>\n",
       "      <td>...</td>\n",
       "      <td>...</td>\n",
       "      <td>...</td>\n",
       "      <td>...</td>\n",
       "      <td>...</td>\n",
       "      <td>...</td>\n",
       "      <td>...</td>\n",
       "      <td>...</td>\n",
       "      <td>...</td>\n",
       "    </tr>\n",
       "    <tr>\n",
       "      <th>6598</th>\n",
       "      <td>182</td>\n",
       "      <td>9874</td>\n",
       "      <td>2.167252e+05</td>\n",
       "      <td>6.0</td>\n",
       "      <td>1416.252096</td>\n",
       "      <td>6.000000</td>\n",
       "      <td>386.74836</td>\n",
       "      <td>0.0</td>\n",
       "      <td>1</td>\n",
       "      <td>1</td>\n",
       "    </tr>\n",
       "    <tr>\n",
       "      <th>6599</th>\n",
       "      <td>209</td>\n",
       "      <td>595462</td>\n",
       "      <td>2.167252e+05</td>\n",
       "      <td>6.0</td>\n",
       "      <td>1416.252096</td>\n",
       "      <td>6.000000</td>\n",
       "      <td>386.74836</td>\n",
       "      <td>0.0</td>\n",
       "      <td>1</td>\n",
       "      <td>1</td>\n",
       "    </tr>\n",
       "    <tr>\n",
       "      <th>6600</th>\n",
       "      <td>5</td>\n",
       "      <td>14987</td>\n",
       "      <td>2.167252e+05</td>\n",
       "      <td>3.0</td>\n",
       "      <td>1416.252096</td>\n",
       "      <td>3.000000</td>\n",
       "      <td>386.74836</td>\n",
       "      <td>0.0</td>\n",
       "      <td>1</td>\n",
       "      <td>1</td>\n",
       "    </tr>\n",
       "    <tr>\n",
       "      <th>6601</th>\n",
       "      <td>110</td>\n",
       "      <td>2140235</td>\n",
       "      <td>2.167252e+05</td>\n",
       "      <td>1.0</td>\n",
       "      <td>1416.252096</td>\n",
       "      <td>5855.424185</td>\n",
       "      <td>386.74836</td>\n",
       "      <td>1.0</td>\n",
       "      <td>1</td>\n",
       "      <td>1</td>\n",
       "    </tr>\n",
       "    <tr>\n",
       "      <th>6602</th>\n",
       "      <td>165</td>\n",
       "      <td>5797</td>\n",
       "      <td>2.167252e+05</td>\n",
       "      <td>1.0</td>\n",
       "      <td>1416.252096</td>\n",
       "      <td>1.000000</td>\n",
       "      <td>386.74836</td>\n",
       "      <td>0.0</td>\n",
       "      <td>1</td>\n",
       "      <td>1</td>\n",
       "    </tr>\n",
       "  </tbody>\n",
       "</table>\n",
       "<p>6272 rows × 10 columns</p>\n",
       "</div>"
      ],
      "text/plain": [
       "      Country  Population   Total Tests  Total Cases  Total Deaths  \\\n",
       "1         158   145927292  1.831892e+06      36793.0    313.000000   \n",
       "4         200    67844241  4.604370e+05     114217.0  15464.000000   \n",
       "8         197    84230075  5.989330e+05      82329.0   1890.000000   \n",
       "9          93    83862642  3.301370e+05      80868.0   5031.000000   \n",
       "11        152    32915899  1.358950e+05      14420.0    348.000000   \n",
       "...       ...         ...           ...          ...           ...   \n",
       "6598      182        9874  2.167252e+05          6.0   1416.252096   \n",
       "6599      209      595462  2.167252e+05          6.0   1416.252096   \n",
       "6600        5       14987  2.167252e+05          3.0   1416.252096   \n",
       "6601      110     2140235  2.167252e+05          1.0   1416.252096   \n",
       "6602      165        5797  2.167252e+05          1.0   1416.252096   \n",
       "\n",
       "      Total Recovered  Serious or Critical  Active Cases  Day  Month  \n",
       "1         3057.000000              8.00000       33423.0    2      0  \n",
       "4         5855.424185           1559.00000       98409.0    2      0  \n",
       "8        10453.000000           1894.00000       69986.0    2      0  \n",
       "9        55987.000000           3513.00000       19850.0    2      0  \n",
       "11        6684.000000            117.00000        7388.0    2      0  \n",
       "...               ...                  ...           ...  ...    ...  \n",
       "6598         6.000000            386.74836           0.0    1      1  \n",
       "6599         6.000000            386.74836           0.0    1      1  \n",
       "6600         3.000000            386.74836           0.0    1      1  \n",
       "6601      5855.424185            386.74836           1.0    1      1  \n",
       "6602         1.000000            386.74836           0.0    1      1  \n",
       "\n",
       "[6272 rows x 10 columns]"
      ]
     },
     "execution_count": 29,
     "metadata": {},
     "output_type": "execute_result"
    }
   ],
   "source": [
    "from scipy.stats import  zscore\n",
    "z=np.abs(zscore(cd))\n",
    "co=cd[(z<3).all(axis=1)]\n",
    "co"
   ]
  },
  {
   "cell_type": "code",
   "execution_count": 30,
   "metadata": {},
   "outputs": [
    {
     "data": {
      "text/plain": [
       "Country               -0.011884\n",
       "Population             3.880217\n",
       "Total Tests            3.860036\n",
       "Total Cases            5.183936\n",
       "Total Deaths           6.225914\n",
       "Total Recovered        6.921157\n",
       "Serious or Critical    4.274869\n",
       "Active Cases           6.120409\n",
       "Day                    0.109536\n",
       "Month                 -0.314476\n",
       "dtype: float64"
      ]
     },
     "execution_count": 30,
     "metadata": {},
     "output_type": "execute_result"
    }
   ],
   "source": [
    "co.skew()"
   ]
  },
  {
   "cell_type": "code",
   "execution_count": 31,
   "metadata": {},
   "outputs": [],
   "source": [
    "ci=co.copy()"
   ]
  },
  {
   "cell_type": "code",
   "execution_count": 32,
   "metadata": {},
   "outputs": [],
   "source": [
    "ci['Population']=np.log1p(ci['Population'])\n",
    "ci['Total Tests']=np.log1p(ci['Total Tests'])\n",
    "ci['Total Deaths']=np.log1p(ci['Total Deaths'])\n",
    "ci['Total Cases']=np.log1p(ci['Total Cases'])\n",
    "ci['Serious or Critical']=np.log1p(ci['Serious or Critical'])\n",
    "ci['Active Cases']=np.log1p(ci['Active Cases'])"
   ]
  },
  {
   "cell_type": "code",
   "execution_count": 33,
   "metadata": {},
   "outputs": [],
   "source": [
    "ci['Total Recovered']=np.log1p(ci['Total Recovered'])"
   ]
  },
  {
   "cell_type": "code",
   "execution_count": 34,
   "metadata": {},
   "outputs": [
    {
     "data": {
      "text/plain": [
       "(array([5.595e+03, 4.040e+02, 1.360e+02, 6.800e+01, 1.800e+01, 1.400e+01,\n",
       "        1.700e+01, 5.000e+00, 7.000e+00, 8.000e+00]),\n",
       " array([1.000000e+00, 1.380870e+04, 2.761640e+04, 4.142410e+04,\n",
       "        5.523180e+04, 6.903950e+04, 8.284720e+04, 9.665490e+04,\n",
       "        1.104626e+05, 1.242703e+05, 1.380780e+05]),\n",
       " <a list of 10 Patch objects>)"
      ]
     },
     "execution_count": 34,
     "metadata": {},
     "output_type": "execute_result"
    },
    {
     "data": {
      "image/png": "[encoded data removed]",
      "text/plain": [
       "<Figure size 432x288 with 1 Axes>"
      ]
     },
     "metadata": {
      "needs_background": "light"
     },
     "output_type": "display_data"
    }
   ],
   "source": [
    "plt.hist(co['Total Cases'])"
   ]
  },
  {
   "cell_type": "code",
   "execution_count": 35,
   "metadata": {},
   "outputs": [
    {
     "data": {
      "text/plain": [
       "(array([ 130.,  689.,  600.,  876.,  860., 1037.,  723.,  723.,  523.,\n",
       "         111.]),\n",
       " array([ 0.69314718,  1.80739059,  2.921634  ,  4.03587741,  5.15012081,\n",
       "         6.26436422,  7.37860763,  8.49285104,  9.60709445, 10.72133786,\n",
       "        11.83558126]),\n",
       " <a list of 10 Patch objects>)"
      ]
     },
     "execution_count": 35,
     "metadata": {},
     "output_type": "execute_result"
    },
    {
     "data": {
      "image/png": "[encoded data removed]",
      "text/plain": [
       "<Figure size 432x288 with 1 Axes>"
      ]
     },
     "metadata": {
      "needs_background": "light"
     },
     "output_type": "display_data"
    }
   ],
   "source": [
    "plt.hist(ci['Total Cases'])"
   ]
  },
  {
   "cell_type": "code",
   "execution_count": 36,
   "metadata": {},
   "outputs": [
    {
     "data": {
      "text/plain": [
       "(array([5.903e+03, 2.310e+02, 5.600e+01, 4.600e+01, 1.300e+01, 5.000e+00,\n",
       "        1.000e+00, 3.000e+00, 6.000e+00, 8.000e+00]),\n",
       " array([1.0000e+00, 7.3800e+03, 1.4759e+04, 2.2138e+04, 2.9517e+04,\n",
       "        3.6896e+04, 4.4275e+04, 5.1654e+04, 5.9033e+04, 6.6412e+04,\n",
       "        7.3791e+04]),\n",
       " <a list of 10 Patch objects>)"
      ]
     },
     "execution_count": 36,
     "metadata": {},
     "output_type": "execute_result"
    },
    {
     "data": {
      "image/png": "[encoded data removed]",
      "text/plain": [
       "<Figure size 432x288 with 1 Axes>"
      ]
     },
     "metadata": {
      "needs_background": "light"
     },
     "output_type": "display_data"
    }
   ],
   "source": [
    "plt.hist(co['Total Recovered'])"
   ]
  },
  {
   "cell_type": "code",
   "execution_count": 37,
   "metadata": {},
   "outputs": [
    {
     "data": {
      "text/plain": [
       "(array([313., 960., 675., 886., 861., 838., 738., 691., 250.,  60.]),\n",
       " array([ 0.69314718,  1.74473302,  2.79631887,  3.84790471,  4.89949055,\n",
       "         5.95107639,  7.00266223,  8.05424808,  9.10583392, 10.15741976,\n",
       "        11.2090056 ]),\n",
       " <a list of 10 Patch objects>)"
      ]
     },
     "execution_count": 37,
     "metadata": {},
     "output_type": "execute_result"
    },
    {
     "data": {
      "image/png": "[encoded data removed]",
      "text/plain": [
       "<Figure size 432x288 with 1 Axes>"
      ]
     },
     "metadata": {
      "needs_background": "light"
     },
     "output_type": "display_data"
    }
   ],
   "source": [
    "plt.hist(ci['Total Recovered'])"
   ]
  },
  {
   "cell_type": "code",
   "execution_count": 38,
   "metadata": {},
   "outputs": [
    {
     "data": {
      "text/plain": [
       "Country               -0.011884\n",
       "Population            -0.794105\n",
       "Total Tests           -0.647380\n",
       "Total Cases           -0.018856\n",
       "Total Deaths           0.143726\n",
       "Total Recovered        0.064313\n",
       "Serious or Critical   -0.367581\n",
       "Active Cases          -0.080849\n",
       "Day                    0.109536\n",
       "Month                 -0.314476\n",
       "dtype: float64"
      ]
     },
     "execution_count": 38,
     "metadata": {},
     "output_type": "execute_result"
    }
   ],
   "source": [
    "ci.skew()"
   ]
  },
  {
   "cell_type": "code",
   "execution_count": 39,
   "metadata": {},
   "outputs": [],
   "source": [
    "x=ci.drop(['Active Cases'], axis=1)\n",
    "y=ci['Active Cases']"
   ]
  },
  {
   "cell_type": "code",
   "execution_count": 40,
   "metadata": {},
   "outputs": [
    {
     "data": {
      "text/plain": [
       "array([[ 0.85256751,  1.53439348,  1.81523963, ..., -0.8873063 ,\n",
       "        -0.46637111, -1.16948105],\n",
       "       [ 1.5357502 ,  1.22332352,  1.23905492, ...,  1.61279451,\n",
       "        -0.46637111, -1.16948105],\n",
       "       [ 1.48695144,  1.31118961,  1.34877915, ...,  1.70713626,\n",
       "        -0.46637111, -1.16948105],\n",
       "       ...,\n",
       "       [-1.63616943, -2.19555666,  0.92464271, ...,  0.9376819 ,\n",
       "        -0.98180363,  0.85508013],\n",
       "       [ 0.0717873 , -0.18046162,  0.92464271, ...,  0.9376819 ,\n",
       "        -0.98180363,  0.85508013],\n",
       "       [ 0.96643129, -2.5812949 ,  0.92464271, ...,  0.9376819 ,\n",
       "        -0.98180363,  0.85508013]])"
      ]
     },
     "execution_count": 40,
     "metadata": {},
     "output_type": "execute_result"
    }
   ],
   "source": [
    "from sklearn.preprocessing import StandardScaler\n",
    "sd=StandardScaler()\n",
    "x=sd.fit_transform(x)\n",
    "x"
   ]
  },
  {
   "cell_type": "code",
   "execution_count": 41,
   "metadata": {},
   "outputs": [
    {
     "name": "stdout",
     "output_type": "stream",
     "text": [
      "The corresponding value for the rstate 100 to max r2 scr is 0.927628377959695\n"
     ]
    }
   ],
   "source": [
    "from sklearn.linear_model import LinearRegression\n",
    "from sklearn.model_selection import train_test_split\n",
    "from sklearn.metrics import r2_score, mean_squared_error,mean_absolute_error\n",
    "max_scr=0\n",
    "for rstate in range(42,101):\n",
    "    x_train,x_test,y_train,y_test=train_test_split(x,y,random_state=rstate, test_size=0.20)\n",
    "    lr=LinearRegression()\n",
    "    lr.fit(x_train,y_train)\n",
    "    pred_y=lr.predict(x_test)\n",
    "    r2_scr=r2_score(y_test,pred_y)\n",
    "    if r2_scr>max_scr:\n",
    "        max_scr=r2_scr\n",
    "        final_rstate=rstate\n",
    "        \n",
    "print('The corresponding value for the rstate', rstate,'to max r2 scr is',max_scr)"
   ]
  },
  {
   "cell_type": "code",
   "execution_count": 42,
   "metadata": {},
   "outputs": [
    {
     "data": {
      "text/plain": [
       "0.9192504503684175"
      ]
     },
     "execution_count": 42,
     "metadata": {},
     "output_type": "execute_result"
    }
   ],
   "source": [
    "from sklearn.model_selection import cross_val_score\n",
    "crs_val_scr=cross_val_score(lr,x,y,scoring='r2', cv=10).mean()\n",
    "crs_val_scr"
   ]
  },
  {
   "cell_type": "code",
   "execution_count": 43,
   "metadata": {},
   "outputs": [
    {
     "name": "stdout",
     "output_type": "stream",
     "text": [
      "{'alpha': 1}\n",
      "0.9158919109557349\n",
      "{'alpha': 0.01}\n",
      "0.9160571007987899\n"
     ]
    }
   ],
   "source": [
    "from sklearn.model_selection import GridSearchCV\n",
    "from sklearn.linear_model import Lasso, Ridge\n",
    "alpha_value={'alpha':[1,0.1,0.01,0.001]}\n",
    "model=Ridge(),Lasso()\n",
    "for m in model:\n",
    "    grid=GridSearchCV(estimator=m, param_grid=alpha_value, cv=5)\n",
    "    grid.fit(x,y)\n",
    "    print(grid.best_params_)\n",
    "    print(grid.best_score_)"
   ]
  },
  {
   "cell_type": "code",
   "execution_count": 44,
   "metadata": {},
   "outputs": [
    {
     "name": "stdout",
     "output_type": "stream",
     "text": [
      "r2 score 0.922135357922752\n",
      "mean sqaured error 0.6032879710839637\n"
     ]
    }
   ],
   "source": [
    "ls=Lasso(alpha=0.01)\n",
    "ls.fit(x_train,y_train)\n",
    "ls.score(x_train,y_train)\n",
    "pred_y=ls.predict(x_test)\n",
    "r2_scr=r2_score(y_test,pred_y)\n",
    "print('r2 score',r2_scr)\n",
    "print('mean sqaured error', mean_squared_error(y_test,pred_y))"
   ]
  },
  {
   "cell_type": "code",
   "execution_count": 45,
   "metadata": {},
   "outputs": [
    {
     "name": "stdout",
     "output_type": "stream",
     "text": [
      "r2 score 0.9223250827822105\n",
      "mean sqaured error 0.6018180006009134\n"
     ]
    }
   ],
   "source": [
    "rd=Ridge(alpha=1)\n",
    "rd.fit(x_train,y_train)\n",
    "rd.score(x_train,y_train)\n",
    "pred_y=rd.predict(x_test)\n",
    "r2_scr=r2_score(y_test,pred_y)\n",
    "print('r2 score',r2_scr)\n",
    "print('mean sqaured error', mean_squared_error(y_test,pred_y))"
   ]
  },
  {
   "cell_type": "code",
   "execution_count": 48,
   "metadata": {},
   "outputs": [],
   "source": [
    "df1=pd.DataFrame(pred_y)\n",
    "df1.to_csv('lr_prediction.csv')"
   ]
  },
  {
   "cell_type": "code",
   "execution_count": 50,
   "metadata": {},
   "outputs": [
    {
     "data": {
      "text/plain": [
       "['lr_Covid.pkl']"
      ]
     },
     "execution_count": 50,
     "metadata": {},
     "output_type": "execute_result"
    }
   ],
   "source": [
    "import joblib\n",
    "joblib.dump(lr,'lr_Covid.pkl')"
   ]
  },
  {
   "cell_type": "code",
   "execution_count": null,
   "metadata": {},
   "outputs": [],
   "source": []
  },
  {
   "cell_type": "code",
   "execution_count": null,
   "metadata": {},
   "outputs": [],
   "source": []
  },
  {
   "cell_type": "code",
   "execution_count": null,
   "metadata": {},
   "outputs": [],
   "source": []
  },
  {
   "cell_type": "code",
   "execution_count": null,
   "metadata": {},
   "outputs": [],
   "source": []
  },
  {
   "cell_type": "code",
   "execution_count": null,
   "metadata": {},
   "outputs": [],
   "source": []
  },
  {
   "cell_type": "code",
   "execution_count": null,
   "metadata": {},
   "outputs": [],
   "source": []
  },
  {
   "cell_type": "code",
   "execution_count": null,
   "metadata": {},
   "outputs": [],
   "source": []
  },
  {
   "cell_type": "code",
   "execution_count": null,
   "metadata": {},
   "outputs": [],
   "source": []
  },
  {
   "cell_type": "code",
   "execution_count": null,
   "metadata": {},
   "outputs": [],
   "source": []
  },
  {
   "cell_type": "code",
   "execution_count": null,
   "metadata": {},
   "outputs": [],
   "source": []
  },
  {
   "cell_type": "code",
   "execution_count": null,
   "metadata": {},
   "outputs": [],
   "source": []
  },
  {
   "cell_type": "code",
   "execution_count": null,
   "metadata": {},
   "outputs": [],
   "source": []
  },
  {
   "cell_type": "code",
   "execution_count": null,
   "metadata": {},
   "outputs": [],
   "source": []
  },
  {
   "cell_type": "code",
   "execution_count": null,
   "metadata": {},
   "outputs": [],
   "source": []
  },
  {
   "cell_type": "code",
   "execution_count": null,
   "metadata": {},
   "outputs": [],
   "source": []
  },
  {
   "cell_type": "code",
   "execution_count": null,
   "metadata": {},
   "outputs": [],
   "source": []
  },
  {
   "cell_type": "code",
   "execution_count": null,
   "metadata": {},
   "outputs": [],
   "source": []
  },
  {
   "cell_type": "code",
   "execution_count": null,
   "metadata": {},
   "outputs": [],
   "source": []
  },
  {
   "cell_type": "code",
   "execution_count": null,
   "metadata": {},
   "outputs": [],
   "source": []
  },
  {
   "cell_type": "code",
   "execution_count": null,
   "metadata": {},
   "outputs": [],
   "source": []
  },
  {
   "cell_type": "code",
   "execution_count": null,
   "metadata": {},
   "outputs": [],
   "source": []
  },
  {
   "cell_type": "code",
   "execution_count": null,
   "metadata": {},
   "outputs": [],
   "source": []
  },
  {
   "cell_type": "code",
   "execution_count": null,
   "metadata": {},
   "outputs": [],
   "source": []
  },
  {
   "cell_type": "code",
   "execution_count": null,
   "metadata": {},
   "outputs": [],
   "source": []
  }
 ],
 "metadata": {
  "kernelspec": {
   "display_name": "Python 3",
   "language": "python",
   "name": "python3"
  },
  "language_info": {
   "codemirror_mode": {
    "name": "ipython",
    "version": 3
   },
   "file_extension": ".py",
   "mimetype": "text/x-python",
   "name": "python",
   "nbconvert_exporter": "python",
   "pygments_lexer": "ipython3",
   "version": "3.8.3"
  }
 },
 "nbformat": 4,
 "nbformat_minor": 4
}
